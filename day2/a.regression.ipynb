{
  "cells": [
    {
      "cell_type": "markdown",
      "metadata": {
        "id": "Y_R5L20uZad9"
      },
      "source": [
        "[![Open In Colab](https://colab.research.google.com/assets/colab-badge.svg)](https://colab.research.google.com/github/andreaaraldo/machine-learning-for-networks/blob/master/02.regression/a.regression.ipynb)"
      ]
    },
    {
      "cell_type": "code",
      "execution_count": 1,
      "metadata": {
        "colab": {
          "base_uri": "https://localhost:8080/"
        },
        "id": "TRNYr5HIZadw",
        "outputId": "3e021475-4c26-4cf4-bc93-7ea5d6ef964a"
      },
      "outputs": [
        {
          "name": "stdout",
          "output_type": "stream",
          "text": [
            "--2022-10-03 15:29:48--  https://raw.githubusercontent.com/andreaaraldo/machine-learning-for-networks/master/course_library/andrea_models.py\n",
            "Resolving raw.githubusercontent.com (raw.githubusercontent.com)... 185.199.108.133, 185.199.110.133, 185.199.111.133, ...\n",
            "Connecting to raw.githubusercontent.com (raw.githubusercontent.com)|185.199.108.133|:443... connected.\n",
            "HTTP request sent, awaiting response... 200 OK\n",
            "Length: 3190 (3.1K) [text/plain]\n",
            "Saving to: ‘andrea_models.py’\n",
            "\n",
            "andrea_models.py    100%[===================>]   3.12K  --.-KB/s    in 0s      \n",
            "\n",
            "2022-10-03 15:29:49 (6.67 MB/s) - ‘andrea_models.py’ saved [3190/3190]\n",
            "\n",
            "--2022-10-03 15:29:50--  https://raw.githubusercontent.com/andreaaraldo/machine-learning-for-networks/master/course_library/feature_engineering.py\n",
            "Resolving raw.githubusercontent.com (raw.githubusercontent.com)... 185.199.109.133, 185.199.111.133, 185.199.110.133, ...\n",
            "Connecting to raw.githubusercontent.com (raw.githubusercontent.com)|185.199.109.133|:443... connected.\n",
            "HTTP request sent, awaiting response... 200 OK\n",
            "Length: 2206 (2.2K) [text/plain]\n",
            "Saving to: ‘feature_engineering.py’\n",
            "\n",
            "feature_engineering 100%[===================>]   2.15K  --.-KB/s    in 0s      \n",
            "\n",
            "2022-10-03 15:29:50 (4.74 MB/s) - ‘feature_engineering.py’ saved [2206/2206]\n",
            "\n"
          ]
        }
      ],
      "source": [
        "import pandas as pd # For dataframes (tables)\n",
        "import numpy as np # For arange\n",
        "import matplotlib.pyplot as plt # For plots\n",
        "%matplotlib inline\n",
        "from sklearn.model_selection import train_test_split\n",
        "from sklearn.metrics import mean_squared_error\n",
        "import math # for sqrt\n",
        "from sklearn.model_selection import cross_val_score, KFold\n",
        "import pickle # to serialize/deserialize objects\n",
        "\n",
        "from statistics import mean\n",
        "\n",
        "\n",
        "## Download the code I prepared for you\n",
        "!wget https://raw.githubusercontent.com/andreaaraldo/machine-learning-for-networks/master/course_library/andrea_models.py\n",
        "!wget https://raw.githubusercontent.com/andreaaraldo/machine-learning-for-networks/master/course_library/feature_engineering.py\n",
        "\n",
        "from andrea_models import AndreaLinearRegression # In the course library"
      ]
    },
    {
      "cell_type": "code",
      "execution_count": 2,
      "metadata": {
        "id": "JoPc-IhQn4nj"
      },
      "outputs": [],
      "source": [
        "savefigures=False"
      ]
    },
    {
      "cell_type": "code",
      "execution_count": 3,
      "metadata": {
        "colab": {
          "base_uri": "https://localhost:8080/"
        },
        "id": "ur2YR7XIZaeD",
        "outputId": "15a0c56f-85c3-4fa0-b30a-33c35b166a86"
      },
      "outputs": [
        {
          "name": "stdout",
          "output_type": "stream",
          "text": [
            "--2020-11-24 09:18:30--  https://raw.githubusercontent.com/andreaaraldo/machine-learning-for-networks/master/processed_datasets/requet/df.A_2.csv\n",
            "Resolving raw.githubusercontent.com (raw.githubusercontent.com)... 151.101.0.133, 151.101.64.133, 151.101.128.133, ...\n",
            "Connecting to raw.githubusercontent.com (raw.githubusercontent.com)|151.101.0.133|:443... connected.\n",
            "HTTP request sent, awaiting response... 200 OK\n",
            "Length: 315832 (308K) [text/plain]\n",
            "Saving to: ‘df.A_2.csv’\n",
            "\n",
            "\rdf.A_2.csv            0%[                    ]       0  --.-KB/s               \rdf.A_2.csv          100%[===================>] 308.43K  --.-KB/s    in 0.02s   \n",
            "\n",
            "2020-11-24 09:18:30 (13.0 MB/s) - ‘df.A_2.csv’ saved [315832/315832]\n",
            "\n"
          ]
        }
      ],
      "source": [
        "dataset_to_use = 'A'\n",
        "mydatasets_folder = \"https://raw.githubusercontent.com/andreaaraldo/machine-learning-for-networks/master/processed_datasets/requet/\"\n",
        "filename = \"df.\"+ dataset_to_use+\"_2.csv\"\n",
        "complete_name = mydatasets_folder+filename\n",
        "!wget $complete_name"
      ]
    },
    {
      "cell_type": "code",
      "execution_count": 4,
      "metadata": {
        "colab": {
          "base_uri": "https://localhost:8080/"
        },
        "id": "AF4ru9aJcBeW",
        "outputId": "c87465c4-313b-4cb1-ab7d-41a7cb6c045f"
      },
      "outputs": [
        {
          "name": "stdout",
          "output_type": "stream",
          "text": [
            "andrea_models.py  df.A_2.csv  feature_engineering.py  __pycache__  sample_data\n"
          ]
        }
      ],
      "source": [
        "!ls"
      ]
    },
    {
      "cell_type": "code",
      "execution_count": 5,
      "metadata": {
        "id": "QUK4YMixb70D"
      },
      "outputs": [],
      "source": [
        "df = pd.read_csv(filename)"
      ]
    },
    {
      "cell_type": "code",
      "execution_count": 6,
      "metadata": {
        "colab": {
          "base_uri": "https://localhost:8080/",
          "height": 256
        },
        "id": "HDETEnsOZaeM",
        "outputId": "45039fbd-437b-4d08-9517-eac0c160146f",
        "scrolled": true
      },
      "outputs": [
        {
          "data": {
            "text/html": [
              "<div>\n",
              "<style scoped>\n",
              "    .dataframe tbody tr th:only-of-type {\n",
              "        vertical-align: middle;\n",
              "    }\n",
              "\n",
              "    .dataframe tbody tr th {\n",
              "        vertical-align: top;\n",
              "    }\n",
              "\n",
              "    .dataframe thead th {\n",
              "        text-align: right;\n",
              "    }\n",
              "</style>\n",
              "<table border=\"1\" class=\"dataframe\">\n",
              "  <thead>\n",
              "    <tr style=\"text-align: right;\">\n",
              "      <th></th>\n",
              "      <th>RelativeTime</th>\n",
              "      <th>PacketsSent</th>\n",
              "      <th>PacketsReceived</th>\n",
              "      <th>BytesSent</th>\n",
              "      <th>BytesReceived</th>\n",
              "      <th>IPSrc0</th>\n",
              "      <th>IPDst0</th>\n",
              "      <th>Protocol0</th>\n",
              "      <th>PacketsSent0</th>\n",
              "      <th>PacketsReceived0</th>\n",
              "      <th>BytesSent0</th>\n",
              "      <th>BytesReceived0</th>\n",
              "      <th>IPSrc1</th>\n",
              "      <th>IPDst1</th>\n",
              "      <th>Protocol1</th>\n",
              "      <th>PacketsSent1</th>\n",
              "      <th>PacketsReceived1</th>\n",
              "      <th>BytesSent1</th>\n",
              "      <th>BytesReceived1</th>\n",
              "      <th>IPSrc2</th>\n",
              "      <th>IPDst2</th>\n",
              "      <th>Protocol2</th>\n",
              "      <th>PacketsSent2</th>\n",
              "      <th>PacketsReceived2</th>\n",
              "      <th>BytesSent2</th>\n",
              "      <th>BytesReceived2</th>\n",
              "      <th>IPSrc3</th>\n",
              "      <th>IPDst3</th>\n",
              "      <th>Protocol3</th>\n",
              "      <th>PacketsSent3</th>\n",
              "      <th>PacketsReceived3</th>\n",
              "      <th>BytesSent3</th>\n",
              "      <th>BytesReceived3</th>\n",
              "      <th>IPSrc4</th>\n",
              "      <th>IPDst4</th>\n",
              "      <th>Protocol4</th>\n",
              "      <th>PacketsSent4</th>\n",
              "      <th>PacketsReceived4</th>\n",
              "      <th>BytesSent4</th>\n",
              "      <th>BytesReceived4</th>\n",
              "      <th>...</th>\n",
              "      <th>IPDst23</th>\n",
              "      <th>Protocol23</th>\n",
              "      <th>PacketsSent23</th>\n",
              "      <th>PacketsReceived23</th>\n",
              "      <th>BytesSent23</th>\n",
              "      <th>BytesReceived23</th>\n",
              "      <th>IPSrc24</th>\n",
              "      <th>IPDst24</th>\n",
              "      <th>Protocol24</th>\n",
              "      <th>PacketsSent24</th>\n",
              "      <th>PacketsReceived24</th>\n",
              "      <th>BytesSent24</th>\n",
              "      <th>BytesReceived24</th>\n",
              "      <th>IPSrc25</th>\n",
              "      <th>IPDst25</th>\n",
              "      <th>Protocol25</th>\n",
              "      <th>PacketsSent25</th>\n",
              "      <th>PacketsReceived25</th>\n",
              "      <th>BytesSent25</th>\n",
              "      <th>BytesReceived25</th>\n",
              "      <th>Buffering</th>\n",
              "      <th>Paused</th>\n",
              "      <th>Playing</th>\n",
              "      <th>CollectData</th>\n",
              "      <th>EpochTime</th>\n",
              "      <th>StartTime</th>\n",
              "      <th>PlaybackProgress</th>\n",
              "      <th>Length</th>\n",
              "      <th>BufferHealth</th>\n",
              "      <th>BufferProgress</th>\n",
              "      <th>BufferValid</th>\n",
              "      <th>KBytesReceived</th>\n",
              "      <th>label</th>\n",
              "      <th>label_num</th>\n",
              "      <th>KBytesReceived_log</th>\n",
              "      <th>PacketsSent_log</th>\n",
              "      <th>PacketsReceived_log</th>\n",
              "      <th>BytesSent_log</th>\n",
              "      <th>BytesReceived_log</th>\n",
              "      <th>BufferProgress_log</th>\n",
              "    </tr>\n",
              "  </thead>\n",
              "  <tbody>\n",
              "    <tr>\n",
              "      <th>0</th>\n",
              "      <td>6.1</td>\n",
              "      <td>29</td>\n",
              "      <td>57</td>\n",
              "      <td>2372</td>\n",
              "      <td>79344</td>\n",
              "      <td>192.168.1.190</td>\n",
              "      <td>173.194.55.23</td>\n",
              "      <td>QUIC</td>\n",
              "      <td>29</td>\n",
              "      <td>57</td>\n",
              "      <td>2372</td>\n",
              "      <td>79344</td>\n",
              "      <td>192.168.1.190</td>\n",
              "      <td>172.217.11.3</td>\n",
              "      <td>0</td>\n",
              "      <td>0</td>\n",
              "      <td>0</td>\n",
              "      <td>0</td>\n",
              "      <td>0</td>\n",
              "      <td>192.168.1.190</td>\n",
              "      <td>172.217.6.225</td>\n",
              "      <td>0</td>\n",
              "      <td>0</td>\n",
              "      <td>0</td>\n",
              "      <td>0</td>\n",
              "      <td>0</td>\n",
              "      <td>192.168.1.190</td>\n",
              "      <td>172.217.11.35</td>\n",
              "      <td>0</td>\n",
              "      <td>0</td>\n",
              "      <td>0</td>\n",
              "      <td>0</td>\n",
              "      <td>0</td>\n",
              "      <td>192.168.1.190</td>\n",
              "      <td>172.217.12.174</td>\n",
              "      <td>0</td>\n",
              "      <td>0</td>\n",
              "      <td>0</td>\n",
              "      <td>0</td>\n",
              "      <td>0</td>\n",
              "      <td>...</td>\n",
              "      <td>0</td>\n",
              "      <td>0</td>\n",
              "      <td>0</td>\n",
              "      <td>0</td>\n",
              "      <td>0</td>\n",
              "      <td>0</td>\n",
              "      <td>0</td>\n",
              "      <td>0</td>\n",
              "      <td>0</td>\n",
              "      <td>0</td>\n",
              "      <td>0</td>\n",
              "      <td>0</td>\n",
              "      <td>0</td>\n",
              "      <td>0</td>\n",
              "      <td>0.0.0.0</td>\n",
              "      <td>0</td>\n",
              "      <td>0</td>\n",
              "      <td>0</td>\n",
              "      <td>0</td>\n",
              "      <td>0</td>\n",
              "      <td>0</td>\n",
              "      <td>0</td>\n",
              "      <td>1</td>\n",
              "      <td>0</td>\n",
              "      <td>1520324868397</td>\n",
              "      <td>1520324862555</td>\n",
              "      <td>0.008</td>\n",
              "      <td>861.841</td>\n",
              "      <td>4.454</td>\n",
              "      <td>0.005177</td>\n",
              "      <td>True</td>\n",
              "      <td>79.344</td>\n",
              "      <td>q480p</td>\n",
              "      <td>480</td>\n",
              "      <td>4.373793</td>\n",
              "      <td>3.401197</td>\n",
              "      <td>4.060443</td>\n",
              "      <td>7.771910</td>\n",
              "      <td>11.281561</td>\n",
              "      <td>0.005164</td>\n",
              "    </tr>\n",
              "    <tr>\n",
              "      <th>1</th>\n",
              "      <td>5.8</td>\n",
              "      <td>7</td>\n",
              "      <td>39</td>\n",
              "      <td>625</td>\n",
              "      <td>52973</td>\n",
              "      <td>192.168.1.190</td>\n",
              "      <td>74.125.155.199</td>\n",
              "      <td>QUIC</td>\n",
              "      <td>4</td>\n",
              "      <td>36</td>\n",
              "      <td>384</td>\n",
              "      <td>50112</td>\n",
              "      <td>192.168.1.190</td>\n",
              "      <td>172.217.11.33</td>\n",
              "      <td>QUIC</td>\n",
              "      <td>2</td>\n",
              "      <td>2</td>\n",
              "      <td>159</td>\n",
              "      <td>1469</td>\n",
              "      <td>192.168.1.190</td>\n",
              "      <td>172.217.11.35</td>\n",
              "      <td>0</td>\n",
              "      <td>0</td>\n",
              "      <td>0</td>\n",
              "      <td>0</td>\n",
              "      <td>0</td>\n",
              "      <td>192.168.1.190</td>\n",
              "      <td>172.217.11.14</td>\n",
              "      <td>0</td>\n",
              "      <td>0</td>\n",
              "      <td>0</td>\n",
              "      <td>0</td>\n",
              "      <td>0</td>\n",
              "      <td>192.168.1.190</td>\n",
              "      <td>172.217.12.206</td>\n",
              "      <td>0</td>\n",
              "      <td>0</td>\n",
              "      <td>0</td>\n",
              "      <td>0</td>\n",
              "      <td>0</td>\n",
              "      <td>...</td>\n",
              "      <td>0</td>\n",
              "      <td>0</td>\n",
              "      <td>0</td>\n",
              "      <td>0</td>\n",
              "      <td>0</td>\n",
              "      <td>0</td>\n",
              "      <td>0</td>\n",
              "      <td>0</td>\n",
              "      <td>0</td>\n",
              "      <td>0</td>\n",
              "      <td>0</td>\n",
              "      <td>0</td>\n",
              "      <td>0</td>\n",
              "      <td>0</td>\n",
              "      <td>0.0.0.0</td>\n",
              "      <td>0</td>\n",
              "      <td>0</td>\n",
              "      <td>0</td>\n",
              "      <td>0</td>\n",
              "      <td>0</td>\n",
              "      <td>0</td>\n",
              "      <td>0</td>\n",
              "      <td>1</td>\n",
              "      <td>0</td>\n",
              "      <td>1521147321127</td>\n",
              "      <td>1521147316421</td>\n",
              "      <td>0.007</td>\n",
              "      <td>817.841</td>\n",
              "      <td>3.955</td>\n",
              "      <td>0.004844</td>\n",
              "      <td>True</td>\n",
              "      <td>52.973</td>\n",
              "      <td>q360p</td>\n",
              "      <td>360</td>\n",
              "      <td>3.969782</td>\n",
              "      <td>2.079442</td>\n",
              "      <td>3.688879</td>\n",
              "      <td>6.439350</td>\n",
              "      <td>10.877557</td>\n",
              "      <td>0.004833</td>\n",
              "    </tr>\n",
              "    <tr>\n",
              "      <th>2</th>\n",
              "      <td>7.3</td>\n",
              "      <td>16</td>\n",
              "      <td>23</td>\n",
              "      <td>1056</td>\n",
              "      <td>34178</td>\n",
              "      <td>192.168.1.190</td>\n",
              "      <td>74.125.155.201</td>\n",
              "      <td>TCP</td>\n",
              "      <td>16</td>\n",
              "      <td>23</td>\n",
              "      <td>1056</td>\n",
              "      <td>34178</td>\n",
              "      <td>192.168.1.190</td>\n",
              "      <td>172.217.11.1</td>\n",
              "      <td>0</td>\n",
              "      <td>0</td>\n",
              "      <td>0</td>\n",
              "      <td>0</td>\n",
              "      <td>0</td>\n",
              "      <td>192.168.1.190</td>\n",
              "      <td>172.217.11.3</td>\n",
              "      <td>0</td>\n",
              "      <td>0</td>\n",
              "      <td>0</td>\n",
              "      <td>0</td>\n",
              "      <td>0</td>\n",
              "      <td>192.168.1.190</td>\n",
              "      <td>216.58.219.206</td>\n",
              "      <td>0</td>\n",
              "      <td>0</td>\n",
              "      <td>0</td>\n",
              "      <td>0</td>\n",
              "      <td>0</td>\n",
              "      <td>192.168.1.190</td>\n",
              "      <td>216.58.217.99</td>\n",
              "      <td>0</td>\n",
              "      <td>0</td>\n",
              "      <td>0</td>\n",
              "      <td>0</td>\n",
              "      <td>0</td>\n",
              "      <td>...</td>\n",
              "      <td>0</td>\n",
              "      <td>0</td>\n",
              "      <td>0</td>\n",
              "      <td>0</td>\n",
              "      <td>0</td>\n",
              "      <td>0</td>\n",
              "      <td>192.168.1.190</td>\n",
              "      <td>0</td>\n",
              "      <td>0</td>\n",
              "      <td>0</td>\n",
              "      <td>0</td>\n",
              "      <td>0</td>\n",
              "      <td>0</td>\n",
              "      <td>192.168.1.190</td>\n",
              "      <td>0.0.0.0</td>\n",
              "      <td>0</td>\n",
              "      <td>0</td>\n",
              "      <td>0</td>\n",
              "      <td>0</td>\n",
              "      <td>0</td>\n",
              "      <td>0</td>\n",
              "      <td>0</td>\n",
              "      <td>1</td>\n",
              "      <td>0</td>\n",
              "      <td>1516218797937</td>\n",
              "      <td>1516218790859</td>\n",
              "      <td>0.004</td>\n",
              "      <td>623.401</td>\n",
              "      <td>3.417</td>\n",
              "      <td>0.005488</td>\n",
              "      <td>True</td>\n",
              "      <td>34.178</td>\n",
              "      <td>q720p</td>\n",
              "      <td>720</td>\n",
              "      <td>3.531582</td>\n",
              "      <td>2.833213</td>\n",
              "      <td>3.178054</td>\n",
              "      <td>6.963190</td>\n",
              "      <td>10.439367</td>\n",
              "      <td>0.005473</td>\n",
              "    </tr>\n",
              "    <tr>\n",
              "      <th>3</th>\n",
              "      <td>39.2</td>\n",
              "      <td>14</td>\n",
              "      <td>29</td>\n",
              "      <td>3377</td>\n",
              "      <td>36821</td>\n",
              "      <td>192.168.1.190</td>\n",
              "      <td>172.217.135.40</td>\n",
              "      <td>0</td>\n",
              "      <td>0</td>\n",
              "      <td>0</td>\n",
              "      <td>0</td>\n",
              "      <td>0</td>\n",
              "      <td>192.168.1.190</td>\n",
              "      <td>173.194.184.73</td>\n",
              "      <td>QUIC</td>\n",
              "      <td>11</td>\n",
              "      <td>28</td>\n",
              "      <td>2257</td>\n",
              "      <td>36767</td>\n",
              "      <td>192.168.1.190</td>\n",
              "      <td>172.217.11.35</td>\n",
              "      <td>0</td>\n",
              "      <td>0</td>\n",
              "      <td>0</td>\n",
              "      <td>0</td>\n",
              "      <td>0</td>\n",
              "      <td>192.168.1.190</td>\n",
              "      <td>172.217.12.206</td>\n",
              "      <td>QUIC</td>\n",
              "      <td>2</td>\n",
              "      <td>0</td>\n",
              "      <td>1054</td>\n",
              "      <td>0</td>\n",
              "      <td>192.168.1.190</td>\n",
              "      <td>172.217.11.1</td>\n",
              "      <td>0</td>\n",
              "      <td>0</td>\n",
              "      <td>0</td>\n",
              "      <td>0</td>\n",
              "      <td>0</td>\n",
              "      <td>...</td>\n",
              "      <td>0</td>\n",
              "      <td>0</td>\n",
              "      <td>0</td>\n",
              "      <td>0</td>\n",
              "      <td>0</td>\n",
              "      <td>0</td>\n",
              "      <td>0</td>\n",
              "      <td>0</td>\n",
              "      <td>0</td>\n",
              "      <td>0</td>\n",
              "      <td>0</td>\n",
              "      <td>0</td>\n",
              "      <td>0</td>\n",
              "      <td>0</td>\n",
              "      <td>0.0.0.0</td>\n",
              "      <td>0</td>\n",
              "      <td>0</td>\n",
              "      <td>0</td>\n",
              "      <td>0</td>\n",
              "      <td>0</td>\n",
              "      <td>0</td>\n",
              "      <td>0</td>\n",
              "      <td>1</td>\n",
              "      <td>0</td>\n",
              "      <td>1521736968995</td>\n",
              "      <td>1521736937485</td>\n",
              "      <td>0.004</td>\n",
              "      <td>544.601</td>\n",
              "      <td>5.067</td>\n",
              "      <td>0.009311</td>\n",
              "      <td>True</td>\n",
              "      <td>36.821</td>\n",
              "      <td>q144p</td>\n",
              "      <td>144</td>\n",
              "      <td>3.606068</td>\n",
              "      <td>2.708050</td>\n",
              "      <td>3.401197</td>\n",
              "      <td>8.125039</td>\n",
              "      <td>10.513851</td>\n",
              "      <td>0.009268</td>\n",
              "    </tr>\n",
              "    <tr>\n",
              "      <th>4</th>\n",
              "      <td>4.6</td>\n",
              "      <td>9</td>\n",
              "      <td>77</td>\n",
              "      <td>900</td>\n",
              "      <td>104389</td>\n",
              "      <td>192.168.1.190</td>\n",
              "      <td>173.194.184.103</td>\n",
              "      <td>QUIC</td>\n",
              "      <td>9</td>\n",
              "      <td>77</td>\n",
              "      <td>900</td>\n",
              "      <td>104389</td>\n",
              "      <td>192.168.1.190</td>\n",
              "      <td>172.217.11.3</td>\n",
              "      <td>0</td>\n",
              "      <td>0</td>\n",
              "      <td>0</td>\n",
              "      <td>0</td>\n",
              "      <td>0</td>\n",
              "      <td>192.168.1.190</td>\n",
              "      <td>172.217.11.33</td>\n",
              "      <td>0</td>\n",
              "      <td>0</td>\n",
              "      <td>0</td>\n",
              "      <td>0</td>\n",
              "      <td>0</td>\n",
              "      <td>192.168.1.190</td>\n",
              "      <td>172.217.11.35</td>\n",
              "      <td>0</td>\n",
              "      <td>0</td>\n",
              "      <td>0</td>\n",
              "      <td>0</td>\n",
              "      <td>0</td>\n",
              "      <td>192.168.1.190</td>\n",
              "      <td>172.217.7.14</td>\n",
              "      <td>0</td>\n",
              "      <td>0</td>\n",
              "      <td>0</td>\n",
              "      <td>0</td>\n",
              "      <td>0</td>\n",
              "      <td>...</td>\n",
              "      <td>0</td>\n",
              "      <td>0</td>\n",
              "      <td>0</td>\n",
              "      <td>0</td>\n",
              "      <td>0</td>\n",
              "      <td>0</td>\n",
              "      <td>0</td>\n",
              "      <td>0</td>\n",
              "      <td>0</td>\n",
              "      <td>0</td>\n",
              "      <td>0</td>\n",
              "      <td>0</td>\n",
              "      <td>0</td>\n",
              "      <td>0</td>\n",
              "      <td>0.0.0.0</td>\n",
              "      <td>0</td>\n",
              "      <td>0</td>\n",
              "      <td>0</td>\n",
              "      <td>0</td>\n",
              "      <td>0</td>\n",
              "      <td>0</td>\n",
              "      <td>0</td>\n",
              "      <td>1</td>\n",
              "      <td>0</td>\n",
              "      <td>1521135591235</td>\n",
              "      <td>1521135586918</td>\n",
              "      <td>0.005</td>\n",
              "      <td>552.961</td>\n",
              "      <td>3.656</td>\n",
              "      <td>0.006621</td>\n",
              "      <td>True</td>\n",
              "      <td>104.389</td>\n",
              "      <td>q360p</td>\n",
              "      <td>360</td>\n",
              "      <td>4.648124</td>\n",
              "      <td>2.302585</td>\n",
              "      <td>4.356709</td>\n",
              "      <td>6.803505</td>\n",
              "      <td>11.555889</td>\n",
              "      <td>0.006599</td>\n",
              "    </tr>\n",
              "  </tbody>\n",
              "</table>\n",
              "<p>5 rows × 207 columns</p>\n",
              "</div>"
            ],
            "text/plain": [
              "   RelativeTime  PacketsSent  ...  BytesReceived_log  BufferProgress_log\n",
              "0           6.1           29  ...          11.281561            0.005164\n",
              "1           5.8            7  ...          10.877557            0.004833\n",
              "2           7.3           16  ...          10.439367            0.005473\n",
              "3          39.2           14  ...          10.513851            0.009268\n",
              "4           4.6            9  ...          11.555889            0.006599\n",
              "\n",
              "[5 rows x 207 columns]"
            ]
          },
          "execution_count": 6,
          "metadata": {
            "tags": []
          },
          "output_type": "execute_result"
        }
      ],
      "source": [
        "df.head()"
      ]
    },
    {
      "cell_type": "code",
      "execution_count": 7,
      "metadata": {
        "colab": {
          "base_uri": "https://localhost:8080/"
        },
        "id": "tWOsCMFiZaeT",
        "outputId": "aeb1c203-4fe7-48f0-fec6-471d87d121d0",
        "scrolled": true
      },
      "outputs": [
        {
          "name": "stdout",
          "output_type": "stream",
          "text": [
            "<class 'pandas.core.frame.DataFrame'>\n",
            "RangeIndex: 292 entries, 0 to 291\n",
            "Data columns (total 207 columns):\n",
            " #   Column               Dtype  \n",
            "---  ------               -----  \n",
            " 0   RelativeTime         float64\n",
            " 1   PacketsSent          int64  \n",
            " 2   PacketsReceived      int64  \n",
            " 3   BytesSent            int64  \n",
            " 4   BytesReceived        int64  \n",
            " 5   IPSrc0               object \n",
            " 6   IPDst0               object \n",
            " 7   Protocol0            object \n",
            " 8   PacketsSent0         int64  \n",
            " 9   PacketsReceived0     int64  \n",
            " 10  BytesSent0           int64  \n",
            " 11  BytesReceived0       int64  \n",
            " 12  IPSrc1               object \n",
            " 13  IPDst1               object \n",
            " 14  Protocol1            object \n",
            " 15  PacketsSent1         int64  \n",
            " 16  PacketsReceived1     int64  \n",
            " 17  BytesSent1           int64  \n",
            " 18  BytesReceived1       int64  \n",
            " 19  IPSrc2               object \n",
            " 20  IPDst2               object \n",
            " 21  Protocol2            object \n",
            " 22  PacketsSent2         int64  \n",
            " 23  PacketsReceived2     int64  \n",
            " 24  BytesSent2           int64  \n",
            " 25  BytesReceived2       int64  \n",
            " 26  IPSrc3               object \n",
            " 27  IPDst3               object \n",
            " 28  Protocol3            object \n",
            " 29  PacketsSent3         int64  \n",
            " 30  PacketsReceived3     int64  \n",
            " 31  BytesSent3           int64  \n",
            " 32  BytesReceived3       int64  \n",
            " 33  IPSrc4               object \n",
            " 34  IPDst4               object \n",
            " 35  Protocol4            object \n",
            " 36  PacketsSent4         int64  \n",
            " 37  PacketsReceived4     int64  \n",
            " 38  BytesSent4           int64  \n",
            " 39  BytesReceived4       int64  \n",
            " 40  IPSrc5               object \n",
            " 41  IPDst5               object \n",
            " 42  Protocol5            object \n",
            " 43  PacketsSent5         int64  \n",
            " 44  PacketsReceived5     int64  \n",
            " 45  BytesSent5           int64  \n",
            " 46  BytesReceived5       int64  \n",
            " 47  IPSrc6               object \n",
            " 48  IPDst6               object \n",
            " 49  Protocol6            object \n",
            " 50  PacketsSent6         int64  \n",
            " 51  PacketsReceived6     int64  \n",
            " 52  BytesSent6           int64  \n",
            " 53  BytesReceived6       int64  \n",
            " 54  IPSrc7               object \n",
            " 55  IPDst7               object \n",
            " 56  Protocol7            object \n",
            " 57  PacketsSent7         int64  \n",
            " 58  PacketsReceived7     int64  \n",
            " 59  BytesSent7           int64  \n",
            " 60  BytesReceived7       int64  \n",
            " 61  IPSrc8               object \n",
            " 62  IPDst8               object \n",
            " 63  Protocol8            object \n",
            " 64  PacketsSent8         int64  \n",
            " 65  PacketsReceived8     int64  \n",
            " 66  BytesSent8           int64  \n",
            " 67  BytesReceived8       int64  \n",
            " 68  IPSrc9               object \n",
            " 69  IPDst9               object \n",
            " 70  Protocol9            object \n",
            " 71  PacketsSent9         int64  \n",
            " 72  PacketsReceived9     int64  \n",
            " 73  BytesSent9           int64  \n",
            " 74  BytesReceived9       int64  \n",
            " 75  IPSrc10              object \n",
            " 76  IPDst10              object \n",
            " 77  Protocol10           int64  \n",
            " 78  PacketsSent10        int64  \n",
            " 79  PacketsReceived10    int64  \n",
            " 80  BytesSent10          int64  \n",
            " 81  BytesReceived10      int64  \n",
            " 82  IPSrc11              object \n",
            " 83  IPDst11              object \n",
            " 84  Protocol11           int64  \n",
            " 85  PacketsSent11        int64  \n",
            " 86  PacketsReceived11    int64  \n",
            " 87  BytesSent11          int64  \n",
            " 88  BytesReceived11      int64  \n",
            " 89  IPSrc12              object \n",
            " 90  IPDst12              object \n",
            " 91  Protocol12           object \n",
            " 92  PacketsSent12        int64  \n",
            " 93  PacketsReceived12    int64  \n",
            " 94  BytesSent12          int64  \n",
            " 95  BytesReceived12      int64  \n",
            " 96  IPSrc13              object \n",
            " 97  IPDst13              object \n",
            " 98  Protocol13           object \n",
            " 99  PacketsSent13        int64  \n",
            " 100 PacketsReceived13    int64  \n",
            " 101 BytesSent13          int64  \n",
            " 102 BytesReceived13      int64  \n",
            " 103 IPSrc14              object \n",
            " 104 IPDst14              object \n",
            " 105 Protocol14           int64  \n",
            " 106 PacketsSent14        int64  \n",
            " 107 PacketsReceived14    int64  \n",
            " 108 BytesSent14          int64  \n",
            " 109 BytesReceived14      int64  \n",
            " 110 IPSrc15              object \n",
            " 111 IPDst15              object \n",
            " 112 Protocol15           object \n",
            " 113 PacketsSent15        int64  \n",
            " 114 PacketsReceived15    int64  \n",
            " 115 BytesSent15          int64  \n",
            " 116 BytesReceived15      int64  \n",
            " 117 IPSrc16              object \n",
            " 118 IPDst16              object \n",
            " 119 Protocol16           int64  \n",
            " 120 PacketsSent16        int64  \n",
            " 121 PacketsReceived16    int64  \n",
            " 122 BytesSent16          int64  \n",
            " 123 BytesReceived16      int64  \n",
            " 124 IPSrc17              object \n",
            " 125 IPDst17              object \n",
            " 126 Protocol17           int64  \n",
            " 127 PacketsSent17        int64  \n",
            " 128 PacketsReceived17    int64  \n",
            " 129 BytesSent17          int64  \n",
            " 130 BytesReceived17      int64  \n",
            " 131 IPSrc18              object \n",
            " 132 IPDst18              object \n",
            " 133 Protocol18           int64  \n",
            " 134 PacketsSent18        int64  \n",
            " 135 PacketsReceived18    int64  \n",
            " 136 BytesSent18          int64  \n",
            " 137 BytesReceived18      int64  \n",
            " 138 IPSrc19              object \n",
            " 139 IPDst19              object \n",
            " 140 Protocol19           int64  \n",
            " 141 PacketsSent19        int64  \n",
            " 142 PacketsReceived19    int64  \n",
            " 143 BytesSent19          int64  \n",
            " 144 BytesReceived19      int64  \n",
            " 145 IPSrc20              object \n",
            " 146 IPDst20              object \n",
            " 147 Protocol20           int64  \n",
            " 148 PacketsSent20        int64  \n",
            " 149 PacketsReceived20    int64  \n",
            " 150 BytesSent20          int64  \n",
            " 151 BytesReceived20      int64  \n",
            " 152 IPSrc21              object \n",
            " 153 IPDst21              object \n",
            " 154 Protocol21           int64  \n",
            " 155 PacketsSent21        int64  \n",
            " 156 PacketsReceived21    int64  \n",
            " 157 BytesSent21          int64  \n",
            " 158 BytesReceived21      int64  \n",
            " 159 IPSrc22              object \n",
            " 160 IPDst22              object \n",
            " 161 Protocol22           int64  \n",
            " 162 PacketsSent22        int64  \n",
            " 163 PacketsReceived22    int64  \n",
            " 164 BytesSent22          int64  \n",
            " 165 BytesReceived22      int64  \n",
            " 166 IPSrc23              object \n",
            " 167 IPDst23              object \n",
            " 168 Protocol23           int64  \n",
            " 169 PacketsSent23        int64  \n",
            " 170 PacketsReceived23    int64  \n",
            " 171 BytesSent23          int64  \n",
            " 172 BytesReceived23      int64  \n",
            " 173 IPSrc24              object \n",
            " 174 IPDst24              object \n",
            " 175 Protocol24           int64  \n",
            " 176 PacketsSent24        int64  \n",
            " 177 PacketsReceived24    int64  \n",
            " 178 BytesSent24          int64  \n",
            " 179 BytesReceived24      int64  \n",
            " 180 IPSrc25              object \n",
            " 181 IPDst25              object \n",
            " 182 Protocol25           int64  \n",
            " 183 PacketsSent25        int64  \n",
            " 184 PacketsReceived25    int64  \n",
            " 185 BytesSent25          int64  \n",
            " 186 BytesReceived25      int64  \n",
            " 187 Buffering            int64  \n",
            " 188 Paused               int64  \n",
            " 189 Playing              int64  \n",
            " 190 CollectData          int64  \n",
            " 191 EpochTime            int64  \n",
            " 192 StartTime            int64  \n",
            " 193 PlaybackProgress     float64\n",
            " 194 Length               float64\n",
            " 195 BufferHealth         float64\n",
            " 196 BufferProgress       float64\n",
            " 197 BufferValid          bool   \n",
            " 198 KBytesReceived       float64\n",
            " 199 label                object \n",
            " 200 label_num            int64  \n",
            " 201 KBytesReceived_log   float64\n",
            " 202 PacketsSent_log      float64\n",
            " 203 PacketsReceived_log  float64\n",
            " 204 BytesSent_log        float64\n",
            " 205 BytesReceived_log    float64\n",
            " 206 BufferProgress_log   float64\n",
            "dtypes: bool(1), float64(12), int64(128), object(66)\n",
            "memory usage: 470.3+ KB\n"
          ]
        }
      ],
      "source": [
        "df.info(verbose=True)"
      ]
    },
    {
      "cell_type": "markdown",
      "metadata": {
        "id": "8POUiIfOZaec"
      },
      "source": [
        "Let's study the dependency between `label` and `KBytesReceived`"
      ]
    },
    {
      "cell_type": "markdown",
      "metadata": {
        "id": "AYPMX09MZaee"
      },
      "source": [
        "Let's first plot the data as they are, using a scatterplot.\n",
        "\n",
        "See [mathplotlib documentation](https://matplotlib.org/tutorials/introductory/lifecycle.html) for more info (optional)."
      ]
    },
    {
      "cell_type": "code",
      "execution_count": 8,
      "metadata": {
        "colab": {
          "base_uri": "https://localhost:8080/",
          "height": 355
        },
        "id": "BCNcu9UbZaef",
        "outputId": "65cd6e46-abc1-4389-9e78-2dbcb40562e0",
        "scrolled": true
      },
      "outputs": [
        {
          "data": {
            "text/plain": [
              "[(-100.0, 1200.0),\n",
              " Text(0, 0.5, 'label_num'),\n",
              " (-100.0, 1200.0),\n",
              " Text(0.5, 0, 'KBytes received')]"
            ]
          },
          "execution_count": 8,
          "metadata": {
            "tags": []
          },
          "output_type": "execute_result"
        },
        {
          "data": {
            "image/png": "[encoded data removed]",
            "text/plain": [
              "<Figure size 432x288 with 1 Axes>"
            ]
          },
          "metadata": {
            "needs_background": "light",
            "tags": []
          },
          "output_type": "display_data"
        }
      ],
      "source": [
        "fig, ax = plt.subplots() # This creates just a canvas\n",
        "ax.scatter(df['KBytesReceived'],df['label_num'],color='red',\n",
        "           s=1, label='all samples') # ax is the actual figure\n",
        "\n",
        "# Customize the plot\n",
        "ax.set(xlim=[-100,1200], ylim=[-100,1200], ylabel=\"label_num\",\n",
        "      xlabel=\"KBytes received\")"
      ]
    },
    {
      "cell_type": "markdown",
      "metadata": {
        "id": "IQsLItrbnVAY"
      },
      "source": [
        "# Save files in Google Drive (skip this)\n",
        "\n",
        "Run this section only if you want to save the figure in your google drive."
      ]
    },
    {
      "cell_type": "markdown",
      "metadata": {
        "id": "irR0g-3kgt38"
      },
      "source": [
        "We now save the figure in googledrive. We first mount the google drive volume"
      ]
    },
    {
      "cell_type": "code",
      "execution_count": null,
      "metadata": {
        "id": "3PvKYnuCgb80"
      },
      "outputs": [],
      "source": [
        "if savefigures:\n",
        "  # Inspired by https://colab.research.google.com/drive/1Eh0CgryaZnqWV8Jv4YzZMjXJXiDivzKY#scrollTo=u4X-zdyC0U6-\n",
        "\n",
        "  # keep these variables always the same\n",
        "  from google.colab import drive\n",
        "  mount_point = '/content/gdrive'\n",
        "  drive.mount(mount_point, force_remount=True)\n"
      ]
    },
    {
      "cell_type": "code",
      "execution_count": null,
      "metadata": {
        "id": "2M8Arp4KhV8X"
      },
      "outputs": [],
      "source": [
        "if savefigures:\n",
        "  drive_path = mount_point+'/My Drive/'\n",
        "\n",
        "  print(\"This is my google drive\")\n",
        "  !ls \"$drive_path\""
      ]
    },
    {
      "cell_type": "markdown",
      "metadata": {
        "id": "8Kxp14oTmdsd"
      },
      "source": [
        "I save the figure in one of my folders"
      ]
    },
    {
      "cell_type": "code",
      "execution_count": null,
      "metadata": {
        "id": "DWroclOcmcQc"
      },
      "outputs": [],
      "source": [
        "if savefigures:\n",
        "  my_path = drive_path + 'tsp/teaching/data-science-for-networks/img-from-code/02.regression/'\n",
        "  filename = my_path+\"scatter.pdf\"\n",
        "  fig.savefig(filename)"
      ]
    },
    {
      "cell_type": "markdown",
      "metadata": {
        "id": "Hu-81zM7ndLP"
      },
      "source": [
        "# Train-test-split\n",
        "\n",
        "We now divide the dataframe in a training and a test dataframe. By default, the dataset is split randomly (which is good)."
      ]
    },
    {
      "cell_type": "code",
      "execution_count": 9,
      "metadata": {
        "colab": {
          "base_uri": "https://localhost:8080/",
          "height": 256
        },
        "id": "9StTza7-Zael",
        "outputId": "010e8eb6-03b7-4334-8951-444cb03e9b0b",
        "scrolled": false
      },
      "outputs": [
        {
          "data": {
            "text/html": [
              "<div>\n",
              "<style scoped>\n",
              "    .dataframe tbody tr th:only-of-type {\n",
              "        vertical-align: middle;\n",
              "    }\n",
              "\n",
              "    .dataframe tbody tr th {\n",
              "        vertical-align: top;\n",
              "    }\n",
              "\n",
              "    .dataframe thead th {\n",
              "        text-align: right;\n",
              "    }\n",
              "</style>\n",
              "<table border=\"1\" class=\"dataframe\">\n",
              "  <thead>\n",
              "    <tr style=\"text-align: right;\">\n",
              "      <th></th>\n",
              "      <th>RelativeTime</th>\n",
              "      <th>PacketsSent</th>\n",
              "      <th>PacketsReceived</th>\n",
              "      <th>BytesSent</th>\n",
              "      <th>BytesReceived</th>\n",
              "      <th>IPSrc0</th>\n",
              "      <th>IPDst0</th>\n",
              "      <th>Protocol0</th>\n",
              "      <th>PacketsSent0</th>\n",
              "      <th>PacketsReceived0</th>\n",
              "      <th>BytesSent0</th>\n",
              "      <th>BytesReceived0</th>\n",
              "      <th>IPSrc1</th>\n",
              "      <th>IPDst1</th>\n",
              "      <th>Protocol1</th>\n",
              "      <th>PacketsSent1</th>\n",
              "      <th>PacketsReceived1</th>\n",
              "      <th>BytesSent1</th>\n",
              "      <th>BytesReceived1</th>\n",
              "      <th>IPSrc2</th>\n",
              "      <th>IPDst2</th>\n",
              "      <th>Protocol2</th>\n",
              "      <th>PacketsSent2</th>\n",
              "      <th>PacketsReceived2</th>\n",
              "      <th>BytesSent2</th>\n",
              "      <th>BytesReceived2</th>\n",
              "      <th>IPSrc3</th>\n",
              "      <th>IPDst3</th>\n",
              "      <th>Protocol3</th>\n",
              "      <th>PacketsSent3</th>\n",
              "      <th>PacketsReceived3</th>\n",
              "      <th>BytesSent3</th>\n",
              "      <th>BytesReceived3</th>\n",
              "      <th>IPSrc4</th>\n",
              "      <th>IPDst4</th>\n",
              "      <th>Protocol4</th>\n",
              "      <th>PacketsSent4</th>\n",
              "      <th>PacketsReceived4</th>\n",
              "      <th>BytesSent4</th>\n",
              "      <th>BytesReceived4</th>\n",
              "      <th>...</th>\n",
              "      <th>IPDst23</th>\n",
              "      <th>Protocol23</th>\n",
              "      <th>PacketsSent23</th>\n",
              "      <th>PacketsReceived23</th>\n",
              "      <th>BytesSent23</th>\n",
              "      <th>BytesReceived23</th>\n",
              "      <th>IPSrc24</th>\n",
              "      <th>IPDst24</th>\n",
              "      <th>Protocol24</th>\n",
              "      <th>PacketsSent24</th>\n",
              "      <th>PacketsReceived24</th>\n",
              "      <th>BytesSent24</th>\n",
              "      <th>BytesReceived24</th>\n",
              "      <th>IPSrc25</th>\n",
              "      <th>IPDst25</th>\n",
              "      <th>Protocol25</th>\n",
              "      <th>PacketsSent25</th>\n",
              "      <th>PacketsReceived25</th>\n",
              "      <th>BytesSent25</th>\n",
              "      <th>BytesReceived25</th>\n",
              "      <th>Buffering</th>\n",
              "      <th>Paused</th>\n",
              "      <th>Playing</th>\n",
              "      <th>CollectData</th>\n",
              "      <th>EpochTime</th>\n",
              "      <th>StartTime</th>\n",
              "      <th>PlaybackProgress</th>\n",
              "      <th>Length</th>\n",
              "      <th>BufferHealth</th>\n",
              "      <th>BufferProgress</th>\n",
              "      <th>BufferValid</th>\n",
              "      <th>KBytesReceived</th>\n",
              "      <th>label</th>\n",
              "      <th>label_num</th>\n",
              "      <th>KBytesReceived_log</th>\n",
              "      <th>PacketsSent_log</th>\n",
              "      <th>PacketsReceived_log</th>\n",
              "      <th>BytesSent_log</th>\n",
              "      <th>BytesReceived_log</th>\n",
              "      <th>BufferProgress_log</th>\n",
              "    </tr>\n",
              "  </thead>\n",
              "  <tbody>\n",
              "    <tr>\n",
              "      <th>137</th>\n",
              "      <td>8.3</td>\n",
              "      <td>37</td>\n",
              "      <td>71</td>\n",
              "      <td>3023</td>\n",
              "      <td>98832</td>\n",
              "      <td>192.168.1.190</td>\n",
              "      <td>173.194.55.119</td>\n",
              "      <td>QUIC</td>\n",
              "      <td>37</td>\n",
              "      <td>71</td>\n",
              "      <td>3023</td>\n",
              "      <td>98832</td>\n",
              "      <td>192.168.1.190</td>\n",
              "      <td>172.217.11.35</td>\n",
              "      <td>0</td>\n",
              "      <td>0</td>\n",
              "      <td>0</td>\n",
              "      <td>0</td>\n",
              "      <td>0</td>\n",
              "      <td>192.168.1.190</td>\n",
              "      <td>172.217.11.33</td>\n",
              "      <td>0</td>\n",
              "      <td>0</td>\n",
              "      <td>0</td>\n",
              "      <td>0</td>\n",
              "      <td>0</td>\n",
              "      <td>192.168.1.190</td>\n",
              "      <td>172.217.12.142</td>\n",
              "      <td>0</td>\n",
              "      <td>0</td>\n",
              "      <td>0</td>\n",
              "      <td>0</td>\n",
              "      <td>0</td>\n",
              "      <td>192.168.1.190</td>\n",
              "      <td>172.217.11.42</td>\n",
              "      <td>0</td>\n",
              "      <td>0</td>\n",
              "      <td>0</td>\n",
              "      <td>0</td>\n",
              "      <td>0</td>\n",
              "      <td>...</td>\n",
              "      <td>0</td>\n",
              "      <td>0</td>\n",
              "      <td>0</td>\n",
              "      <td>0</td>\n",
              "      <td>0</td>\n",
              "      <td>0</td>\n",
              "      <td>0</td>\n",
              "      <td>0</td>\n",
              "      <td>0</td>\n",
              "      <td>0</td>\n",
              "      <td>0</td>\n",
              "      <td>0</td>\n",
              "      <td>0</td>\n",
              "      <td>0</td>\n",
              "      <td>0.0.0.0</td>\n",
              "      <td>0</td>\n",
              "      <td>0</td>\n",
              "      <td>0</td>\n",
              "      <td>0</td>\n",
              "      <td>0</td>\n",
              "      <td>0</td>\n",
              "      <td>0</td>\n",
              "      <td>1</td>\n",
              "      <td>0</td>\n",
              "      <td>1520276354844</td>\n",
              "      <td>1520276347810</td>\n",
              "      <td>0.005000</td>\n",
              "      <td>601.401</td>\n",
              "      <td>1.195000</td>\n",
              "      <td>0.001995</td>\n",
              "      <td>True</td>\n",
              "      <td>98.832</td>\n",
              "      <td>q720p</td>\n",
              "      <td>720</td>\n",
              "      <td>4.593421</td>\n",
              "      <td>3.637586</td>\n",
              "      <td>4.276666</td>\n",
              "      <td>8.014336</td>\n",
              "      <td>11.501187</td>\n",
              "      <td>0.001993</td>\n",
              "    </tr>\n",
              "    <tr>\n",
              "      <th>37</th>\n",
              "      <td>5.8</td>\n",
              "      <td>4</td>\n",
              "      <td>23</td>\n",
              "      <td>369</td>\n",
              "      <td>32016</td>\n",
              "      <td>192.168.1.190</td>\n",
              "      <td>173.194.184.202</td>\n",
              "      <td>QUIC</td>\n",
              "      <td>4</td>\n",
              "      <td>23</td>\n",
              "      <td>369</td>\n",
              "      <td>32016</td>\n",
              "      <td>192.168.1.190</td>\n",
              "      <td>74.125.159.91</td>\n",
              "      <td>0</td>\n",
              "      <td>0</td>\n",
              "      <td>0</td>\n",
              "      <td>0</td>\n",
              "      <td>0</td>\n",
              "      <td>192.168.1.190</td>\n",
              "      <td>172.217.11.3</td>\n",
              "      <td>0</td>\n",
              "      <td>0</td>\n",
              "      <td>0</td>\n",
              "      <td>0</td>\n",
              "      <td>0</td>\n",
              "      <td>192.168.1.190</td>\n",
              "      <td>172.217.11.1</td>\n",
              "      <td>0</td>\n",
              "      <td>0</td>\n",
              "      <td>0</td>\n",
              "      <td>0</td>\n",
              "      <td>0</td>\n",
              "      <td>192.168.1.190</td>\n",
              "      <td>216.58.219.238</td>\n",
              "      <td>0</td>\n",
              "      <td>0</td>\n",
              "      <td>0</td>\n",
              "      <td>0</td>\n",
              "      <td>0</td>\n",
              "      <td>...</td>\n",
              "      <td>0</td>\n",
              "      <td>0</td>\n",
              "      <td>0</td>\n",
              "      <td>0</td>\n",
              "      <td>0</td>\n",
              "      <td>0</td>\n",
              "      <td>0</td>\n",
              "      <td>0</td>\n",
              "      <td>0</td>\n",
              "      <td>0</td>\n",
              "      <td>0</td>\n",
              "      <td>0</td>\n",
              "      <td>0</td>\n",
              "      <td>0</td>\n",
              "      <td>0.0.0.0</td>\n",
              "      <td>0</td>\n",
              "      <td>0</td>\n",
              "      <td>0</td>\n",
              "      <td>0</td>\n",
              "      <td>0</td>\n",
              "      <td>0</td>\n",
              "      <td>0</td>\n",
              "      <td>1</td>\n",
              "      <td>0</td>\n",
              "      <td>1521524157802</td>\n",
              "      <td>1521524152380</td>\n",
              "      <td>0.005000</td>\n",
              "      <td>834.841</td>\n",
              "      <td>5.333000</td>\n",
              "      <td>0.006394</td>\n",
              "      <td>True</td>\n",
              "      <td>32.016</td>\n",
              "      <td>q480p</td>\n",
              "      <td>480</td>\n",
              "      <td>3.466236</td>\n",
              "      <td>1.609438</td>\n",
              "      <td>3.178054</td>\n",
              "      <td>5.913503</td>\n",
              "      <td>10.374022</td>\n",
              "      <td>0.006374</td>\n",
              "    </tr>\n",
              "    <tr>\n",
              "      <th>165</th>\n",
              "      <td>3.1</td>\n",
              "      <td>0</td>\n",
              "      <td>44</td>\n",
              "      <td>0</td>\n",
              "      <td>30068</td>\n",
              "      <td>0</td>\n",
              "      <td>0</td>\n",
              "      <td>0</td>\n",
              "      <td>0</td>\n",
              "      <td>0</td>\n",
              "      <td>0</td>\n",
              "      <td>0</td>\n",
              "      <td>0</td>\n",
              "      <td>0</td>\n",
              "      <td>0</td>\n",
              "      <td>0</td>\n",
              "      <td>0</td>\n",
              "      <td>0</td>\n",
              "      <td>0</td>\n",
              "      <td>0</td>\n",
              "      <td>0</td>\n",
              "      <td>0</td>\n",
              "      <td>0</td>\n",
              "      <td>0</td>\n",
              "      <td>0</td>\n",
              "      <td>0</td>\n",
              "      <td>0</td>\n",
              "      <td>0</td>\n",
              "      <td>0</td>\n",
              "      <td>0</td>\n",
              "      <td>0</td>\n",
              "      <td>0</td>\n",
              "      <td>0</td>\n",
              "      <td>0</td>\n",
              "      <td>0</td>\n",
              "      <td>0</td>\n",
              "      <td>0</td>\n",
              "      <td>0</td>\n",
              "      <td>0</td>\n",
              "      <td>0</td>\n",
              "      <td>...</td>\n",
              "      <td>0</td>\n",
              "      <td>0</td>\n",
              "      <td>0</td>\n",
              "      <td>0</td>\n",
              "      <td>0</td>\n",
              "      <td>0</td>\n",
              "      <td>0</td>\n",
              "      <td>0</td>\n",
              "      <td>0</td>\n",
              "      <td>0</td>\n",
              "      <td>0</td>\n",
              "      <td>0</td>\n",
              "      <td>0</td>\n",
              "      <td>0</td>\n",
              "      <td>0.0.0.0</td>\n",
              "      <td>0</td>\n",
              "      <td>0</td>\n",
              "      <td>44</td>\n",
              "      <td>0</td>\n",
              "      <td>30068</td>\n",
              "      <td>0</td>\n",
              "      <td>0</td>\n",
              "      <td>1</td>\n",
              "      <td>0</td>\n",
              "      <td>1521744189852</td>\n",
              "      <td>1521744186787</td>\n",
              "      <td>0.004000</td>\n",
              "      <td>668.101</td>\n",
              "      <td>2.206000</td>\n",
              "      <td>0.003308</td>\n",
              "      <td>True</td>\n",
              "      <td>30.068</td>\n",
              "      <td>q720p</td>\n",
              "      <td>720</td>\n",
              "      <td>3.403461</td>\n",
              "      <td>0.000000</td>\n",
              "      <td>3.806662</td>\n",
              "      <td>0.000000</td>\n",
              "      <td>10.311250</td>\n",
              "      <td>0.003302</td>\n",
              "    </tr>\n",
              "    <tr>\n",
              "      <th>180</th>\n",
              "      <td>12.3</td>\n",
              "      <td>6</td>\n",
              "      <td>20</td>\n",
              "      <td>998</td>\n",
              "      <td>23923</td>\n",
              "      <td>192.168.1.190</td>\n",
              "      <td>173.194.7.56</td>\n",
              "      <td>QUIC</td>\n",
              "      <td>2</td>\n",
              "      <td>17</td>\n",
              "      <td>192</td>\n",
              "      <td>23664</td>\n",
              "      <td>192.168.1.190</td>\n",
              "      <td>172.217.6.206</td>\n",
              "      <td>0</td>\n",
              "      <td>0</td>\n",
              "      <td>0</td>\n",
              "      <td>0</td>\n",
              "      <td>0</td>\n",
              "      <td>192.168.1.190</td>\n",
              "      <td>172.217.12.227</td>\n",
              "      <td>0</td>\n",
              "      <td>0</td>\n",
              "      <td>0</td>\n",
              "      <td>0</td>\n",
              "      <td>0</td>\n",
              "      <td>192.168.1.190</td>\n",
              "      <td>172.217.11.33</td>\n",
              "      <td>0</td>\n",
              "      <td>0</td>\n",
              "      <td>0</td>\n",
              "      <td>0</td>\n",
              "      <td>0</td>\n",
              "      <td>192.168.1.190</td>\n",
              "      <td>172.217.10.238</td>\n",
              "      <td>0</td>\n",
              "      <td>0</td>\n",
              "      <td>0</td>\n",
              "      <td>0</td>\n",
              "      <td>0</td>\n",
              "      <td>...</td>\n",
              "      <td>0</td>\n",
              "      <td>0</td>\n",
              "      <td>0</td>\n",
              "      <td>0</td>\n",
              "      <td>0</td>\n",
              "      <td>0</td>\n",
              "      <td>0</td>\n",
              "      <td>0</td>\n",
              "      <td>0</td>\n",
              "      <td>0</td>\n",
              "      <td>0</td>\n",
              "      <td>0</td>\n",
              "      <td>0</td>\n",
              "      <td>0</td>\n",
              "      <td>0.0.0.0</td>\n",
              "      <td>0</td>\n",
              "      <td>1</td>\n",
              "      <td>1</td>\n",
              "      <td>79</td>\n",
              "      <td>119</td>\n",
              "      <td>0</td>\n",
              "      <td>0</td>\n",
              "      <td>1</td>\n",
              "      <td>0</td>\n",
              "      <td>1521482776649</td>\n",
              "      <td>1521482765045</td>\n",
              "      <td>0.018579</td>\n",
              "      <td>579.741</td>\n",
              "      <td>4.262421</td>\n",
              "      <td>0.007384</td>\n",
              "      <td>True</td>\n",
              "      <td>23.923</td>\n",
              "      <td>q144p</td>\n",
              "      <td>144</td>\n",
              "      <td>3.174840</td>\n",
              "      <td>1.945910</td>\n",
              "      <td>3.044522</td>\n",
              "      <td>6.906755</td>\n",
              "      <td>10.082637</td>\n",
              "      <td>0.007357</td>\n",
              "    </tr>\n",
              "    <tr>\n",
              "      <th>7</th>\n",
              "      <td>6.0</td>\n",
              "      <td>11</td>\n",
              "      <td>49</td>\n",
              "      <td>2658</td>\n",
              "      <td>67177</td>\n",
              "      <td>192.168.1.190</td>\n",
              "      <td>173.194.184.230</td>\n",
              "      <td>QUIC</td>\n",
              "      <td>8</td>\n",
              "      <td>49</td>\n",
              "      <td>1300</td>\n",
              "      <td>67177</td>\n",
              "      <td>192.168.1.190</td>\n",
              "      <td>172.217.11.35</td>\n",
              "      <td>0</td>\n",
              "      <td>0</td>\n",
              "      <td>0</td>\n",
              "      <td>0</td>\n",
              "      <td>0</td>\n",
              "      <td>192.168.1.190</td>\n",
              "      <td>172.217.11.33</td>\n",
              "      <td>0</td>\n",
              "      <td>0</td>\n",
              "      <td>0</td>\n",
              "      <td>0</td>\n",
              "      <td>0</td>\n",
              "      <td>192.168.1.190</td>\n",
              "      <td>172.217.3.110</td>\n",
              "      <td>QUIC</td>\n",
              "      <td>2</td>\n",
              "      <td>0</td>\n",
              "      <td>1016</td>\n",
              "      <td>0</td>\n",
              "      <td>192.168.1.190</td>\n",
              "      <td>172.217.10.14</td>\n",
              "      <td>0</td>\n",
              "      <td>0</td>\n",
              "      <td>0</td>\n",
              "      <td>0</td>\n",
              "      <td>0</td>\n",
              "      <td>...</td>\n",
              "      <td>0</td>\n",
              "      <td>0</td>\n",
              "      <td>0</td>\n",
              "      <td>0</td>\n",
              "      <td>0</td>\n",
              "      <td>0</td>\n",
              "      <td>0</td>\n",
              "      <td>0</td>\n",
              "      <td>0</td>\n",
              "      <td>0</td>\n",
              "      <td>0</td>\n",
              "      <td>0</td>\n",
              "      <td>0</td>\n",
              "      <td>0</td>\n",
              "      <td>0.0.0.0</td>\n",
              "      <td>0</td>\n",
              "      <td>0</td>\n",
              "      <td>0</td>\n",
              "      <td>0</td>\n",
              "      <td>0</td>\n",
              "      <td>0</td>\n",
              "      <td>0</td>\n",
              "      <td>1</td>\n",
              "      <td>0</td>\n",
              "      <td>1521479530610</td>\n",
              "      <td>1521479525238</td>\n",
              "      <td>0.032256</td>\n",
              "      <td>552.961</td>\n",
              "      <td>3.628744</td>\n",
              "      <td>0.006621</td>\n",
              "      <td>True</td>\n",
              "      <td>67.177</td>\n",
              "      <td>q144p</td>\n",
              "      <td>144</td>\n",
              "      <td>4.207331</td>\n",
              "      <td>2.484907</td>\n",
              "      <td>3.912023</td>\n",
              "      <td>7.885705</td>\n",
              "      <td>11.115101</td>\n",
              "      <td>0.006599</td>\n",
              "    </tr>\n",
              "  </tbody>\n",
              "</table>\n",
              "<p>5 rows × 207 columns</p>\n",
              "</div>"
            ],
            "text/plain": [
              "     RelativeTime  PacketsSent  ...  BytesReceived_log  BufferProgress_log\n",
              "137           8.3           37  ...          11.501187            0.001993\n",
              "37            5.8            4  ...          10.374022            0.006374\n",
              "165           3.1            0  ...          10.311250            0.003302\n",
              "180          12.3            6  ...          10.082637            0.007357\n",
              "7             6.0           11  ...          11.115101            0.006599\n",
              "\n",
              "[5 rows x 207 columns]"
            ]
          },
          "execution_count": 9,
          "metadata": {
            "tags": []
          },
          "output_type": "execute_result"
        }
      ],
      "source": [
        "df_train, df_test = train_test_split(df, test_size=0.3)\n",
        "df_test.head()"
      ]
    },
    {
      "cell_type": "markdown",
      "metadata": {
        "id": "L87_ZI6FZaer"
      },
      "source": [
        "Let's split the dataset in 80% training set, 20% test set."
      ]
    },
    {
      "cell_type": "markdown",
      "metadata": {
        "id": "D57IUuJ-Zaet"
      },
      "source": [
        "Try to run the code above multiple times.\n",
        "\n",
        "What do you observe? Is it a problem? How do you solve it?"
      ]
    },
    {
      "cell_type": "markdown",
      "metadata": {
        "id": "vM7cN44RZaew"
      },
      "source": [
        "To achieve reproducibility, set the seed with `random_state`."
      ]
    },
    {
      "cell_type": "code",
      "execution_count": 10,
      "metadata": {
        "colab": {
          "base_uri": "https://localhost:8080/"
        },
        "id": "Zst6Gz49Zaey",
        "outputId": "b933fa97-b3d6-4862-a6d9-ccfc21c62039"
      },
      "outputs": [
        {
          "name": "stdout",
          "output_type": "stream",
          "text": [
            "Training samples  204 ; Test samples  88\n"
          ]
        }
      ],
      "source": [
        "df_train, df_test = train_test_split(df, test_size=0.3, random_state=19)\n",
        "df_test.head()\n",
        "\n",
        "print('Training samples ', df_train.shape[0], '; Test samples ', df_test.shape[0])"
      ]
    },
    {
      "cell_type": "markdown",
      "metadata": {
        "id": "dqZ4u5GEZae3"
      },
      "source": [
        "## Univariate Linear Regression"
      ]
    },
    {
      "cell_type": "markdown",
      "metadata": {
        "id": "xCozQN3-Zae5"
      },
      "source": [
        "**Goal**: Predict `label_num` based on `KBytesReceived`"
      ]
    },
    {
      "cell_type": "code",
      "execution_count": null,
      "metadata": {
        "colab": {
          "base_uri": "https://localhost:8080/",
          "height": 424
        },
        "id": "gLNU1if4Zae6",
        "outputId": "3d2d0a5c-5828-4558-dbe1-0843165291c5"
      },
      "outputs": [
        {
          "data": {
            "text/html": [
              "<div>\n",
              "<style scoped>\n",
              "    .dataframe tbody tr th:only-of-type {\n",
              "        vertical-align: middle;\n",
              "    }\n",
              "\n",
              "    .dataframe tbody tr th {\n",
              "        vertical-align: top;\n",
              "    }\n",
              "\n",
              "    .dataframe thead th {\n",
              "        text-align: right;\n",
              "    }\n",
              "</style>\n",
              "<table border=\"1\" class=\"dataframe\">\n",
              "  <thead>\n",
              "    <tr style=\"text-align: right;\">\n",
              "      <th></th>\n",
              "      <th>KBytesReceived</th>\n",
              "      <th>label_num</th>\n",
              "    </tr>\n",
              "  </thead>\n",
              "  <tbody>\n",
              "    <tr>\n",
              "      <th>211</th>\n",
              "      <td>135.024</td>\n",
              "      <td>1080</td>\n",
              "    </tr>\n",
              "    <tr>\n",
              "      <th>261</th>\n",
              "      <td>85.044</td>\n",
              "      <td>1080</td>\n",
              "    </tr>\n",
              "    <tr>\n",
              "      <th>150</th>\n",
              "      <td>137.403</td>\n",
              "      <td>480</td>\n",
              "    </tr>\n",
              "    <tr>\n",
              "      <th>31</th>\n",
              "      <td>48.720</td>\n",
              "      <td>360</td>\n",
              "    </tr>\n",
              "    <tr>\n",
              "      <th>189</th>\n",
              "      <td>86.304</td>\n",
              "      <td>720</td>\n",
              "    </tr>\n",
              "    <tr>\n",
              "      <th>...</th>\n",
              "      <td>...</td>\n",
              "      <td>...</td>\n",
              "    </tr>\n",
              "    <tr>\n",
              "      <th>159</th>\n",
              "      <td>46.066</td>\n",
              "      <td>720</td>\n",
              "    </tr>\n",
              "    <tr>\n",
              "      <th>19</th>\n",
              "      <td>41.931</td>\n",
              "      <td>480</td>\n",
              "    </tr>\n",
              "    <tr>\n",
              "      <th>245</th>\n",
              "      <td>66.958</td>\n",
              "      <td>720</td>\n",
              "    </tr>\n",
              "    <tr>\n",
              "      <th>110</th>\n",
              "      <td>41.752</td>\n",
              "      <td>720</td>\n",
              "    </tr>\n",
              "    <tr>\n",
              "      <th>93</th>\n",
              "      <td>79.808</td>\n",
              "      <td>480</td>\n",
              "    </tr>\n",
              "  </tbody>\n",
              "</table>\n",
              "<p>204 rows × 2 columns</p>\n",
              "</div>"
            ],
            "text/plain": [
              "     KBytesReceived  label_num\n",
              "211         135.024       1080\n",
              "261          85.044       1080\n",
              "150         137.403        480\n",
              "31           48.720        360\n",
              "189          86.304        720\n",
              "..              ...        ...\n",
              "159          46.066        720\n",
              "19           41.931        480\n",
              "245          66.958        720\n",
              "110          41.752        720\n",
              "93           79.808        480\n",
              "\n",
              "[204 rows x 2 columns]"
            ]
          },
          "execution_count": 67,
          "metadata": {
            "tags": []
          },
          "output_type": "execute_result"
        }
      ],
      "source": [
        "df_train[['KBytesReceived','label_num']]"
      ]
    },
    {
      "cell_type": "markdown",
      "metadata": {
        "id": "fqS9xxiAZafA"
      },
      "source": [
        "Let's separate the independent variables $X$ from the dependent variables $y$"
      ]
    },
    {
      "cell_type": "code",
      "execution_count": null,
      "metadata": {
        "id": "GLIEAfroZafB"
      },
      "outputs": [],
      "source": [
        "# Scikit learn models expect matrices. We first transform \n",
        "# the dataframe into an array\n",
        "X_train = df_train[['KBytesReceived'] ].values\n",
        "\n",
        "# Scikit learn models expect matrices with multiple \n",
        "# rows and columns as X. X_train has instead just one column\n",
        "# ==> The following code is necessary\n",
        "X_train = X_train.reshape(-1,1)\n",
        "\n",
        "y_train = df_train['label_num'].values\n",
        "\n",
        "\n",
        "# Do the same for the test dataset\n",
        "X_test = df_test[[ 'KBytesReceived'] ].values.reshape(-1,1)\n",
        "y_test = df_test['label_num'].values"
      ]
    },
    {
      "cell_type": "markdown",
      "metadata": {
        "id": "emtf78TgZafG"
      },
      "source": [
        "Let's train our first supervised learning model: an Ordinary Least Squares model."
      ]
    },
    {
      "cell_type": "markdown",
      "metadata": {
        "id": "Rb54eFYJZafH"
      },
      "source": [
        "Note: the main library for machine learning in Python is `scikit learn`. However `sklearn.LinearRegression` is quite poor, as it does not provide p-values and other information.\n",
        "\n",
        "An alternative library to `sklearn` exists, which is called `statsmodel` is better, but its interface is different from the other models of `sklearn`. \n",
        "\n",
        "I prepared the function `andrea_models.AndreaLinearRegression`, important at the beginning, to combine the best of `sklearn.LinearRegression` and `statsmodel`: it has tje same interface of `scikit learn` and the additional information of `statsmodel`."
      ]
    },
    {
      "cell_type": "code",
      "execution_count": null,
      "metadata": {
        "colab": {
          "base_uri": "https://localhost:8080/",
          "height": 482
        },
        "id": "K3bthb-mZafJ",
        "outputId": "23369d40-bcee-4d46-89b5-c52538302799"
      },
      "outputs": [
        {
          "name": "stdout",
          "output_type": "stream",
          "text": [
            "                            OLS Regression Results                            \n",
            "==============================================================================\n",
            "Dep. Variable:                      y   R-squared:                       0.072\n",
            "Model:                            OLS   Adj. R-squared:                  0.068\n",
            "Method:                 Least Squares   F-statistic:                     15.70\n",
            "Date:                Thu, 16 Apr 2020   Prob (F-statistic):           0.000103\n",
            "Time:                        12:46:24   Log-Likelihood:                -1445.2\n",
            "No. Observations:                 204   AIC:                             2894.\n",
            "Df Residuals:                     202   BIC:                             2901.\n",
            "Df Model:                           1                                         \n",
            "Covariance Type:            nonrobust                                         \n",
            "==================================================================================\n",
            "                     coef    std err          t      P>|t|      [0.025      0.975]\n",
            "----------------------------------------------------------------------------------\n",
            "intercept        519.5636     33.254     15.624      0.000     453.994     585.133\n",
            "KBytesReceived     1.4536      0.367      3.962      0.000       0.730       2.177\n",
            "==============================================================================\n",
            "Omnibus:                       32.312   Durbin-Watson:                   1.985\n",
            "Prob(Omnibus):                  0.000   Jarque-Bera (JB):               10.773\n",
            "Skew:                           0.292   Prob(JB):                      0.00458\n",
            "Kurtosis:                       2.038   Cond. No.                         148.\n",
            "==============================================================================\n",
            "\n",
            "Warnings:\n",
            "[1] Standard Errors assume that the covariance matrix of the errors is correctly specified.\n"
          ]
        }
      ],
      "source": [
        "model = AndreaLinearRegression()\n",
        "model.fit(X_train, y_train, column_names=['KBytesReceived'])\n",
        "model.summary()"
      ]
    },
    {
      "cell_type": "markdown",
      "metadata": {
        "id": "tVArgDOFZafP"
      },
      "source": [
        "Now we have a trained model $h_{\\theta*}(\\cdot)$ stored in `model`. We can use it to predict new values."
      ]
    },
    {
      "cell_type": "code",
      "execution_count": null,
      "metadata": {
        "colab": {
          "base_uri": "https://localhost:8080/",
          "height": 35
        },
        "id": "kblDjTClZafQ",
        "outputId": "133de15f-a145-4753-ec47-b2f3982fc9f1"
      },
      "outputs": [
        {
          "data": {
            "text/plain": [
              "array([ 893.14316416, 1281.2588651 , 1410.63076541,  843.72019101])"
            ]
          },
          "execution_count": 70,
          "metadata": {
            "tags": []
          },
          "output_type": "execute_result"
        }
      ],
      "source": [
        "newKBytesReceivedSamples = np.array([257, 524, 613, 223]).reshape(-1,1)\n",
        "\n",
        "\n",
        "predictedLabels = model.predict(newKBytesReceivedSamples)\n",
        "predictedLabels"
      ]
    },
    {
      "cell_type": "markdown",
      "metadata": {
        "id": "K3eXFPKsZafV"
      },
      "source": [
        "To plot the model, we let it predict on an interval"
      ]
    },
    {
      "cell_type": "code",
      "execution_count": null,
      "metadata": {
        "colab": {
          "base_uri": "https://localhost:8080/",
          "height": 53
        },
        "id": "nMT1-M28ZafW",
        "outputId": "dc3b1af4-10a8-4632-dc97-8b28a1ae3e2e"
      },
      "outputs": [
        {
          "data": {
            "text/plain": [
              "array([ 374.20194605,  375.65556291,  377.10917977, ..., 2259.54301016,\n",
              "       2260.99662702, 2262.45024387])"
            ]
          },
          "execution_count": 71,
          "metadata": {
            "tags": []
          },
          "output_type": "execute_result"
        }
      ],
      "source": [
        "interval = np.arange(-100,1200).reshape(-1,1)\n",
        "h_values = model.predict(interval)\n",
        "h_values"
      ]
    },
    {
      "cell_type": "markdown",
      "metadata": {
        "id": "4qZ6KEvZZafa"
      },
      "source": [
        "Let's plot the model. It is constructed so to minimize the distance between the blue points (training samples) and the line"
      ]
    },
    {
      "cell_type": "code",
      "execution_count": null,
      "metadata": {
        "colab": {
          "base_uri": "https://localhost:8080/",
          "height": 283
        },
        "id": "8_QSV59-Zafc",
        "outputId": "9b824a4e-587f-4ccb-f33b-00a0492d68a7",
        "scrolled": true
      },
      "outputs": [
        {
          "data": {
            "image/png": "[encoded data removed]",
            "text/plain": [
              "<Figure size 432x288 with 1 Axes>"
            ]
          },
          "execution_count": 72,
          "metadata": {
            "tags": []
          },
          "output_type": "execute_result"
        }
      ],
      "source": [
        "ax.scatter(X_train,y_train,color='blue',s=1, \n",
        "           label=\"training samples\")\n",
        "\n",
        "ax.plot(interval,h_values, label=\"Linear Regression (OLS)\")\n",
        "ax.legend()\n",
        "\n",
        "fig"
      ]
    },
    {
      "cell_type": "code",
      "execution_count": null,
      "metadata": {
        "id": "Nt7uDKGvoUSg"
      },
      "outputs": [],
      "source": [
        "# SKIP THIS\n",
        "if savefigures:\n",
        "  filename = my_path+\"QoE-prediction-OLS.pdf\"\n",
        "  fig.savefig(filename)"
      ]
    },
    {
      "cell_type": "markdown",
      "metadata": {
        "id": "8yIZmM7-Zafg"
      },
      "source": [
        "Let's evaluate the model on the test set"
      ]
    },
    {
      "cell_type": "code",
      "execution_count": null,
      "metadata": {
        "id": "vO41UMCCZafh"
      },
      "outputs": [],
      "source": [
        "y_pred = model.predict(X_test)"
      ]
    },
    {
      "cell_type": "markdown",
      "metadata": {
        "id": "ZH4BFM-KZafm"
      },
      "source": [
        "Let us compare the true test labels and the predicted"
      ]
    },
    {
      "cell_type": "code",
      "execution_count": null,
      "metadata": {
        "colab": {
          "base_uri": "https://localhost:8080/",
          "height": 424
        },
        "id": "XQhMifAjZafm",
        "outputId": "665c084c-0d40-4c15-ea97-2f3799a3c18d",
        "scrolled": true
      },
      "outputs": [
        {
          "data": {
            "text/html": [
              "<div>\n",
              "<style scoped>\n",
              "    .dataframe tbody tr th:only-of-type {\n",
              "        vertical-align: middle;\n",
              "    }\n",
              "\n",
              "    .dataframe tbody tr th {\n",
              "        vertical-align: top;\n",
              "    }\n",
              "\n",
              "    .dataframe thead th {\n",
              "        text-align: right;\n",
              "    }\n",
              "</style>\n",
              "<table border=\"1\" class=\"dataframe\">\n",
              "  <thead>\n",
              "    <tr style=\"text-align: right;\">\n",
              "      <th></th>\n",
              "      <th>true</th>\n",
              "      <th>pred</th>\n",
              "    </tr>\n",
              "  </thead>\n",
              "  <tbody>\n",
              "    <tr>\n",
              "      <th>0</th>\n",
              "      <td>720</td>\n",
              "      <td>599.486394</td>\n",
              "    </tr>\n",
              "    <tr>\n",
              "      <th>1</th>\n",
              "      <td>720</td>\n",
              "      <td>578.113865</td>\n",
              "    </tr>\n",
              "    <tr>\n",
              "      <th>2</th>\n",
              "      <td>720</td>\n",
              "      <td>584.313541</td>\n",
              "    </tr>\n",
              "    <tr>\n",
              "      <th>3</th>\n",
              "      <td>1080</td>\n",
              "      <td>651.086885</td>\n",
              "    </tr>\n",
              "    <tr>\n",
              "      <th>4</th>\n",
              "      <td>480</td>\n",
              "      <td>609.283771</td>\n",
              "    </tr>\n",
              "    <tr>\n",
              "      <th>...</th>\n",
              "      <td>...</td>\n",
              "      <td>...</td>\n",
              "    </tr>\n",
              "    <tr>\n",
              "      <th>83</th>\n",
              "      <td>720</td>\n",
              "      <td>619.890814</td>\n",
              "    </tr>\n",
              "    <tr>\n",
              "      <th>84</th>\n",
              "      <td>720</td>\n",
              "      <td>539.797978</td>\n",
              "    </tr>\n",
              "    <tr>\n",
              "      <th>85</th>\n",
              "      <td>720</td>\n",
              "      <td>542.783707</td>\n",
              "    </tr>\n",
              "    <tr>\n",
              "      <th>86</th>\n",
              "      <td>480</td>\n",
              "      <td>600.564978</td>\n",
              "    </tr>\n",
              "    <tr>\n",
              "      <th>87</th>\n",
              "      <td>720</td>\n",
              "      <td>579.081974</td>\n",
              "    </tr>\n",
              "  </tbody>\n",
              "</table>\n",
              "<p>88 rows × 2 columns</p>\n",
              "</div>"
            ],
            "text/plain": [
              "    true        pred\n",
              "0    720  599.486394\n",
              "1    720  578.113865\n",
              "2    720  584.313541\n",
              "3   1080  651.086885\n",
              "4    480  609.283771\n",
              "..   ...         ...\n",
              "83   720  619.890814\n",
              "84   720  539.797978\n",
              "85   720  542.783707\n",
              "86   480  600.564978\n",
              "87   720  579.081974\n",
              "\n",
              "[88 rows x 2 columns]"
            ]
          },
          "execution_count": 75,
          "metadata": {
            "tags": []
          },
          "output_type": "execute_result"
        }
      ],
      "source": [
        "pd.DataFrame({'true':y_test,'pred':y_pred})"
      ]
    },
    {
      "cell_type": "markdown",
      "metadata": {
        "id": "cf73Iu6cZafr"
      },
      "source": [
        "Let's compute the Mean Square Error (MSE)"
      ]
    },
    {
      "cell_type": "code",
      "execution_count": null,
      "metadata": {
        "colab": {
          "base_uri": "https://localhost:8080/",
          "height": 35
        },
        "id": "oFcL5ymXZafr",
        "outputId": "c2a413ce-7a70-48e4-e278-960901111bab",
        "scrolled": true
      },
      "outputs": [
        {
          "data": {
            "text/plain": [
              "75019.04691479652"
            ]
          },
          "execution_count": 76,
          "metadata": {
            "tags": []
          },
          "output_type": "execute_result"
        }
      ],
      "source": [
        "MSE = mean_squared_error(y_test, y_pred)\n",
        "MSE"
      ]
    },
    {
      "cell_type": "markdown",
      "metadata": {
        "id": "6rtGOUUuZafw"
      },
      "source": [
        "The Root MSE is easier to understand, since it is in the same unity of measurement of the target"
      ]
    },
    {
      "cell_type": "code",
      "execution_count": null,
      "metadata": {
        "colab": {
          "base_uri": "https://localhost:8080/",
          "height": 35
        },
        "id": "w9OXQPvEZafx",
        "outputId": "276f3e38-14ea-4bd2-ec28-2e05f1d113fa",
        "scrolled": false
      },
      "outputs": [
        {
          "data": {
            "text/plain": [
              "273.8960512946408"
            ]
          },
          "execution_count": 77,
          "metadata": {
            "tags": []
          },
          "output_type": "execute_result"
        }
      ],
      "source": [
        "RMSE_one_feature = math.sqrt(MSE)\n",
        "RMSE_one_feature"
      ]
    },
    {
      "cell_type": "markdown",
      "metadata": {
        "id": "fbch3HutZaf0"
      },
      "source": [
        "#### Dependency on the training set\n",
        "\n",
        "If we change the training set, the model changes as well"
      ]
    },
    {
      "cell_type": "code",
      "execution_count": null,
      "metadata": {
        "colab": {
          "base_uri": "https://localhost:8080/",
          "height": 482
        },
        "id": "voSeuM5VZaf2",
        "outputId": "1b97afc1-7459-4736-da80-ef701c16f540",
        "scrolled": false
      },
      "outputs": [
        {
          "name": "stdout",
          "output_type": "stream",
          "text": [
            "                            OLS Regression Results                            \n",
            "==============================================================================\n",
            "Dep. Variable:                      y   R-squared:                       0.094\n",
            "Model:                            OLS   Adj. R-squared:                  0.090\n",
            "Method:                 Least Squares   F-statistic:                     21.00\n",
            "Date:                Thu, 16 Apr 2020   Prob (F-statistic):           8.04e-06\n",
            "Time:                        12:46:24   Log-Likelihood:                -1437.6\n",
            "No. Observations:                 204   AIC:                             2879.\n",
            "Df Residuals:                     202   BIC:                             2886.\n",
            "Df Model:                           1                                         \n",
            "Covariance Type:            nonrobust                                         \n",
            "==================================================================================\n",
            "                     coef    std err          t      P>|t|      [0.025      0.975]\n",
            "----------------------------------------------------------------------------------\n",
            "intercept        511.4868     30.856     16.577      0.000     450.646     572.328\n",
            "KBytesReceived     1.5040      0.328      4.583      0.000       0.857       2.151\n",
            "==============================================================================\n",
            "Omnibus:                       22.828   Durbin-Watson:                   2.032\n",
            "Prob(Omnibus):                  0.000   Jarque-Bera (JB):               10.599\n",
            "Skew:                           0.357   Prob(JB):                      0.00499\n",
            "Kurtosis:                       2.141   Cond. No.                         148.\n",
            "==============================================================================\n",
            "\n",
            "Warnings:\n",
            "[1] Standard Errors assume that the covariance matrix of the errors is correctly specified.\n"
          ]
        }
      ],
      "source": [
        "df_train, df_test = train_test_split(df, test_size=0.3, random_state=2)\n",
        "\n",
        "X_train = df_train[['KBytesReceived'] ].values.reshape(-1,1)\n",
        "y_train = df_train['label_num'].values\n",
        "X_test = df_test[[ 'KBytesReceived'] ].values.reshape(-1,1)\n",
        "y_test = df_test['label_num'].values\n",
        "\n",
        "\n",
        "model.fit(X_train, y_train, column_names=['KBytesReceived'])\n",
        "model.summary()"
      ]
    },
    {
      "cell_type": "markdown",
      "metadata": {
        "id": "t3gzpkAEZaf6"
      },
      "source": [
        "Note that the coefficients are different. Let's plot it"
      ]
    },
    {
      "cell_type": "code",
      "execution_count": null,
      "metadata": {
        "colab": {
          "base_uri": "https://localhost:8080/",
          "height": 283
        },
        "id": "Tl9KxvO7Zaf6",
        "outputId": "e344f0a7-db6b-4891-fa56-a0595e43441d",
        "scrolled": true
      },
      "outputs": [
        {
          "data": {
            "image/png": "[encoded data removed]",
            "text/plain": [
              "<Figure size 432x288 with 1 Axes>"
            ]
          },
          "execution_count": 79,
          "metadata": {
            "tags": []
          },
          "output_type": "execute_result"
        }
      ],
      "source": [
        "h_values = model.predict(interval)\n",
        "\n",
        "ax.scatter(X_train,y_train,color='orange',s=1, \n",
        "           label=\"training samples [2]\")\n",
        "ax.plot(interval,h_values, label=\"Linear Regression (OLS) [2]\")\n",
        "ax.legend()\n",
        "fig"
      ]
    },
    {
      "cell_type": "markdown",
      "metadata": {
        "id": "bYbs1NQEZaf-"
      },
      "source": [
        "Let's train again a model on a different training set"
      ]
    },
    {
      "cell_type": "code",
      "execution_count": null,
      "metadata": {
        "colab": {
          "base_uri": "https://localhost:8080/",
          "height": 283
        },
        "id": "llykKdz8ZagA",
        "outputId": "24bfb1f7-27ce-48e3-9a64-da0acdffd1a9"
      },
      "outputs": [
        {
          "data": {
            "image/png": "[encoded data removed]",
            "text/plain": [
              "<Figure size 432x288 with 1 Axes>"
            ]
          },
          "execution_count": 80,
          "metadata": {
            "tags": []
          },
          "output_type": "execute_result"
        }
      ],
      "source": [
        "df_train, df_test = train_test_split(df, test_size=0.3, random_state=3)\n",
        "\n",
        "X_train = df_train[['KBytesReceived'] ].values.reshape(-1,1)\n",
        "y_train = df_train['label_num'].values\n",
        "X_test = df_test[[ 'KBytesReceived'] ].values.reshape(-1,1)\n",
        "y_test = df_test['label_num'].values\n",
        "\n",
        "\n",
        "model.fit(X_train, y_train, column_names=['KBytesReceived'])\n",
        "h_values = model.predict(interval)\n",
        "ax.scatter(X_train,y_train,color='green',s=1, \n",
        "           label=\"training samples [3]\")\n",
        "ax.plot(interval,h_values, label=\"Linear Regression (OLS) [3]\")\n",
        "ax.legend()\n",
        "fig"
      ]
    },
    {
      "cell_type": "markdown",
      "metadata": {
        "id": "rq6e2OukZagD"
      },
      "source": [
        "\n",
        "\n",
        "\n",
        "### Use transformed variables"
      ]
    },
    {
      "cell_type": "markdown",
      "metadata": {
        "id": "OMde3u1fZagF"
      },
      "source": [
        "We observe that the values of `KBytesReceived` are squashed toward small values (we also checked it with a histogram in the last notebook). We have shown in the last notebook that in this case a log transformation can unveil correlation.\n",
        "\n",
        "We now show that it also improves the model. First, have a look at the plot"
      ]
    },
    {
      "cell_type": "code",
      "execution_count": null,
      "metadata": {
        "colab": {
          "base_uri": "https://localhost:8080/",
          "height": 298
        },
        "id": "QMER2-bxZagF",
        "outputId": "af7f1ed2-c243-40bb-d39a-46a7cbb8e6ea",
        "scrolled": false
      },
      "outputs": [
        {
          "data": {
            "text/plain": [
              "[Text(0, 0.5, 'label_num'), Text(0.5, 0, 'KBytesReceived_log')]"
            ]
          },
          "execution_count": 81,
          "metadata": {
            "tags": []
          },
          "output_type": "execute_result"
        },
        {
          "data": {
            "image/png": "[encoded data removed]",
            "text/plain": [
              "<Figure size 432x288 with 1 Axes>"
            ]
          },
          "metadata": {
            "needs_background": "light",
            "tags": []
          },
          "output_type": "display_data"
        }
      ],
      "source": [
        "fig, ax = plt.subplots()\n",
        "ax.scatter(df['KBytesReceived_log'],df['label_num'],color='red',s=1)\n",
        "ax.set(ylabel=\"label_num\",xlabel=\"KBytesReceived_log\")"
      ]
    },
    {
      "cell_type": "markdown",
      "metadata": {
        "id": "gHcWXuDNZagL"
      },
      "source": [
        "Let's train the new model"
      ]
    },
    {
      "cell_type": "code",
      "execution_count": null,
      "metadata": {
        "colab": {
          "base_uri": "https://localhost:8080/",
          "height": 35
        },
        "id": "VAS5kTjkZagL",
        "outputId": "4400c733-c345-4621-e97d-ff44e0a3aa51"
      },
      "outputs": [
        {
          "data": {
            "text/plain": [
              "AndreaLinearRegression(fit_intercept=True)"
            ]
          },
          "execution_count": 82,
          "metadata": {
            "tags": []
          },
          "output_type": "execute_result"
        }
      ],
      "source": [
        "X_train = df_train[['KBytesReceived_log'] ].values.reshape(-1,1)\n",
        "X_test = df_test[['KBytesReceived_log'] ].values.reshape(-1,1)\n",
        "\n",
        "model.fit(X_train, y_train, column_names=['KBytesReceived'])"
      ]
    },
    {
      "cell_type": "markdown",
      "metadata": {
        "id": "WbeTFubdZagP"
      },
      "source": [
        "Let's plot the corresponding line"
      ]
    },
    {
      "cell_type": "code",
      "execution_count": null,
      "metadata": {
        "colab": {
          "base_uri": "https://localhost:8080/",
          "height": 280
        },
        "id": "We2LSmUnZagQ",
        "outputId": "fac9b0ad-2ba3-4fa1-b9a1-eb5cdf11a36d",
        "scrolled": true
      },
      "outputs": [
        {
          "data": {
            "image/png": "[encoded data removed]",
            "text/plain": [
              "<Figure size 432x288 with 1 Axes>"
            ]
          },
          "execution_count": 83,
          "metadata": {
            "tags": []
          },
          "output_type": "execute_result"
        }
      ],
      "source": [
        "interval = np.arange(2,6,0.1).reshape(-1,1)\n",
        "h_values = model.predict(interval)\n",
        "ax.plot(interval, h_values, label=\"transformed model\")\n",
        "fig"
      ]
    },
    {
      "cell_type": "markdown",
      "metadata": {
        "id": "pszfNzWxZagT"
      },
      "source": [
        "Let's check the test error"
      ]
    },
    {
      "cell_type": "code",
      "execution_count": null,
      "metadata": {
        "colab": {
          "base_uri": "https://localhost:8080/",
          "height": 35
        },
        "id": "_L3e1H5uZagU",
        "outputId": "3739564a-3d93-4f2f-c535-20ddc46c7d75"
      },
      "outputs": [
        {
          "data": {
            "text/plain": [
              "268.55219885344326"
            ]
          },
          "execution_count": 84,
          "metadata": {
            "tags": []
          },
          "output_type": "execute_result"
        }
      ],
      "source": [
        "y_pred = model.predict(X_test)\n",
        "RMSE_1_feature = math.sqrt(mean_squared_error(y_test, y_pred) )\n",
        "RMSE_1_feature"
      ]
    },
    {
      "cell_type": "markdown",
      "metadata": {
        "id": "Bl7xYaT-ZagX"
      },
      "source": [
        "Using the logarithmic transformation, we improved the model."
      ]
    },
    {
      "cell_type": "code",
      "execution_count": null,
      "metadata": {
        "colab": {
          "base_uri": "https://localhost:8080/",
          "height": 482
        },
        "id": "27gZR7paZagZ",
        "outputId": "517174c8-2c93-426a-8b35-4df29753d8a6"
      },
      "outputs": [
        {
          "name": "stdout",
          "output_type": "stream",
          "text": [
            "                            OLS Regression Results                            \n",
            "==============================================================================\n",
            "Dep. Variable:                      y   R-squared:                       0.102\n",
            "Model:                            OLS   Adj. R-squared:                  0.097\n",
            "Method:                 Least Squares   F-statistic:                     22.84\n",
            "Date:                Thu, 16 Apr 2020   Prob (F-statistic):           3.39e-06\n",
            "Time:                        12:46:29   Log-Likelihood:                -1439.2\n",
            "No. Observations:                 204   AIC:                             2882.\n",
            "Df Residuals:                     202   BIC:                             2889.\n",
            "Df Model:                           1                                         \n",
            "Covariance Type:            nonrobust                                         \n",
            "==================================================================================\n",
            "                     coef    std err          t      P>|t|      [0.025      0.975]\n",
            "----------------------------------------------------------------------------------\n",
            "intercept        118.3754    104.580      1.132      0.259     -87.832     324.583\n",
            "KBytesReceived   123.5323     25.850      4.779      0.000      72.562     174.503\n",
            "==============================================================================\n",
            "Omnibus:                       17.210   Durbin-Watson:                   2.129\n",
            "Prob(Omnibus):                  0.000   Jarque-Bera (JB):                9.465\n",
            "Skew:                           0.356   Prob(JB):                      0.00880\n",
            "Kurtosis:                       2.220   Cond. No.                         22.7\n",
            "==============================================================================\n",
            "\n",
            "Warnings:\n",
            "[1] Standard Errors assume that the covariance matrix of the errors is correctly specified.\n"
          ]
        }
      ],
      "source": [
        "model.summary()"
      ]
    },
    {
      "cell_type": "markdown",
      "metadata": {
        "id": "REbeolOgZagc"
      },
      "source": [
        "## Multivariate Linear Regression"
      ]
    },
    {
      "cell_type": "markdown",
      "metadata": {
        "id": "CdHfgvUBZage"
      },
      "source": [
        "Can we improve the test loss if we use other features?\n",
        "\n",
        "Have a first look at the more correlated features (see notebook on data exploration)"
      ]
    },
    {
      "cell_type": "code",
      "execution_count": null,
      "metadata": {
        "colab": {
          "base_uri": "https://localhost:8080/",
          "height": 230
        },
        "id": "DbWsM3UfZage",
        "outputId": "b4864ed3-fad9-49c1-ab95-42997e66fe33",
        "scrolled": false
      },
      "outputs": [
        {
          "data": {
            "text/plain": [
              "label_num       1.000\n",
              "EpochTime      -0.408\n",
              "StartTime      -0.408\n",
              "PacketsSent     0.384\n",
              "PacketsSent0    0.363\n",
              "                ...  \n",
              "Buffering         NaN\n",
              "Paused            NaN\n",
              "Playing           NaN\n",
              "CollectData       NaN\n",
              "BufferValid       NaN\n",
              "Name: label_num, Length: 141, dtype: float64"
            ]
          },
          "execution_count": 86,
          "metadata": {
            "tags": []
          },
          "output_type": "execute_result"
        }
      ],
      "source": [
        "corrmatrix = df.corr().round(3)\n",
        "corr_to_label_num = corrmatrix['label_num']\n",
        "# We sort based on the absolute value (see https://stackoverflow.com/a/30486411/2110769)\n",
        "corr_to_label_num.reindex(corr_to_label_num.abs().sort_values(ascending=False).index)"
      ]
    },
    {
      "cell_type": "markdown",
      "metadata": {
        "id": "dNbHwND7Zagh"
      },
      "source": [
        "Let's add `StartTime` among the regressors"
      ]
    },
    {
      "cell_type": "code",
      "execution_count": null,
      "metadata": {
        "colab": {
          "base_uri": "https://localhost:8080/",
          "height": 535
        },
        "id": "sjuycwtpZagi",
        "outputId": "c0a4f480-5255-459f-9acc-410e29577b9f",
        "scrolled": false
      },
      "outputs": [
        {
          "name": "stdout",
          "output_type": "stream",
          "text": [
            "                            OLS Regression Results                            \n",
            "==============================================================================\n",
            "Dep. Variable:                      y   R-squared:                       0.101\n",
            "Model:                            OLS   Adj. R-squared:                  0.097\n",
            "Method:                 Least Squares   F-statistic:                     22.77\n",
            "Date:                Thu, 16 Apr 2020   Prob (F-statistic):           3.49e-06\n",
            "Time:                        12:46:31   Log-Likelihood:                -1439.2\n",
            "No. Observations:                 204   AIC:                             2882.\n",
            "Df Residuals:                     202   BIC:                             2889.\n",
            "Df Model:                           1                                         \n",
            "Covariance Type:            nonrobust                                         \n",
            "======================================================================================\n",
            "                         coef    std err          t      P>|t|      [0.025      0.975]\n",
            "--------------------------------------------------------------------------------------\n",
            "intercept              0.0289      0.006      4.809      0.000       0.017       0.041\n",
            "KBytesReceived_log   124.2161     25.830      4.809      0.000      73.285     175.147\n",
            "StartTime           7.599e-11   6.87e-11      1.106      0.270   -5.95e-11    2.12e-10\n",
            "==============================================================================\n",
            "Omnibus:                       17.150   Durbin-Watson:                   2.129\n",
            "Prob(Omnibus):                  0.000   Jarque-Bera (JB):                9.455\n",
            "Skew:                           0.356   Prob(JB):                      0.00885\n",
            "Kurtosis:                       2.221   Cond. No.                     1.72e+15\n",
            "==============================================================================\n",
            "\n",
            "Warnings:\n",
            "[1] Standard Errors assume that the covariance matrix of the errors is correctly specified.\n",
            "[2] The condition number is large, 1.72e+15. This might indicate that there are\n",
            "strong multicollinearity or other numerical problems.\n"
          ]
        }
      ],
      "source": [
        "cols = ['KBytesReceived_log', 'StartTime']\n",
        "\n",
        "# We do not need to reshape(-1,1) this time, as we \n",
        "# have a matrix with two columns now.\n",
        "X_train = df_train[cols ].values\n",
        "model = AndreaLinearRegression()\n",
        "model.fit(X_train, y_train, column_names=cols)\n",
        "model.summary()"
      ]
    },
    {
      "cell_type": "code",
      "execution_count": null,
      "metadata": {
        "id": "Tmlixw1NZagl"
      },
      "outputs": [],
      "source": [
        "X_test = df_test[cols ].values\n",
        "y_pred = model.predict(X_test)"
      ]
    },
    {
      "cell_type": "code",
      "execution_count": null,
      "metadata": {
        "colab": {
          "base_uri": "https://localhost:8080/",
          "height": 35
        },
        "id": "FraeuQnEZago",
        "outputId": "f5c2788d-f7de-40e8-c6e9-4d4668f90fbe"
      },
      "outputs": [
        {
          "name": "stdout",
          "output_type": "stream",
          "text": [
            "RMSE now:  268.5379993855423 ; RMSE with one feature:  268.55219885344326\n"
          ]
        }
      ],
      "source": [
        "MSE = mean_squared_error(y_test, y_pred)\n",
        "RMSE_some_features = math.sqrt(MSE)\n",
        "print('RMSE now: ', RMSE_some_features, '; RMSE with one feature: ',\n",
        "      RMSE_1_feature)"
      ]
    },
    {
      "cell_type": "markdown",
      "metadata": {
        "id": "eVU_kuFZZagr"
      },
      "source": [
        "We improved our RMSE by also considering `StartTime` ... BUT ...\n",
        "\n",
        "**Attention**: Remember that start time is simply the time at which the experimenter who created the dataset had started each connection. The correlation between `StartTime` and the label is __artificial__, just because the experimenter first measured many low quality video sessions and then high quality. This would not be true in a real deployment\n",
        "\n",
        "\n",
        "**DO NOT BE OBSESSED BY REDUCING THE ERROR, AND LOOK AT THE MEANING OF FEATURES!**"
      ]
    },
    {
      "cell_type": "markdown",
      "metadata": {
        "id": "nZ2bud7SZagr"
      },
      "source": [
        "Let's add other correlated features"
      ]
    },
    {
      "cell_type": "code",
      "execution_count": null,
      "metadata": {
        "id": "_GboaeldZags"
      },
      "outputs": [],
      "source": [
        "cols=['PacketsSent', 'KBytesReceived_log', 'PacketsReceived_log']\n",
        "\n",
        "X_train = df_train[cols].values\n",
        "X_test = df_test[cols].values"
      ]
    },
    {
      "cell_type": "code",
      "execution_count": null,
      "metadata": {
        "colab": {
          "base_uri": "https://localhost:8080/",
          "height": 35
        },
        "id": "DPVAJUlpZagv",
        "outputId": "643c5e91-1390-4d07-d453-229a3ad76113"
      },
      "outputs": [
        {
          "data": {
            "text/plain": [
              "AndreaLinearRegression(fit_intercept=True)"
            ]
          },
          "execution_count": 91,
          "metadata": {
            "tags": []
          },
          "output_type": "execute_result"
        }
      ],
      "source": [
        "model = AndreaLinearRegression()\n",
        "model.fit(X_train, y_train, column_names=cols)"
      ]
    },
    {
      "cell_type": "code",
      "execution_count": null,
      "metadata": {
        "colab": {
          "base_uri": "https://localhost:8080/",
          "height": 517
        },
        "id": "sWqb1jEtZagy",
        "outputId": "0a662e76-7bcd-4314-e370-f4fc0308e334"
      },
      "outputs": [
        {
          "name": "stdout",
          "output_type": "stream",
          "text": [
            "                            OLS Regression Results                            \n",
            "==============================================================================\n",
            "Dep. Variable:                      y   R-squared:                       0.174\n",
            "Model:                            OLS   Adj. R-squared:                  0.161\n",
            "Method:                 Least Squares   F-statistic:                     14.03\n",
            "Date:                Thu, 16 Apr 2020   Prob (F-statistic):           2.46e-08\n",
            "Time:                        12:46:35   Log-Likelihood:                -1430.6\n",
            "No. Observations:                 204   AIC:                             2869.\n",
            "Df Residuals:                     200   BIC:                             2883.\n",
            "Df Model:                           3                                         \n",
            "Covariance Type:            nonrobust                                         \n",
            "=======================================================================================\n",
            "                          coef    std err          t      P>|t|      [0.025      0.975]\n",
            "---------------------------------------------------------------------------------------\n",
            "intercept             297.7369    109.629      2.716      0.007      81.559     513.915\n",
            "PacketsSent             5.0637      1.212      4.177      0.000       2.673       7.454\n",
            "KBytesReceived_log    -32.2476    159.920     -0.202      0.840    -347.593     283.097\n",
            "PacketsReceived_log    90.4637    166.725      0.543      0.588    -238.301     419.228\n",
            "==============================================================================\n",
            "Omnibus:                        9.198   Durbin-Watson:                   2.129\n",
            "Prob(Omnibus):                  0.010   Jarque-Bera (JB):                6.602\n",
            "Skew:                           0.318   Prob(JB):                       0.0368\n",
            "Kurtosis:                       2.389   Cond. No.                         341.\n",
            "==============================================================================\n",
            "\n",
            "Warnings:\n",
            "[1] Standard Errors assume that the covariance matrix of the errors is correctly specified.\n"
          ]
        }
      ],
      "source": [
        "model.summary()"
      ]
    },
    {
      "cell_type": "code",
      "execution_count": null,
      "metadata": {
        "colab": {
          "base_uri": "https://localhost:8080/",
          "height": 35
        },
        "id": "28QPi5WGZag1",
        "outputId": "25d6553d-4a32-49be-ac1f-a4be8122d75b"
      },
      "outputs": [
        {
          "name": "stdout",
          "output_type": "stream",
          "text": [
            "RMSE now:  263.9484263293869 ; RMSE with one feature:  268.55219885344326\n"
          ]
        }
      ],
      "source": [
        "y_pred = model.predict(X_test)\n",
        "MSE = mean_squared_error(y_test, y_pred)\n",
        "RMSE_few_features = math.sqrt(MSE)\n",
        "print('RMSE now: ', RMSE_few_features, '; RMSE with one feature: ',\n",
        "      RMSE_1_feature)"
      ]
    },
    {
      "cell_type": "markdown",
      "metadata": {
        "id": "NrFCFlriZag4"
      },
      "source": [
        "We improved a bit"
      ]
    },
    {
      "cell_type": "markdown",
      "metadata": {
        "id": "1XbfGR2fZag6"
      },
      "source": [
        "What if we take all the numeric features?"
      ]
    },
    {
      "cell_type": "code",
      "execution_count": null,
      "metadata": {
        "colab": {
          "base_uri": "https://localhost:8080/",
          "height": 159
        },
        "id": "SjROnnLiZag8",
        "outputId": "ba309754-ddcd-43c0-c425-2b64379509c7"
      },
      "outputs": [
        {
          "data": {
            "text/plain": [
              "Index(['RelativeTime', 'PacketsSent', 'PacketsReceived', 'BytesSent',\n",
              "       'BytesReceived', 'PacketsSent0', 'PacketsReceived0', 'BytesSent0',\n",
              "       'BytesReceived0', 'PacketsSent1',\n",
              "       ...\n",
              "       'BufferHealth', 'BufferProgress', 'KBytesReceived', 'label_num',\n",
              "       'KBytesReceived_log', 'PacketsSent_log', 'PacketsReceived_log',\n",
              "       'BytesSent_log', 'BytesReceived_log', 'BufferProgress_log'],\n",
              "      dtype='object', length=140)"
            ]
          },
          "execution_count": 94,
          "metadata": {
            "tags": []
          },
          "output_type": "execute_result"
        }
      ],
      "source": [
        "# Trick from https://stackoverflow.com/a/51684628/2110769\n",
        "cols = df_train.select_dtypes([np.number]).columns\n",
        "cols"
      ]
    },
    {
      "cell_type": "markdown",
      "metadata": {
        "id": "11Pl33fDZahN"
      },
      "source": [
        "To construct our X_train and X_test, we should remove the target `label_num` and the \"artificial features\"."
      ]
    },
    {
      "cell_type": "code",
      "execution_count": null,
      "metadata": {
        "id": "Yrrf0SVQZahO"
      },
      "outputs": [],
      "source": [
        "cols = cols.drop(['label_num', 'StartTime', 'EpochTime' ] )"
      ]
    },
    {
      "cell_type": "code",
      "execution_count": null,
      "metadata": {
        "colab": {
          "base_uri": "https://localhost:8080/",
          "height": 1000
        },
        "id": "5nHJfwq1ZahR",
        "outputId": "6368b3d1-ba57-45f9-8d22-494ba110ce89",
        "scrolled": false
      },
      "outputs": [
        {
          "name": "stdout",
          "output_type": "stream",
          "text": [
            "                            OLS Regression Results                            \n",
            "==============================================================================\n",
            "Dep. Variable:                      y   R-squared:                       0.612\n",
            "Model:                            OLS   Adj. R-squared:                  0.449\n",
            "Method:                 Least Squares   F-statistic:                     3.758\n",
            "Date:                Thu, 16 Apr 2020   Prob (F-statistic):           5.19e-11\n",
            "Time:                        12:46:37   Log-Likelihood:                -1353.5\n",
            "No. Observations:                 204   AIC:                             2829.\n",
            "Df Residuals:                     143   BIC:                             3032.\n",
            "Df Model:                          60                                         \n",
            "Covariance Type:            nonrobust                                         \n",
            "=======================================================================================\n",
            "                          coef    std err          t      P>|t|      [0.025      0.975]\n",
            "---------------------------------------------------------------------------------------\n",
            "RelativeTime            5.8463      2.351      2.487      0.014       1.199      10.494\n",
            "PacketsSent           -24.1450    118.696     -0.203      0.839    -258.771     210.481\n",
            "PacketsReceived     -1034.0938   2210.599     -0.468      0.641   -5403.767    3335.579\n",
            "BytesSent              11.6353     13.084      0.889      0.375     -14.227      37.498\n",
            "BytesReceived           9.5579     22.270      0.429      0.668     -34.463      53.579\n",
            "PacketsSent0           38.1521    118.393      0.322      0.748    -195.875     272.179\n",
            "PacketsReceived0     1053.0249   2210.033      0.476      0.634   -3315.531    5421.581\n",
            "BytesSent0            -11.7933     13.081     -0.902      0.369     -37.649      14.063\n",
            "BytesReceived0         -9.5800     22.269     -0.430      0.668     -53.600      34.440\n",
            "PacketsSent1           47.2402    120.805      0.391      0.696    -191.555     286.035\n",
            "PacketsReceived1      968.6417   2208.515      0.439      0.662   -3396.913    5334.196\n",
            "BytesSent1            -11.7453     13.117     -0.895      0.372     -37.674      14.183\n",
            "BytesReceived1         -9.5234     22.268     -0.428      0.670     -53.541      34.494\n",
            "PacketsSent2           49.1591    122.943      0.400      0.690    -193.862     292.180\n",
            "PacketsReceived2      978.5710   2216.434      0.442      0.660   -3402.637    5359.779\n",
            "BytesSent2            -11.5724     13.103     -0.883      0.379     -37.472      14.328\n",
            "BytesReceived2         -9.5410     22.273     -0.428      0.669     -53.569      34.487\n",
            "PacketsSent3           -4.8913    148.828     -0.033      0.974    -299.079     289.297\n",
            "PacketsReceived3     1092.6383   2224.123      0.491      0.624   -3303.768    5489.045\n",
            "BytesSent3            -11.6394     13.116     -0.887      0.376     -37.565      14.286\n",
            "BytesReceived3         -9.6007     22.278     -0.431      0.667     -53.638      34.437\n",
            "PacketsSent4          123.4797    164.214      0.752      0.453    -201.120     448.080\n",
            "PacketsReceived4     1154.9732   2223.109      0.520      0.604   -3239.429    5549.375\n",
            "BytesSent4            -12.3238     13.138     -0.938      0.350     -38.293      13.646\n",
            "BytesReceived4         -9.6797     22.277     -0.435      0.665     -53.714      34.354\n",
            "PacketsSent5          -82.2396    240.111     -0.343      0.732    -556.866     392.387\n",
            "PacketsReceived5     1499.5363   1942.014      0.772      0.441   -2339.228    5338.300\n",
            "BytesSent5            -11.7105     13.090     -0.895      0.373     -37.586      14.165\n",
            "BytesReceived5        -10.2214     22.095     -0.463      0.644     -53.897      33.454\n",
            "PacketsSent6          152.7860    202.194      0.756      0.451    -246.888     552.460\n",
            "PacketsReceived6     1093.0407   2252.790      0.485      0.628   -3360.032    5546.114\n",
            "BytesSent6            -13.0080     13.034     -0.998      0.320     -38.771      12.755\n",
            "BytesReceived6         -9.5208     22.352     -0.426      0.671     -53.705      34.663\n",
            "PacketsSent7         -528.1204    393.600     -1.342      0.182   -1306.147     249.907\n",
            "PacketsReceived7     1112.8869   2154.267      0.517      0.606   -3145.436    5371.210\n",
            "BytesSent7            -10.4301     13.067     -0.798      0.426     -36.261      15.400\n",
            "BytesReceived7         -9.3759     22.233     -0.422      0.674     -53.324      34.572\n",
            "PacketsSent8          447.1822    302.963      1.476      0.142    -151.682    1046.046\n",
            "PacketsReceived8       -0.0229      0.033     -0.694      0.489      -0.088       0.042\n",
            "BytesSent8            -11.5989     13.264     -0.874      0.383     -37.818      14.620\n",
            "BytesReceived8         -8.5917     18.017     -0.477      0.634     -44.206      27.023\n",
            "PacketsSent9           -0.0395      0.034     -1.154      0.250      -0.107       0.028\n",
            "PacketsReceived9       -0.0190      0.029     -0.664      0.508      -0.076       0.038\n",
            "BytesSent9            -12.4991     13.020     -0.960      0.339     -38.236      13.238\n",
            "BytesReceived9         -8.2171     20.209     -0.407      0.685     -48.164      31.730\n",
            "Protocol10             -0.0041      0.004     -0.928      0.355      -0.013       0.005\n",
            "PacketsSent10           0.0049      0.005      0.928      0.355      -0.006       0.015\n",
            "PacketsReceived10      -0.0008      0.001     -0.928      0.355      -0.003       0.001\n",
            "BytesSent10            -0.0007      0.001     -0.928      0.355      -0.002       0.001\n",
            "BytesReceived10        -0.0017      0.002     -0.929      0.355      -0.005       0.002\n",
            "Protocol11             -0.0003      0.000     -0.929      0.354      -0.001       0.000\n",
            "PacketsSent11           0.0005      0.000      0.927      0.355      -0.001       0.001\n",
            "PacketsReceived11    8.786e-05   9.53e-05      0.922      0.358      -0.000       0.000\n",
            "BytesSent11             0.0003      0.000      0.928      0.355      -0.000       0.001\n",
            "BytesReceived11        -0.0001      0.000     -0.929      0.354      -0.000       0.000\n",
            "PacketsSent12           0.2800      0.400      0.700      0.485      -0.511       1.071\n",
            "PacketsReceived12      -0.1993      0.210     -0.950      0.344      -0.614       0.216\n",
            "BytesSent12            -4.8242     11.718     -0.412      0.681     -27.987      18.339\n",
            "BytesReceived12       -14.6985     14.866     -0.989      0.324     -44.085      14.688\n",
            "PacketsSent13           0.0262      0.054      0.483      0.630      -0.081       0.133\n",
            "PacketsReceived13      -0.0796      0.078     -1.020      0.309      -0.234       0.075\n",
            "BytesSent13           -11.9873     12.794     -0.937      0.350     -37.277      13.302\n",
            "BytesReceived13        -6.3360     16.552     -0.383      0.702     -39.053      26.381\n",
            "Protocol14                   0          0        nan        nan           0           0\n",
            "PacketsSent14                0          0        nan        nan           0           0\n",
            "PacketsReceived14            0          0        nan        nan           0           0\n",
            "BytesSent14                  0          0        nan        nan           0           0\n",
            "BytesReceived14              0          0        nan        nan           0           0\n",
            "PacketsSent15           0.0133      0.065      0.206      0.837      -0.115       0.142\n",
            "PacketsReceived15       0.0939      0.131      0.715      0.476      -0.166       0.353\n",
            "BytesSent15           -12.1068     12.821     -0.944      0.347     -37.450      13.236\n",
            "BytesReceived15         6.0734      9.157      0.663      0.508     -12.027      24.174\n",
            "Protocol16                   0          0        nan        nan           0           0\n",
            "PacketsSent16                0          0        nan        nan           0           0\n",
            "PacketsReceived16            0          0        nan        nan           0           0\n",
            "BytesSent16                  0          0        nan        nan           0           0\n",
            "BytesReceived16              0          0        nan        nan           0           0\n",
            "Protocol17                   0          0        nan        nan           0           0\n",
            "PacketsSent17                0          0        nan        nan           0           0\n",
            "PacketsReceived17            0          0        nan        nan           0           0\n",
            "BytesSent17                  0          0        nan        nan           0           0\n",
            "BytesReceived17              0          0        nan        nan           0           0\n",
            "Protocol18                   0          0        nan        nan           0           0\n",
            "PacketsSent18                0          0        nan        nan           0           0\n",
            "PacketsReceived18            0          0        nan        nan           0           0\n",
            "BytesSent18                  0          0        nan        nan           0           0\n",
            "BytesReceived18              0          0        nan        nan           0           0\n",
            "Protocol19                   0          0        nan        nan           0           0\n",
            "PacketsSent19                0          0        nan        nan           0           0\n",
            "PacketsReceived19            0          0        nan        nan           0           0\n",
            "BytesSent19                  0          0        nan        nan           0           0\n",
            "BytesReceived19              0          0        nan        nan           0           0\n",
            "Protocol20                   0          0        nan        nan           0           0\n",
            "PacketsSent20                0          0        nan        nan           0           0\n",
            "PacketsReceived20            0          0        nan        nan           0           0\n",
            "BytesSent20                  0          0        nan        nan           0           0\n",
            "BytesReceived20              0          0        nan        nan           0           0\n",
            "Protocol21                   0          0        nan        nan           0           0\n",
            "PacketsSent21                0          0        nan        nan           0           0\n",
            "PacketsReceived21            0          0        nan        nan           0           0\n",
            "BytesSent21                  0          0        nan        nan           0           0\n",
            "BytesReceived21              0          0        nan        nan           0           0\n",
            "Protocol22                   0          0        nan        nan           0           0\n",
            "PacketsSent22                0          0        nan        nan           0           0\n",
            "PacketsReceived22            0          0        nan        nan           0           0\n",
            "BytesSent22                  0          0        nan        nan           0           0\n",
            "BytesReceived22              0          0        nan        nan           0           0\n",
            "Protocol23                   0          0        nan        nan           0           0\n",
            "PacketsSent23                0          0        nan        nan           0           0\n",
            "PacketsReceived23            0          0        nan        nan           0           0\n",
            "BytesSent23                  0          0        nan        nan           0           0\n",
            "BytesReceived23              0          0        nan        nan           0           0\n",
            "Protocol24                   0          0        nan        nan           0           0\n",
            "PacketsSent24                0          0        nan        nan           0           0\n",
            "PacketsReceived24            0          0        nan        nan           0           0\n",
            "BytesSent24                  0          0        nan        nan           0           0\n",
            "BytesReceived24              0          0        nan        nan           0           0\n",
            "Protocol25                   0          0        nan        nan           0           0\n",
            "PacketsSent25         839.2530    500.593      1.677      0.096    -150.265    1828.771\n",
            "PacketsReceived25    1031.5677   2210.588      0.467      0.641   -3338.084    5401.220\n",
            "BytesSent25           -21.2913     14.292     -1.490      0.138     -49.542       6.959\n",
            "BytesReceived25        -9.5637     22.270     -0.429      0.668     -53.584      34.457\n",
            "Buffering                    0          0        nan        nan           0           0\n",
            "Paused                       0          0        nan        nan           0           0\n",
            "Playing              2.281e+07   2.46e+07      0.929      0.354   -2.57e+07    7.13e+07\n",
            "CollectData                  0          0        nan        nan           0           0\n",
            "PlaybackProgress    -2278.7429   1643.384     -1.387      0.168   -5527.208     969.722\n",
            "Length                 -0.2554      0.218     -1.170      0.244      -0.687       0.176\n",
            "BufferHealth           21.0690     33.745      0.624      0.533     -45.635      87.773\n",
            "BufferProgress       4.339e+06   1.67e+06      2.602      0.010    1.04e+06    7.64e+06\n",
            "KBytesReceived          7.7152      8.300      0.930      0.354      -8.691      24.122\n",
            "KBytesReceived_log   3.302e+06   3.55e+06      0.929      0.354   -3.72e+06    1.03e+07\n",
            "PacketsSent_log       327.5762    112.132      2.921      0.004     105.925     549.227\n",
            "PacketsReceived_log   -10.3264    363.225     -0.028      0.977    -728.310     707.658\n",
            "BytesSent_log        -137.9484     49.054     -2.812      0.006    -234.914     -40.983\n",
            "BytesReceived_log   -3.302e+06   3.55e+06     -0.929      0.354   -1.03e+07    3.72e+06\n",
            "BufferProgress_log  -4.391e+06   1.69e+06     -2.604      0.010   -7.72e+06   -1.06e+06\n",
            "==============================================================================\n",
            "Omnibus:                        4.172   Durbin-Watson:                   2.001\n",
            "Prob(Omnibus):                  0.124   Jarque-Bera (JB):                4.149\n",
            "Skew:                           0.214   Prob(JB):                        0.126\n",
            "Kurtosis:                       3.553   Cond. No.                     1.06e+16\n",
            "==============================================================================\n",
            "\n",
            "Warnings:\n",
            "[1] Standard Errors assume that the covariance matrix of the errors is correctly specified.\n",
            "[2] The smallest eigenvalue is 2.49e-20. This might indicate that there are\n",
            "strong multicollinearity problems or that the design matrix is singular.\n"
          ]
        },
        {
          "name": "stderr",
          "output_type": "stream",
          "text": [
            "/usr/local/lib/python3.6/dist-packages/statsmodels/base/model.py:1294: RuntimeWarning: invalid value encountered in true_divide\n",
            "  return self.params / self.bse\n",
            "/usr/local/lib/python3.6/dist-packages/scipy/stats/_distn_infrastructure.py:903: RuntimeWarning: invalid value encountered in greater\n",
            "  return (a < x) & (x < b)\n",
            "/usr/local/lib/python3.6/dist-packages/scipy/stats/_distn_infrastructure.py:903: RuntimeWarning: invalid value encountered in less\n",
            "  return (a < x) & (x < b)\n",
            "/usr/local/lib/python3.6/dist-packages/scipy/stats/_distn_infrastructure.py:1912: RuntimeWarning: invalid value encountered in less_equal\n",
            "  cond2 = cond0 & (x <= _a)\n"
          ]
        }
      ],
      "source": [
        "X_train = df_train[cols].values\n",
        "X_test = df_test[cols].values\n",
        "\n",
        "model = AndreaLinearRegression()\n",
        "model.fit(X_train, y_train, column_names=cols)\n",
        "model.summary()"
      ]
    },
    {
      "cell_type": "markdown",
      "metadata": {
        "id": "ai8jcQWoZahU"
      },
      "source": [
        "Let's deal with the warnings later. Let's just test the model."
      ]
    },
    {
      "cell_type": "code",
      "execution_count": null,
      "metadata": {
        "colab": {
          "base_uri": "https://localhost:8080/",
          "height": 35
        },
        "id": "nUWi-TaTZahV",
        "outputId": "8405840b-b5ad-4a2b-bd39-8db1e2412f0d",
        "scrolled": false
      },
      "outputs": [
        {
          "name": "stdout",
          "output_type": "stream",
          "text": [
            "RMSE now:  1954.0803147860581 ; RMSE with some features:  268.5379993855423\n"
          ]
        }
      ],
      "source": [
        "y_pred = model.predict(X_test)\n",
        "RMSE_all_features = math.sqrt(mean_squared_error(y_test, y_pred))\n",
        "print('RMSE now: ', RMSE_all_features, '; RMSE with some features: ',\n",
        "      RMSE_some_features)\n"
      ]
    },
    {
      "cell_type": "code",
      "execution_count": null,
      "metadata": {
        "id": "n3tzEi3cmula"
      },
      "outputs": [],
      "source": []
    },
    {
      "cell_type": "markdown",
      "metadata": {
        "id": "PRxh16UpZahZ"
      },
      "source": [
        "What? We use more features and we obtain a worse model?"
      ]
    },
    {
      "cell_type": "markdown",
      "metadata": {
        "id": "QpNpB1PwZaha"
      },
      "source": [
        "## Correct a bad model"
      ]
    },
    {
      "cell_type": "markdown",
      "metadata": {
        "id": "1k7jW9vEZahb"
      },
      "source": [
        "Note that no coefficient is significant (look at the p-value). The model is \"rubbish\"."
      ]
    },
    {
      "cell_type": "markdown",
      "metadata": {
        "id": "bzeEhcr-Zahc"
      },
      "source": [
        "\n",
        "\n",
        "Remember that\n",
        "$$\n",
        "    \\boldsymbol{\\theta}^* = (X^T X)^{-1} X^T \\textbf{y}\n",
        "$$\n",
        "\n",
        "Is $X^T X$ invertible?"
      ]
    },
    {
      "cell_type": "markdown",
      "metadata": {
        "id": "pM8WINYfZahc"
      },
      "source": [
        "### Constant features"
      ]
    },
    {
      "cell_type": "code",
      "execution_count": null,
      "metadata": {
        "colab": {
          "base_uri": "https://localhost:8080/",
          "height": 1000
        },
        "id": "GIClDLhbZahd",
        "outputId": "860602a6-6af8-4cac-d4ed-1ca51bd45927"
      },
      "outputs": [
        {
          "name": "stdout",
          "output_type": "stream",
          "text": [
            "Help on module feature_engineering:\n",
            "\n",
            "NAME\n",
            "    feature_engineering\n",
            "\n",
            "FUNCTIONS\n",
            "    get_features_correlated_to_target(df, target_feature)\n",
            "        Returns the Pearson's correlation coefficient between the \n",
            "        features and the target\n",
            "        \n",
            "        Parameters\n",
            "        ------------\n",
            "        df_: dataframe\n",
            "        \n",
            "        target_feature: string\n",
            "                the name of the target feature\n",
            "        \n",
            "        Returns\n",
            "        --------------\n",
            "        Series\n",
            "                A series of features, with the Person's correlation \n",
            "                coefficient between them and the target, ordered in decreasing\n",
            "                oder of correlation\n",
            "    \n",
            "    get_most_correlated(df)\n",
            "        Returns the pairs of features in descending order of Person's \n",
            "        correlation\n",
            "        \n",
            "        Parameters\n",
            "        --------------\n",
            "        df: dataframe\n",
            "        \n",
            "        Returns\n",
            "        -------------\n",
            "        Series\n",
            "                the pair of features and the Pearson's coefficient\n",
            "    \n",
            "    low_var_features(df, threshold)\n",
            "        Returns the features whose variance is \n",
            "        above the threshold\n",
            "        \n",
            "        Parameters\n",
            "        ------------\n",
            "        df: dataframe\n",
            "        threshold : float\n",
            "        \n",
            "        Returns\n",
            "        -----------\n",
            "        list\n",
            "            the names of the features whose variance is below\n",
            "            the threshold\n",
            "\n",
            "FILE\n",
            "    /content/feature_engineering.py\n",
            "\n",
            "\n"
          ]
        }
      ],
      "source": [
        "import feature_engineering # From the course library\n",
        "help(feature_engineering)\n"
      ]
    },
    {
      "cell_type": "code",
      "execution_count": null,
      "metadata": {
        "colab": {
          "base_uri": "https://localhost:8080/",
          "height": 1000
        },
        "id": "ZyiWYWNDZahf",
        "outputId": "6f966a63-8da7-41c9-fded-930bc2fb62cf"
      },
      "outputs": [
        {
          "data": {
            "text/plain": [
              "['RelativeTime',\n",
              " 'PacketsSent',\n",
              " 'PacketsReceived',\n",
              " 'BytesSent',\n",
              " 'BytesReceived',\n",
              " 'PacketsSent0',\n",
              " 'PacketsReceived0',\n",
              " 'BytesSent0',\n",
              " 'BytesReceived0',\n",
              " 'PacketsSent1',\n",
              " 'PacketsReceived1',\n",
              " 'BytesSent1',\n",
              " 'BytesReceived1',\n",
              " 'PacketsSent2',\n",
              " 'PacketsReceived2',\n",
              " 'BytesSent2',\n",
              " 'BytesReceived2',\n",
              " 'PacketsSent3',\n",
              " 'PacketsReceived3',\n",
              " 'BytesSent3',\n",
              " 'BytesReceived3',\n",
              " 'PacketsSent4',\n",
              " 'PacketsReceived4',\n",
              " 'BytesSent4',\n",
              " 'BytesReceived4',\n",
              " 'PacketsSent5',\n",
              " 'PacketsReceived5',\n",
              " 'BytesSent5',\n",
              " 'BytesReceived5',\n",
              " 'PacketsSent6',\n",
              " 'PacketsReceived6',\n",
              " 'BytesSent6',\n",
              " 'BytesReceived6',\n",
              " 'PacketsSent7',\n",
              " 'PacketsReceived7',\n",
              " 'BytesSent7',\n",
              " 'BytesReceived7',\n",
              " 'PacketsSent8',\n",
              " 'PacketsReceived8',\n",
              " 'BytesSent8',\n",
              " 'BytesReceived8',\n",
              " 'PacketsSent9',\n",
              " 'PacketsReceived9',\n",
              " 'BytesSent9',\n",
              " 'BytesReceived9',\n",
              " 'PacketsSent12',\n",
              " 'PacketsReceived12',\n",
              " 'BytesSent12',\n",
              " 'BytesReceived12',\n",
              " 'PacketsSent13',\n",
              " 'PacketsReceived13',\n",
              " 'BytesSent13',\n",
              " 'BytesReceived13',\n",
              " 'PacketsSent15',\n",
              " 'PacketsReceived15',\n",
              " 'BytesSent15',\n",
              " 'BytesReceived15',\n",
              " 'PacketsSent25',\n",
              " 'PacketsReceived25',\n",
              " 'BytesSent25',\n",
              " 'BytesReceived25',\n",
              " 'PlaybackProgress',\n",
              " 'Length',\n",
              " 'BufferHealth',\n",
              " 'BufferProgress',\n",
              " 'KBytesReceived',\n",
              " 'KBytesReceived_log',\n",
              " 'PacketsSent_log',\n",
              " 'PacketsReceived_log',\n",
              " 'BytesSent_log',\n",
              " 'BytesReceived_log',\n",
              " 'BufferProgress_log']"
            ]
          },
          "execution_count": 99,
          "metadata": {
            "tags": []
          },
          "output_type": "execute_result"
        }
      ],
      "source": [
        "non_constant_features = \\\n",
        "    feature_engineering.low_var_features(df_train[cols], threshold=0)\n",
        "non_constant_features"
      ]
    },
    {
      "cell_type": "markdown",
      "metadata": {
        "id": "aWYkdm4J2xiA"
      },
      "source": [
        "The following function returns the features whose variance is above 0"
      ]
    },
    {
      "cell_type": "markdown",
      "metadata": {
        "id": "-2BEOjFKZahj"
      },
      "source": [
        "We must only use non-constant features"
      ]
    },
    {
      "cell_type": "code",
      "execution_count": null,
      "metadata": {
        "colab": {
          "base_uri": "https://localhost:8080/",
          "height": 1000
        },
        "id": "SsgTyrozZahk",
        "outputId": "56361a2c-f01b-45fb-89f3-699eb7940c0e",
        "scrolled": false
      },
      "outputs": [
        {
          "name": "stdout",
          "output_type": "stream",
          "text": [
            "                            OLS Regression Results                            \n",
            "==============================================================================\n",
            "Dep. Variable:                      y   R-squared:                       0.612\n",
            "Model:                            OLS   Adj. R-squared:                  0.449\n",
            "Method:                 Least Squares   F-statistic:                     3.758\n",
            "Date:                Thu, 16 Apr 2020   Prob (F-statistic):           5.19e-11\n",
            "Time:                        12:47:32   Log-Likelihood:                -1353.5\n",
            "No. Observations:                 204   AIC:                             2829.\n",
            "Df Residuals:                     143   BIC:                             3032.\n",
            "Df Model:                          60                                         \n",
            "Covariance Type:            nonrobust                                         \n",
            "=======================================================================================\n",
            "                          coef    std err          t      P>|t|      [0.025      0.975]\n",
            "---------------------------------------------------------------------------------------\n",
            "intercept            2.281e+07   2.46e+07      0.929      0.354   -2.57e+07    7.13e+07\n",
            "RelativeTime            5.8463      2.351      2.487      0.014       1.199      10.494\n",
            "PacketsSent            76.4531     50.727      1.507      0.134     -23.819     176.725\n",
            "PacketsReceived     -1034.0938   2210.599     -0.468      0.641   -5403.767    3335.579\n",
            "BytesSent              -0.4651      0.546     -0.852      0.395      -1.544       0.613\n",
            "BytesReceived           9.5656     22.270      0.430      0.668     -34.455      53.586\n",
            "PacketsSent0          -62.4460     51.400     -1.215      0.226    -164.048      39.156\n",
            "PacketsReceived0     1053.0249   2210.033      0.476      0.634   -3315.531    5421.581\n",
            "BytesSent0              0.3071      0.548      0.560      0.576      -0.777       1.391\n",
            "BytesReceived0         -9.5800     22.269     -0.430      0.668     -53.600      34.440\n",
            "PacketsSent1          -53.3579     51.366     -1.039      0.301    -154.893      48.177\n",
            "PacketsReceived1      968.6417   2208.515      0.439      0.662   -3396.913    5334.196\n",
            "BytesSent1              0.3551      0.564      0.629      0.530      -0.760       1.471\n",
            "BytesReceived1         -9.5234     22.268     -0.428      0.670     -53.541      34.494\n",
            "PacketsSent2          -51.4389     54.535     -0.943      0.347    -159.238      56.360\n",
            "PacketsReceived2      978.5710   2216.434      0.442      0.660   -3402.637    5359.779\n",
            "BytesSent2              0.5280      0.636      0.830      0.408      -0.729       1.785\n",
            "BytesReceived2         -9.5410     22.273     -0.428      0.669     -53.569      34.487\n",
            "PacketsSent3         -105.4894     96.107     -1.098      0.274    -295.462      84.484\n",
            "PacketsReceived3     1092.6383   2224.123      0.491      0.624   -3303.768    5489.045\n",
            "BytesSent3              0.4609      0.644      0.715      0.476      -0.813       1.735\n",
            "BytesReceived3         -9.6007     22.278     -0.431      0.667     -53.638      34.437\n",
            "PacketsSent4           22.8816    105.672      0.217      0.829    -185.999     231.762\n",
            "PacketsReceived4     1154.9732   2223.109      0.520      0.604   -3239.429    5549.375\n",
            "BytesSent4             -0.2234      0.648     -0.345      0.731      -1.503       1.057\n",
            "BytesReceived4         -9.6797     22.277     -0.435      0.665     -53.714      34.354\n",
            "PacketsSent5         -182.8377    209.940     -0.871      0.385    -597.824     232.149\n",
            "PacketsReceived5     1499.5363   1942.014      0.772      0.441   -2339.228    5338.300\n",
            "BytesSent5              0.3899      0.579      0.673      0.502      -0.755       1.535\n",
            "BytesReceived5        -10.2214     22.095     -0.463      0.644     -53.897      33.454\n",
            "PacketsSent6           52.1879    182.513      0.286      0.775    -308.585     412.960\n",
            "PacketsReceived6     1093.0407   2252.790      0.485      0.628   -3360.032    5546.114\n",
            "BytesSent6             -0.9077      0.909     -0.999      0.320      -2.704       0.889\n",
            "BytesReceived6         -9.5208     22.352     -0.426      0.671     -53.705      34.663\n",
            "PacketsSent7         -628.7185    385.289     -1.632      0.105   -1390.316     132.879\n",
            "PacketsReceived7     1112.8869   2154.267      0.517      0.606   -3145.436    5371.210\n",
            "BytesSent7              1.6703      1.581      1.056      0.293      -1.456       4.796\n",
            "BytesReceived7         -9.3759     22.233     -0.422      0.674     -53.324      34.572\n",
            "PacketsSent8          346.5841    280.222      1.237      0.218    -207.329     900.497\n",
            "PacketsReceived8       -0.0162      0.032     -0.499      0.618      -0.080       0.048\n",
            "BytesSent8              0.5015      2.051      0.245      0.807      -3.552       4.555\n",
            "BytesReceived8         -8.5917     18.017     -0.477      0.634     -44.206      27.023\n",
            "PacketsSent9           -0.0112      0.018     -0.624      0.534      -0.047       0.024\n",
            "PacketsReceived9       -0.0112      0.028     -0.401      0.689      -0.066       0.044\n",
            "BytesSent9             -0.6912      2.716     -0.255      0.799      -6.060       4.677\n",
            "BytesReceived9         -8.3353     20.202     -0.413      0.681     -48.269      31.599\n",
            "PacketsSent12           0.3839      0.392      0.980      0.329      -0.390       1.158\n",
            "PacketsReceived12      -0.1751      0.206     -0.848      0.398      -0.583       0.233\n",
            "BytesSent12             5.7504      3.322      1.731      0.086      -0.815      12.316\n",
            "BytesReceived12       -12.2576     14.451     -0.848      0.398     -40.824      16.308\n",
            "PacketsSent13          -0.0127      0.032     -0.397      0.692      -0.076       0.051\n",
            "PacketsReceived13      -0.0164      0.041     -0.402      0.688      -0.097       0.064\n",
            "BytesSent13            -0.1809      0.785     -0.231      0.818      -1.732       1.370\n",
            "BytesReceived13        -6.5253     16.541     -0.394      0.694     -39.221      26.170\n",
            "PacketsSent15           0.0348      0.059      0.585      0.560      -0.083       0.152\n",
            "PacketsReceived15       0.0774      0.131      0.591      0.556      -0.181       0.336\n",
            "BytesSent15            -0.2948      0.790     -0.373      0.710      -1.857       1.267\n",
            "BytesReceived15         5.4147      9.165      0.591      0.556     -12.702      23.532\n",
            "PacketsSent25         738.6549    487.872      1.514      0.132    -225.718    1703.028\n",
            "PacketsReceived25    1031.5677   2210.588      0.467      0.641   -3338.084    5401.220\n",
            "BytesSent25            -9.1909      5.614     -1.637      0.104     -20.288       1.906\n",
            "BytesReceived25        -9.5637     22.270     -0.429      0.668     -53.584      34.457\n",
            "PlaybackProgress    -2278.7429   1643.384     -1.387      0.168   -5527.208     969.722\n",
            "Length                 -0.2554      0.218     -1.170      0.244      -0.687       0.176\n",
            "BufferHealth           21.0690     33.745      0.624      0.533     -45.635      87.773\n",
            "BufferProgress       4.339e+06   1.67e+06      2.602      0.010    1.04e+06    7.64e+06\n",
            "KBytesReceived          0.0199      0.022      0.890      0.375      -0.024       0.064\n",
            "KBytesReceived_log   3.302e+06   3.55e+06      0.929      0.354   -3.72e+06    1.03e+07\n",
            "PacketsSent_log       327.5762    112.132      2.921      0.004     105.925     549.227\n",
            "PacketsReceived_log   -10.3264    363.225     -0.028      0.977    -728.310     707.658\n",
            "BytesSent_log        -137.9484     49.054     -2.812      0.006    -234.914     -40.983\n",
            "BytesReceived_log   -3.302e+06   3.55e+06     -0.929      0.354   -1.03e+07    3.72e+06\n",
            "BufferProgress_log  -4.391e+06   1.69e+06     -2.604      0.010   -7.72e+06   -1.06e+06\n",
            "==============================================================================\n",
            "Omnibus:                        4.172   Durbin-Watson:                   2.001\n",
            "Prob(Omnibus):                  0.124   Jarque-Bera (JB):                4.149\n",
            "Skew:                           0.214   Prob(JB):                        0.126\n",
            "Kurtosis:                       3.553   Cond. No.                     1.28e+16\n",
            "==============================================================================\n",
            "\n",
            "Warnings:\n",
            "[1] Standard Errors assume that the covariance matrix of the errors is correctly specified.\n",
            "[2] The smallest eigenvalue is 1.71e-20. This might indicate that there are\n",
            "strong multicollinearity problems or that the design matrix is singular.\n"
          ]
        }
      ],
      "source": [
        "X_train = df_train[non_constant_features].values\n",
        "X_test = df_test[non_constant_features].values\n",
        "\n",
        "model = AndreaLinearRegression()\n",
        "model.fit(X_train, y_train, column_names=non_constant_features)\n",
        "model.summary()"
      ]
    },
    {
      "cell_type": "markdown",
      "metadata": {
        "id": "BYgecGCQZahm"
      },
      "source": [
        "The warnings disappear. Still, coefficients are no significant"
      ]
    },
    {
      "cell_type": "code",
      "execution_count": null,
      "metadata": {
        "colab": {
          "base_uri": "https://localhost:8080/",
          "height": 35
        },
        "id": "XLcXagAQZahn",
        "outputId": "c4165a17-6b5a-40bf-d311-339702406f2f"
      },
      "outputs": [
        {
          "name": "stdout",
          "output_type": "stream",
          "text": [
            "RMSE:  1144.9467892491787\n"
          ]
        }
      ],
      "source": [
        "y_pred = model.predict(X_test)\n",
        "RMSE = math.sqrt(mean_squared_error(y_test, y_pred))\n",
        "print('RMSE: ', RMSE)"
      ]
    },
    {
      "cell_type": "markdown",
      "metadata": {
        "id": "2Y_2YDsSZahq"
      },
      "source": [
        "We improved a bit, but the performance is still bad."
      ]
    },
    {
      "cell_type": "markdown",
      "metadata": {
        "id": "lx_CPTiMZahs"
      },
      "source": [
        "### Collinearity"
      ]
    },
    {
      "cell_type": "markdown",
      "metadata": {
        "id": "EsS_dI4bZaht"
      },
      "source": [
        "Let's check the most correlated features"
      ]
    },
    {
      "cell_type": "code",
      "execution_count": null,
      "metadata": {
        "colab": {
          "base_uri": "https://localhost:8080/",
          "height": 230
        },
        "id": "7ubrLajeZahu",
        "outputId": "e058efb8-4418-4310-a5cc-3a1c4a887160"
      },
      "outputs": [
        {
          "data": {
            "text/plain": [
              "PacketsReceived12  BytesReceived12       1.0\n",
              "PacketsReceived13  BytesReceived13       1.0\n",
              "BufferProgress     BufferProgress_log    1.0\n",
              "BytesReceived      KBytesReceived        1.0\n",
              "PacketsReceived8   BytesReceived8        1.0\n",
              "                                        ... \n",
              "                   BufferHealth          0.0\n",
              "BytesReceived4     BytesSent9           -0.0\n",
              "BytesReceived8     BufferHealth          0.0\n",
              "BytesReceived15    BufferHealth         -0.0\n",
              "PacketsReceived15  BufferHealth         -0.0\n",
              "Length: 2556, dtype: float64"
            ]
          },
          "execution_count": 102,
          "metadata": {
            "tags": []
          },
          "output_type": "execute_result"
        }
      ],
      "source": [
        "most_corr_feats = \\\n",
        "    feature_engineering.get_most_correlated(\n",
        "            df_train[non_constant_features])\n",
        "most_corr_feats"
      ]
    },
    {
      "cell_type": "markdown",
      "metadata": {
        "id": "wmECMMzIZahz"
      },
      "source": [
        "As expected, packets received/set and bytes received/set are highly correlated. Also the variables transformed to log are correlated with the original ones. We can remove the original ones. If we have KBytes, we can remove Bytes"
      ]
    },
    {
      "cell_type": "code",
      "execution_count": null,
      "metadata": {
        "colab": {
          "base_uri": "https://localhost:8080/",
          "height": 1000
        },
        "id": "UnHxjL7zZah1",
        "outputId": "299bbf50-91c1-456a-dde5-83a8283d7909",
        "scrolled": true
      },
      "outputs": [
        {
          "name": "stdout",
          "output_type": "stream",
          "text": [
            "                            OLS Regression Results                            \n",
            "==============================================================================\n",
            "Dep. Variable:                      y   R-squared:                       0.583\n",
            "Model:                            OLS   Adj. R-squared:                  0.424\n",
            "Method:                 Least Squares   F-statistic:                     3.674\n",
            "Date:                Thu, 16 Apr 2020   Prob (F-statistic):           1.65e-10\n",
            "Time:                        12:49:34   Log-Likelihood:                -1360.8\n",
            "No. Observations:                 204   AIC:                             2836.\n",
            "Df Residuals:                     147   BIC:                             3025.\n",
            "Df Model:                          56                                         \n",
            "Covariance Type:            nonrobust                                         \n",
            "=======================================================================================\n",
            "                          coef    std err          t      P>|t|      [0.025      0.975]\n",
            "---------------------------------------------------------------------------------------\n",
            "intercept             540.6574    347.515      1.556      0.122    -146.114    1227.429\n",
            "RelativeTime            5.1428      2.359      2.180      0.031       0.480       9.805\n",
            "PacketsSent           793.9222    512.914      1.548      0.124    -219.716    1807.560\n",
            "PacketsReceived         4.4504      8.830      0.504      0.615     -12.999      21.900\n",
            "BytesSent              -1.8098      1.238     -1.462      0.146      -4.255       0.636\n",
            "PacketsSent0         -779.3447    513.280     -1.518      0.131   -1793.705     235.016\n",
            "BytesSent0              1.6462      1.244      1.324      0.188      -0.811       4.104\n",
            "BytesReceived0          0.7102      1.002      0.709      0.480      -1.270       2.690\n",
            "PacketsSent1         -774.9165    512.386     -1.512      0.133   -1787.510     237.677\n",
            "PacketsReceived1      -51.9312     60.838     -0.854      0.395    -172.161      68.299\n",
            "BytesSent1              1.6822      1.233      1.364      0.175      -0.755       4.120\n",
            "BytesReceived1          0.7457      1.009      0.739      0.461      -1.248       2.739\n",
            "PacketsSent2         -777.1960    515.204     -1.509      0.134   -1795.359     240.967\n",
            "PacketsReceived2      -35.2584     75.950     -0.464      0.643    -185.353     114.837\n",
            "BytesSent2              1.8889      1.277      1.479      0.141      -0.635       4.413\n",
            "BytesReceived2          0.7229      1.007      0.718      0.474      -1.268       2.713\n",
            "PacketsSent3         -862.4740    518.586     -1.663      0.098   -1887.321     162.373\n",
            "PacketsReceived3       68.2532     73.608      0.927      0.355     -77.213     213.719\n",
            "BytesSent3              1.9183      1.283      1.496      0.137      -0.617       4.453\n",
            "BytesReceived3          0.6811      1.001      0.681      0.497      -1.296       2.658\n",
            "PacketsSent4         -707.3428    520.702     -1.358      0.176   -1736.372     321.686\n",
            "PacketsReceived4      114.5381    130.652      0.877      0.382    -143.662     372.738\n",
            "BytesSent4              1.0072      1.276      0.789      0.431      -1.514       3.529\n",
            "BytesReceived4          0.6112      1.023      0.598      0.551      -1.410       2.632\n",
            "PacketsSent5         -951.3242    560.636     -1.697      0.092   -2059.272     156.623\n",
            "PacketsReceived5      616.7071    289.609      2.129      0.035      44.371    1189.043\n",
            "BytesSent5              1.7879      1.234      1.449      0.149      -0.650       4.226\n",
            "BytesReceived5          0.0081      0.975      0.008      0.993      -1.919       1.935\n",
            "PacketsSent6         -627.1954    551.347     -1.138      0.257   -1716.785     462.394\n",
            "PacketsReceived6       68.8179    295.327      0.233      0.816    -514.817     652.453\n",
            "BytesSent6              0.1898      1.418      0.134      0.894      -2.612       2.991\n",
            "BytesReceived6          0.8058      1.374      0.586      0.558      -1.910       3.521\n",
            "PacketsSent7        -1264.5443    848.382     -1.491      0.138   -2941.146     412.057\n",
            "PacketsReceived7       91.0960    278.171      0.327      0.744    -458.635     640.827\n",
            "BytesSent7              2.6187      2.271      1.153      0.251      -1.869       7.106\n",
            "BytesReceived7          0.8494      1.053      0.807      0.421      -1.231       2.930\n",
            "PacketsSent8         -351.0730    612.018     -0.574      0.567   -1560.564     858.418\n",
            "BytesSent8              2.3115      2.097      1.103      0.272      -1.832       6.455\n",
            "BytesReceived8         -0.4239      1.090     -0.389      0.698      -2.578       1.730\n",
            "PacketsSent9           -0.0073      0.006     -1.334      0.184      -0.018       0.004\n",
            "PacketsReceived9      9.72e-05      0.002      0.059      0.953      -0.003       0.003\n",
            "BytesSent9             -2.5950      2.017     -1.286      0.200      -6.582       1.392\n",
            "BytesReceived9          0.1589      1.108      0.143      0.886      -2.031       2.349\n",
            "PacketsSent12          -0.1051      0.546     -0.193      0.848      -1.184       0.974\n",
            "PacketsReceived12       0.0229      0.256      0.090      0.929      -0.482       0.528\n",
            "BytesSent12            -4.3764      7.641     -0.573      0.568     -19.476      10.723\n",
            "BytesReceived12         1.6014     17.892      0.090      0.929     -33.757      36.959\n",
            "PacketsSent13          -0.0037      0.003     -1.061      0.290      -0.011       0.003\n",
            "BytesSent13            -1.1201      0.808     -1.386      0.168      -2.717       0.477\n",
            "BytesReceived13        -0.2165      1.345     -0.161      0.872      -2.875       2.442\n",
            "PacketsSent15          -0.0259      0.035     -0.750      0.455      -0.094       0.042\n",
            "BytesSent15            -1.1095      0.776     -1.429      0.155      -2.644       0.425\n",
            "BytesReceived15        -3.4639      5.397     -0.642      0.522     -14.130       7.202\n",
            "BytesSent25            -7.6595      4.944     -1.549      0.123     -17.429       2.110\n",
            "BytesReceived25         0.7107      1.002      0.709      0.479      -1.270       2.691\n",
            "PlaybackProgress    -2686.4092   1659.574     -1.619      0.108   -5966.115     593.297\n",
            "Length                 -0.1552      0.216     -0.717      0.474      -0.583       0.272\n",
            "BufferHealth            9.0591     34.057      0.266      0.791     -58.246      76.364\n",
            "KBytesReceived       -714.6890   1002.016     -0.713      0.477   -2694.906    1265.528\n",
            "KBytesReceived_log    175.6171    320.554      0.548      0.585    -457.872     809.106\n",
            "PacketsSent_log       316.0259    114.306      2.765      0.006      90.130     541.922\n",
            "PacketsReceived_log  -110.1026    364.747     -0.302      0.763    -830.927     610.722\n",
            "BytesSent_log        -125.8737     49.900     -2.523      0.013    -224.488     -27.259\n",
            "BufferProgress_log  -3776.4879   2.47e+04     -0.153      0.879   -5.26e+04     4.5e+04\n",
            "==============================================================================\n",
            "Omnibus:                        0.980   Durbin-Watson:                   1.963\n",
            "Prob(Omnibus):                  0.613   Jarque-Bera (JB):                0.697\n",
            "Skew:                           0.122   Prob(JB):                        0.706\n",
            "Kurtosis:                       3.149   Cond. No.                     1.34e+16\n",
            "==============================================================================\n",
            "\n",
            "Warnings:\n",
            "[1] Standard Errors assume that the covariance matrix of the errors is correctly specified.\n",
            "[2] The smallest eigenvalue is 6.92e-21. This might indicate that there are\n",
            "strong multicollinearity problems or that the design matrix is singular.\n"
          ]
        }
      ],
      "source": [
        "to_remove = ['PacketsReceived8',\n",
        "        'PacketsReceived15', 'PacketsReceived13',\n",
        "          'BytesReceived','BytesReceived_log','BufferProgress',\n",
        "          'PacketsReceived0', 'PacketsSent25', 'PacketsReceived25'\n",
        "            ]\n",
        "\n",
        "# Take from non_constant_features all the features except the ones in\n",
        "# to_remove\n",
        "cols_1 = []\n",
        "for feat in non_constant_features:\n",
        "    if feat not in to_remove:\n",
        "        cols_1.append(feat)\n",
        "        \n",
        "        \n",
        "X_train = df_train[cols_1].values\n",
        "X_test = df_test[cols_1].values\n",
        "model = AndreaLinearRegression()\n",
        "model.fit(X_train, y_train, column_names=cols_1)\n",
        "model.summary()"
      ]
    },
    {
      "cell_type": "code",
      "execution_count": null,
      "metadata": {
        "colab": {
          "base_uri": "https://localhost:8080/",
          "height": 35
        },
        "id": "8n70GVWyZah3",
        "outputId": "a9329560-5c3f-4b37-f1e0-ed032bdd2bc3",
        "scrolled": false
      },
      "outputs": [
        {
          "name": "stdout",
          "output_type": "stream",
          "text": [
            "RMSE:  489.05947123250775 ; RMSE with one feature:  273.8960512946408\n"
          ]
        }
      ],
      "source": [
        "y_pred = model.predict(X_test)\n",
        "RMSE = math.sqrt(mean_squared_error(y_test, y_pred))\n",
        "print('RMSE: ', RMSE, '; RMSE with one feature: ',\n",
        "      RMSE_one_feature)"
      ]
    },
    {
      "cell_type": "markdown",
      "metadata": {
        "id": "i2PCkKiZZah5"
      },
      "source": [
        "After removing the most correlated features, the model improved a bit. Still, the model with one feature only is better.\n",
        "\n",
        "Let's check the correlation among the remaining features."
      ]
    },
    {
      "cell_type": "code",
      "execution_count": null,
      "metadata": {
        "colab": {
          "base_uri": "https://localhost:8080/",
          "height": 230
        },
        "id": "arQu57dPZah5",
        "outputId": "dc77961a-5a96-4886-90d9-2a1efcf248a6"
      },
      "outputs": [
        {
          "data": {
            "text/plain": [
              "PacketsReceived12  BytesReceived12    1.000\n",
              "PacketsSent13      BytesReceived13    0.998\n",
              "PacketsReceived1   BytesReceived1     0.997\n",
              "PacketsSent13      BytesSent13        0.996\n",
              "PacketsSent8       BytesSent8         0.995\n",
              "                                      ...  \n",
              "BytesReceived6     BytesSent25        0.000\n",
              "BytesReceived0     BytesSent6        -0.000\n",
              "BytesReceived5     PacketsSent_log    0.000\n",
              "BytesReceived15    BufferHealth      -0.000\n",
              "                   BytesSent_log     -0.000\n",
              "Length: 1953, dtype: float64"
            ]
          },
          "execution_count": 105,
          "metadata": {
            "tags": []
          },
          "output_type": "execute_result"
        }
      ],
      "source": [
        "most_corr_feats = \\\n",
        "    feature_engineering.get_most_correlated(df_train[cols_1])\n",
        "most_corr_feats"
      ]
    },
    {
      "cell_type": "markdown",
      "metadata": {
        "id": "UhqiOmqmZah8"
      },
      "source": [
        "Let's remove all the features regarding Packets (as they are highly correlated with Bytes). Still, preserve the ones that have high correlation with the target."
      ]
    },
    {
      "cell_type": "code",
      "execution_count": null,
      "metadata": {
        "colab": {
          "base_uri": "https://localhost:8080/",
          "height": 230
        },
        "id": "119h9DifZah9",
        "outputId": "52ecf110-bef6-4a20-9c83-7ceeab7f4f49"
      },
      "outputs": [
        {
          "data": {
            "text/plain": [
              "label_num              1.00\n",
              "PacketsSent            0.40\n",
              "PacketsSent0           0.37\n",
              "PacketsReceived_log    0.32\n",
              "KBytesReceived_log     0.32\n",
              "                       ... \n",
              "BytesSent25           -0.01\n",
              "PacketsReceived2       0.01\n",
              "BytesReceived2         0.01\n",
              "PacketsSent6          -0.01\n",
              "Length                -0.00\n",
              "Name: label_num, Length: 64, dtype: float64"
            ]
          },
          "execution_count": 106,
          "metadata": {
            "tags": []
          },
          "output_type": "execute_result"
        }
      ],
      "source": [
        "feature_engineering.get_features_correlated_to_target(\n",
        "                    df_train[cols_1+['label_num']], 'label_num')"
      ]
    },
    {
      "cell_type": "code",
      "execution_count": null,
      "metadata": {
        "id": "Cxh-_MHwZah_"
      },
      "outputs": [],
      "source": [
        "to_preserve = ['PacketsSent','PacketsSent0','PacketsReceived_log',\n",
        "               'PacketsSent_log'\n",
        "]\n",
        "\n",
        "cols_2 = []\n",
        "for feat in cols_1:\n",
        "    if 'Packets' not in feat:\n",
        "        cols_2.append(feat)\n",
        "        \n",
        "cols_2 = cols_2 + to_preserve"
      ]
    },
    {
      "cell_type": "code",
      "execution_count": null,
      "metadata": {
        "colab": {
          "base_uri": "https://localhost:8080/",
          "height": 1000
        },
        "id": "mjpl7M_MZaiB",
        "outputId": "731012b2-cff3-4132-97f0-69a411371d13"
      },
      "outputs": [
        {
          "name": "stdout",
          "output_type": "stream",
          "text": [
            "                            OLS Regression Results                            \n",
            "==============================================================================\n",
            "Dep. Variable:                      y   R-squared:                       0.538\n",
            "Model:                            OLS   Adj. R-squared:                  0.425\n",
            "Method:                 Least Squares   F-statistic:                     4.747\n",
            "Date:                Thu, 16 Apr 2020   Prob (F-statistic):           6.44e-13\n",
            "Time:                        12:50:54   Log-Likelihood:                -1371.3\n",
            "No. Observations:                 204   AIC:                             2825.\n",
            "Df Residuals:                     163   BIC:                             2961.\n",
            "Df Model:                          40                                         \n",
            "Covariance Type:            nonrobust                                         \n",
            "=======================================================================================\n",
            "                          coef    std err          t      P>|t|      [0.025      0.975]\n",
            "---------------------------------------------------------------------------------------\n",
            "intercept             525.5257    311.281      1.688      0.093     -89.137    1140.188\n",
            "RelativeTime            2.7719      1.553      1.784      0.076      -0.295       5.839\n",
            "BytesSent               0.3905      0.267      1.463      0.146      -0.137       0.918\n",
            "BytesSent0             -0.5567      0.275     -2.027      0.044      -1.099      -0.014\n",
            "BytesReceived0         -0.4381      0.767     -0.571      0.569      -1.953       1.077\n",
            "BytesSent1             -0.6751      0.272     -2.479      0.014      -1.213      -0.137\n",
            "BytesReceived1         -0.4366      0.767     -0.569      0.570      -1.952       1.078\n",
            "BytesSent2             -0.4924      0.270     -1.822      0.070      -1.026       0.041\n",
            "BytesReceived2         -0.4471      0.767     -0.583      0.561      -1.961       1.067\n",
            "BytesSent3             -0.5534      0.282     -1.960      0.052      -1.111       0.004\n",
            "BytesReceived3         -0.4449      0.767     -0.580      0.563      -1.959       1.069\n",
            "BytesSent4             -0.6938      0.335     -2.070      0.040      -1.356      -0.032\n",
            "BytesReceived4         -0.4399      0.767     -0.573      0.567      -1.955       1.075\n",
            "BytesSent5             -0.5084      0.302     -1.684      0.094      -1.105       0.088\n",
            "BytesReceived5         -0.8353      0.788     -1.060      0.291      -2.391       0.720\n",
            "BytesSent6             -0.7433      0.458     -1.622      0.107      -1.648       0.161\n",
            "BytesReceived6          0.1271      1.031      0.123      0.902      -1.909       2.163\n",
            "BytesSent7             -0.6244      0.447     -1.396      0.165      -1.508       0.259\n",
            "BytesReceived7         -0.5511      0.780     -0.706      0.481      -2.092       0.990\n",
            "BytesSent8              0.5867      0.818      0.717      0.474      -1.029       2.202\n",
            "BytesReceived8         -0.9049      0.849     -1.065      0.288      -2.582       0.773\n",
            "BytesSent9              1.0961      0.975      1.125      0.262      -0.828       3.020\n",
            "BytesReceived9         -0.6639      0.794     -0.836      0.404      -2.232       0.904\n",
            "BytesSent12             5.8529      3.292      1.778      0.077      -0.647      12.353\n",
            "BytesReceived12       -20.6651     10.900     -1.896      0.060     -42.188       0.858\n",
            "BytesSent13            -0.7787      0.703     -1.107      0.270      -2.167       0.610\n",
            "BytesReceived13        -0.4825      0.852     -0.566      0.572      -2.166       1.201\n",
            "BytesSent15            -0.9049      0.693     -1.307      0.193      -2.273       0.463\n",
            "BytesReceived15        -0.2987      4.059     -0.074      0.941      -8.315       7.717\n",
            "BytesSent25            -0.6141      0.354     -1.732      0.085      -1.314       0.086\n",
            "BytesReceived25        -0.4371      0.767     -0.570      0.570      -1.952       1.078\n",
            "PlaybackProgress    -2352.4879   1595.523     -1.474      0.142   -5503.046     798.070\n",
            "Length                 -0.0752      0.201     -0.374      0.709      -0.473       0.322\n",
            "BufferHealth            0.2490     31.129      0.008      0.994     -61.219      61.717\n",
            "KBytesReceived        436.9129    767.095      0.570      0.570   -1077.812    1951.638\n",
            "KBytesReceived_log    -18.4679    247.667     -0.075      0.941    -507.518     470.582\n",
            "BytesSent_log        -125.6596     46.912     -2.679      0.008    -218.293     -33.026\n",
            "BufferProgress_log   3111.0583    2.2e+04      0.142      0.888   -4.03e+04    4.65e+04\n",
            "PacketsSent            21.2698     14.198      1.498      0.136      -6.766      49.305\n",
            "PacketsSent0           -7.5235     15.129     -0.497      0.620     -37.398      22.351\n",
            "PacketsReceived_log    73.8615    273.979      0.270      0.788    -467.144     614.866\n",
            "PacketsSent_log       343.7151    105.603      3.255      0.001     135.190     552.240\n",
            "==============================================================================\n",
            "Omnibus:                        0.530   Durbin-Watson:                   1.973\n",
            "Prob(Omnibus):                  0.767   Jarque-Bera (JB):                0.605\n",
            "Skew:                           0.118   Prob(JB):                        0.739\n",
            "Kurtosis:                       2.876   Cond. No.                     1.34e+16\n",
            "==============================================================================\n",
            "\n",
            "Warnings:\n",
            "[1] Standard Errors assume that the covariance matrix of the errors is correctly specified.\n",
            "[2] The smallest eigenvalue is 6.92e-21. This might indicate that there are\n",
            "strong multicollinearity problems or that the design matrix is singular.\n"
          ]
        }
      ],
      "source": [
        "X_train = df_train[cols_2].values\n",
        "X_test = df_test[cols_2].values\n",
        "model = AndreaLinearRegression()\n",
        "model.fit(X_train, y_train, column_names=cols_2)\n",
        "model.summary()"
      ]
    },
    {
      "cell_type": "markdown",
      "metadata": {
        "id": "-icK5AaTZaiE"
      },
      "source": [
        "The significance of some features is reinforced, but in general significance is weak."
      ]
    },
    {
      "cell_type": "code",
      "execution_count": null,
      "metadata": {
        "colab": {
          "base_uri": "https://localhost:8080/",
          "height": 35
        },
        "id": "JMOdDU0OZaiE",
        "outputId": "c920884e-9ba1-478a-edf6-da59508981a4"
      },
      "outputs": [
        {
          "name": "stdout",
          "output_type": "stream",
          "text": [
            "RMSE:  6714.577335487809 ; RMSE with one feature:  273.8960512946408\n"
          ]
        }
      ],
      "source": [
        "y_pred = model.predict(X_test)\n",
        "RMSE = math.sqrt(mean_squared_error(y_test, y_pred))\n",
        "print('RMSE: ', RMSE, '; RMSE with one feature: ',\n",
        "      RMSE_one_feature)"
      ]
    },
    {
      "cell_type": "markdown",
      "metadata": {
        "id": "14X2Y8rLZaiH"
      },
      "source": [
        "Performance is still bad. Let's remove other highly correlated features."
      ]
    },
    {
      "cell_type": "code",
      "execution_count": null,
      "metadata": {
        "colab": {
          "base_uri": "https://localhost:8080/",
          "height": 230
        },
        "id": "Gp0wHSjaZaiI",
        "outputId": "6e2f1837-f9cb-43c5-9da6-fc362b32a221"
      },
      "outputs": [
        {
          "data": {
            "text/plain": [
              "BytesSent13         BytesReceived13        0.989\n",
              "BytesSent12         BytesReceived12        0.988\n",
              "KBytesReceived_log  PacketsReceived_log    0.987\n",
              "BytesSent8          BytesReceived8         0.985\n",
              "BytesSent0          PacketsSent0           0.975\n",
              "                                           ...  \n",
              "BytesReceived15     BytesSent_log         -0.000\n",
              "                    BufferHealth          -0.000\n",
              "BytesReceived5      PacketsSent_log        0.000\n",
              "BytesReceived6      BytesSent25            0.000\n",
              "BytesReceived0      BytesSent6            -0.000\n",
              "Length: 820, dtype: float64"
            ]
          },
          "execution_count": 110,
          "metadata": {
            "tags": []
          },
          "output_type": "execute_result"
        }
      ],
      "source": [
        "most_corr_feats = \\\n",
        "    feature_engineering.get_most_correlated(df_train[cols_2])\n",
        "most_corr_feats"
      ]
    },
    {
      "cell_type": "code",
      "execution_count": null,
      "metadata": {
        "colab": {
          "base_uri": "https://localhost:8080/",
          "height": 35
        },
        "id": "pA0iOdTeZaiL",
        "outputId": "e4ca3da1-7192-4eac-a368-d9adb0506cb5"
      },
      "outputs": [
        {
          "name": "stdout",
          "output_type": "stream",
          "text": [
            "RMSE:  252.00084651697878 ; RMSE with one feature:  273.8960512946408\n"
          ]
        }
      ],
      "source": [
        "to_remove = ['BytesReceived13','BytesReceived12','PacketsReceived_log',\n",
        "             'BytesReceived8','PacketsSent0','PacketsSent',\n",
        "             'BufferProgress_log','BytesReceived15','BytesReceived1',\n",
        "             'PacketsSent_log','PacketsSent', 'KBytesReceived'\n",
        "            ]\n",
        "\n",
        "cols_3 = []\n",
        "for feat in cols_2:\n",
        "    if feat not in to_remove:\n",
        "        cols_3.append(feat)\n",
        "        \n",
        "X_train = df_train[cols_3].values\n",
        "X_test = df_test[cols_3].values\n",
        "model = AndreaLinearRegression()\n",
        "model.fit(X_train, y_train)\n",
        "\n",
        "y_pred = model.predict(X_test)\n",
        "RMSE = math.sqrt(mean_squared_error(y_test, y_pred))\n",
        "print('RMSE: ', RMSE, '; RMSE with one feature: ',\n",
        "      RMSE_one_feature)"
      ]
    },
    {
      "cell_type": "markdown",
      "metadata": {
        "id": "aSZ1_Df1ZaiO"
      },
      "source": [
        "We finally have a model that seems better than the initial univariate one!"
      ]
    },
    {
      "cell_type": "code",
      "execution_count": null,
      "metadata": {
        "colab": {
          "base_uri": "https://localhost:8080/",
          "height": 551
        },
        "id": "93CtBAJ4C2S0",
        "outputId": "14129658-032f-4a39-e383-4812c912798d"
      },
      "outputs": [
        {
          "data": {
            "text/plain": [
              "['RelativeTime',\n",
              " 'BytesSent',\n",
              " 'BytesSent0',\n",
              " 'BytesReceived0',\n",
              " 'BytesSent1',\n",
              " 'BytesSent2',\n",
              " 'BytesReceived2',\n",
              " 'BytesSent3',\n",
              " 'BytesReceived3',\n",
              " 'BytesSent4',\n",
              " 'BytesReceived4',\n",
              " 'BytesSent5',\n",
              " 'BytesReceived5',\n",
              " 'BytesSent6',\n",
              " 'BytesReceived6',\n",
              " 'BytesSent7',\n",
              " 'BytesReceived7',\n",
              " 'BytesSent8',\n",
              " 'BytesSent9',\n",
              " 'BytesReceived9',\n",
              " 'BytesSent12',\n",
              " 'BytesSent13',\n",
              " 'BytesSent15',\n",
              " 'BytesSent25',\n",
              " 'BytesReceived25',\n",
              " 'PlaybackProgress',\n",
              " 'Length',\n",
              " 'BufferHealth',\n",
              " 'KBytesReceived_log',\n",
              " 'BytesSent_log']"
            ]
          },
          "execution_count": 112,
          "metadata": {
            "tags": []
          },
          "output_type": "execute_result"
        }
      ],
      "source": [
        "cols_3"
      ]
    },
    {
      "cell_type": "markdown",
      "metadata": {
        "id": "1_VuwwSkZaiO"
      },
      "source": [
        "# Cross-validation"
      ]
    },
    {
      "cell_type": "markdown",
      "metadata": {
        "id": "boUcestCZaiP"
      },
      "source": [
        "Are we sure the model with these last features is the best? Or the good results just depend on the training/test set split?"
      ]
    },
    {
      "cell_type": "code",
      "execution_count": null,
      "metadata": {
        "colab": {
          "base_uri": "https://localhost:8080/",
          "height": 53
        },
        "id": "xFycwXnoZaiQ",
        "outputId": "8f083124-1830-4066-9226-b9330899d98f",
        "scrolled": true
      },
      "outputs": [
        {
          "data": {
            "text/plain": [
              "array([-175867.83786347,  -56056.92564973, -115670.09288593,\n",
              "       -441516.67482338, -412723.78175341])"
            ]
          },
          "execution_count": 114,
          "metadata": {
            "tags": []
          },
          "output_type": "execute_result"
        }
      ],
      "source": [
        "X = df[cols_3].values\n",
        "y = df['label_num'].values\n",
        "\n",
        "\n",
        "k_fold = KFold(n_splits=5, shuffle=True, random_state=6)\n",
        "\n",
        "# Cross validation works with score, i.e., the higher the better.\n",
        "# This is why the scoring function is the negative Mean Squared Error.\n",
        "scores = cross_val_score(AndreaLinearRegression(),\n",
        "                X, y, cv=k_fold,\n",
        "                scoring='neg_mean_squared_error')\n",
        "scores"
      ]
    },
    {
      "cell_type": "code",
      "execution_count": null,
      "metadata": {
        "colab": {
          "base_uri": "https://localhost:8080/",
          "height": 53
        },
        "id": "8wgPEFnAZaiT",
        "outputId": "a00392d4-3dd2-4c70-a02c-23caf99b0e04"
      },
      "outputs": [
        {
          "data": {
            "text/plain": [
              "array([175867.83786347,  56056.92564973, 115670.09288593, 441516.67482338,\n",
              "       412723.78175341])"
            ]
          },
          "execution_count": 66,
          "metadata": {
            "tags": []
          },
          "output_type": "execute_result"
        }
      ],
      "source": [
        "mse_vector = -scores\n",
        "mse_vector"
      ]
    },
    {
      "cell_type": "code",
      "execution_count": null,
      "metadata": {
        "colab": {
          "base_uri": "https://localhost:8080/",
          "height": 35
        },
        "id": "cWcr7wm1ZaiV",
        "outputId": "590ef745-8eff-4093-8df4-f7eac2a993ce"
      },
      "outputs": [
        {
          "data": {
            "text/plain": [
              "240367.0625951853"
            ]
          },
          "execution_count": 67,
          "metadata": {
            "tags": []
          },
          "output_type": "execute_result"
        }
      ],
      "source": [
        "avg_mse = mean(mse_vector)\n",
        "avg_mse"
      ]
    },
    {
      "cell_type": "code",
      "execution_count": null,
      "metadata": {
        "colab": {
          "base_uri": "https://localhost:8080/",
          "height": 35
        },
        "id": "TSIs1DqAZaiX",
        "outputId": "59c25d27-41c3-4ae6-bcc4-c4c1991c6a2c",
        "scrolled": true
      },
      "outputs": [
        {
          "data": {
            "text/plain": [
              "490.27243711551364"
            ]
          },
          "execution_count": 68,
          "metadata": {
            "tags": []
          },
          "output_type": "execute_result"
        }
      ],
      "source": [
        "math.sqrt(avg_mse)"
      ]
    },
    {
      "cell_type": "markdown",
      "metadata": {
        "id": "c6_W2Fj2Zaia"
      },
      "source": [
        "Let's try with one feature only"
      ]
    },
    {
      "cell_type": "code",
      "execution_count": null,
      "metadata": {
        "colab": {
          "base_uri": "https://localhost:8080/",
          "height": 35
        },
        "id": "Tn1lase_Zaia",
        "outputId": "ce185ac1-b881-4081-c1b0-04e7d9adce62"
      },
      "outputs": [
        {
          "data": {
            "text/plain": [
              "278.0436795473229"
            ]
          },
          "execution_count": 115,
          "metadata": {
            "tags": []
          },
          "output_type": "execute_result"
        }
      ],
      "source": [
        "X = df['KBytesReceived_log'].values.reshape(-1,1)\n",
        "\n",
        "\n",
        "\n",
        "scores = cross_val_score(AndreaLinearRegression(),\n",
        "                X, y, cv=k_fold,\n",
        "                scoring='neg_mean_squared_error')\n",
        "math.sqrt( mean(-scores) )"
      ]
    },
    {
      "cell_type": "markdown",
      "metadata": {
        "id": "vvse9GEBZaid"
      },
      "source": [
        "Cross validation tells us that the univariate model is actually the best"
      ]
    },
    {
      "cell_type": "markdown",
      "metadata": {
        "id": "4C-tpJ7-Zaie"
      },
      "source": [
        "# Not important\n",
        "\n",
        "We store `cols_3` as it will be used in another notebook. \n",
        "\n",
        "`pickle` allows to serialize any python object to the hard disk."
      ]
    },
    {
      "cell_type": "code",
      "execution_count": null,
      "metadata": {
        "id": "xdWb3P0WZaie"
      },
      "outputs": [],
      "source": [
        "filename = 'cols_3.pkl'\n",
        "outfile = open(filename,'wb')\n",
        "pickle.dump(cols_3,outfile)\n",
        "outfile.close()"
      ]
    },
    {
      "cell_type": "code",
      "execution_count": null,
      "metadata": {
        "id": "yIa2454qZaig"
      },
      "outputs": [],
      "source": []
    }
  ],
  "metadata": {
    "colab": {
      "name": "a.regression.ipynb",
      "provenance": []
    },
    "kernelspec": {
      "display_name": "Python 3.8.13 ('Tensorflow')",
      "language": "python",
      "name": "python3"
    },
    "language_info": {
      "codemirror_mode": {
        "name": "ipython",
        "version": 3
      },
      "file_extension": ".py",
      "mimetype": "text/x-python",
      "name": "python",
      "nbconvert_exporter": "python",
      "pygments_lexer": "ipython3",
      "version": "3.8.13"
    },
    "vscode": {
      "interpreter": {
        "hash": "832757d2f30ebe0b6d76928c0ee4d6b04acdabf7247de32d62c99207dac792ce"
      }
    }
  },
  "nbformat": 4,
  "nbformat_minor": 0
}
