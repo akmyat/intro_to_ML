{
  "cells": [
    {
      "cell_type": "markdown",
      "metadata": {
        "id": "cbb2cpw7tyH2"
      },
      "source": [
        "[![Open In Colab](https://colab.research.google.com/assets/colab-badge.svg)](https://colab.research.google.com/github/andreaaraldo/machine-learning-for-networks/blob/master/03.regression_contd-and-classification/a.polynomial-regression.ipynb)"
      ]
    },
    {
      "cell_type": "markdown",
      "metadata": {
        "id": "rr_26hqKtyH7"
      },
      "source": [
        "Predict `BufferHealth` (seconds ahead in the buffer) only based on network measurements.\n",
        "\n",
        "**Why?**: The operator may decide to allocate more bandwidth to users whose buffer is suffering."
      ]
    },
    {
      "cell_type": "code",
      "execution_count": 1,
      "metadata": {
        "colab": {
          "base_uri": "https://localhost:8080/"
        },
        "id": "gP4C_WyCtyH_",
        "outputId": "3cac8bb6-34a0-4db0-8b27-0f1a2ce822a2"
      },
      "outputs": [
        {
          "name": "stdout",
          "output_type": "stream",
          "text": [
            "--2022-10-17 08:31:39--  https://raw.githubusercontent.com/andreaaraldo/machine-learning-for-networks/master/course_library/andrea_models.py\n",
            "Resolving raw.githubusercontent.com (raw.githubusercontent.com)... 185.199.111.133, 185.199.108.133, 185.199.109.133, ...\n",
            "Connecting to raw.githubusercontent.com (raw.githubusercontent.com)|185.199.111.133|:443... connected.\n",
            "HTTP request sent, awaiting response... 200 OK\n",
            "Length: 3190 (3.1K) [text/plain]\n",
            "Saving to: ‘andrea_models.py’\n",
            "\n",
            "andrea_models.py    100%[===================>]   3.12K  --.-KB/s    in 0.002s  \n",
            "\n",
            "2022-10-17 08:31:39 (1.74 MB/s) - ‘andrea_models.py’ saved [3190/3190]\n",
            "\n",
            "--2022-10-17 08:31:40--  https://raw.githubusercontent.com/andreaaraldo/machine-learning-for-networks/master/course_library/feature_engineering.py\n",
            "Resolving raw.githubusercontent.com (raw.githubusercontent.com)... 185.199.110.133, 185.199.109.133, 185.199.108.133, ...\n",
            "Connecting to raw.githubusercontent.com (raw.githubusercontent.com)|185.199.110.133|:443... connected.\n",
            "HTTP request sent, awaiting response... 200 OK\n",
            "Length: 2206 (2.2K) [text/plain]\n",
            "Saving to: ‘feature_engineering.py’\n",
            "\n",
            "feature_engineering 100%[===================>]   2.15K  --.-KB/s    in 0.001s  \n",
            "\n",
            "2022-10-17 08:31:41 (3.24 MB/s) - ‘feature_engineering.py’ saved [2206/2206]\n",
            "\n"
          ]
        }
      ],
      "source": [
        "import pandas as pd # For dataframes (tables)\n",
        "import matplotlib.pyplot as plt # For plots\n",
        "from sklearn.model_selection import train_test_split\n",
        "from sklearn.metrics import mean_squared_error\n",
        "from math import sqrt\n",
        "import numpy as np # For arange\n",
        "from sklearn.preprocessing import PolynomialFeatures\n",
        "from sklearn.pipeline import make_pipeline\n",
        "from sklearn.model_selection import GridSearchCV\n",
        "from sklearn.model_selection import cross_val_score, KFold\n",
        "\n",
        "\n",
        "# Load the functions I prepared for you\n",
        "!wget https://raw.githubusercontent.com/andreaaraldo/machine-learning-for-networks/master/course_library/andrea_models.py\n",
        "!wget https://raw.githubusercontent.com/andreaaraldo/machine-learning-for-networks/master/course_library/feature_engineering.py\n",
        "\n",
        "import feature_engineering                                 \n",
        "from andrea_models import AndreaLinearRegression"
      ]
    },
    {
      "cell_type": "code",
      "execution_count": 2,
      "metadata": {
        "colab": {
          "base_uri": "https://localhost:8080/"
        },
        "id": "D8IBrJkytyIO",
        "outputId": "0fae4ed0-132d-4f39-a22a-8e3d67051ebe"
      },
      "outputs": [
        {
          "name": "stdout",
          "output_type": "stream",
          "text": [
            "--2022-10-17 08:32:11--  https://raw.githubusercontent.com/andreaaraldo/machine-learning-for-networks/master/processed_datasets/requet/df.B1_2.csv\n",
            "Resolving raw.githubusercontent.com (raw.githubusercontent.com)... 185.199.110.133, 185.199.109.133, 185.199.108.133, ...\n",
            "Connecting to raw.githubusercontent.com (raw.githubusercontent.com)|185.199.110.133|:443... connected.\n",
            "HTTP request sent, awaiting response... 200 OK\n",
            "Length: 58556 (57K) [text/plain]\n",
            "Saving to: ‘df.B1_2.csv’\n",
            "\n",
            "df.B1_2.csv         100%[===================>]  57.18K  --.-KB/s    in 0.02s   \n",
            "\n",
            "2022-10-17 08:32:11 (2.34 MB/s) - ‘df.B1_2.csv’ saved [58556/58556]\n",
            "\n"
          ]
        }
      ],
      "source": [
        "dataset_to_use = 'B1'\n",
        "mydatasets_folder = \"https://raw.githubusercontent.com/andreaaraldo/machine-learning-for-networks/master/processed_datasets/requet/\"\n",
        "\n",
        "filename = \"df.\"+ dataset_to_use+\"_2.csv\"\n",
        "complete_name = mydatasets_folder+filename\n",
        "!wget $complete_name"
      ]
    },
    {
      "cell_type": "code",
      "execution_count": 3,
      "metadata": {
        "id": "wciwIMW4uO38"
      },
      "outputs": [],
      "source": [
        "df = pd.read_csv(filename)"
      ]
    },
    {
      "cell_type": "markdown",
      "metadata": {
        "id": "1HG1uyLstyIX"
      },
      "source": [
        "# Univariate Polynomial Regression"
      ]
    },
    {
      "cell_type": "markdown",
      "metadata": {
        "id": "MKzzb7OmtyIa"
      },
      "source": [
        "Let's check what are the most correlated features to `BufferHealth`."
      ]
    },
    {
      "cell_type": "code",
      "execution_count": 4,
      "metadata": {
        "colab": {
          "base_uri": "https://localhost:8080/"
        },
        "id": "7hooA9W4tyIe",
        "outputId": "192e73d8-195a-4a2f-f433-69d657988dab",
        "scrolled": false
      },
      "outputs": [
        {
          "data": {
            "text/plain": [
              "BufferHealth          1.00\n",
              "BufferProgress_log    0.97\n",
              "BufferProgress        0.97\n",
              "PacketsReceived       0.61\n",
              "KBytesReceived        0.61\n",
              "                      ... \n",
              "Buffering              NaN\n",
              "Paused                 NaN\n",
              "Playing                NaN\n",
              "CollectData            NaN\n",
              "BufferValid            NaN\n",
              "Name: BufferHealth, Length: 147, dtype: float64"
            ]
          },
          "execution_count": 4,
          "metadata": {},
          "output_type": "execute_result"
        }
      ],
      "source": [
        "feats = feature_engineering.get_features_correlated_to_target(\n",
        "        df, target_feature='BufferHealth'\n",
        "        )\n",
        "feats"
      ]
    },
    {
      "cell_type": "markdown",
      "metadata": {
        "id": "b8z96TVityIm"
      },
      "source": [
        "We can not use `BufferProgress`, as it is not a network-layer measure and the net operator would not have access to the buffer of users.\n",
        "\n",
        "`BytesReceived` is also highly correlated (to have more seconds-ahead, we need to download more)."
      ]
    },
    {
      "cell_type": "code",
      "execution_count": 4,
      "metadata": {
        "colab": {
          "base_uri": "https://localhost:8080/",
          "height": 296
        },
        "id": "R1zDObpttyIp",
        "outputId": "efd9bb5b-6e88-4f4f-9890-ffed25972b2f",
        "scrolled": true
      },
      "outputs": [
        {
          "data": {
            "text/plain": [
              "[Text(0, 0.5, 'BufferHealth'), Text(0.5, 0, 'BytesReceived')]"
            ]
          },
          "execution_count": 4,
          "metadata": {},
          "output_type": "execute_result"
        },
        {
          "data": {
            "image/png": "[encoded data removed]",
            "text/plain": [
              "<Figure size 640x480 with 1 Axes>"
            ]
          },
          "metadata": {},
          "output_type": "display_data"
        }
      ],
      "source": [
        "feature = 'BytesReceived'\n",
        "fig, ax = plt.subplots() # This creates just a canvas\n",
        "ax.scatter(df[feature],df['BufferHealth'],color='black',\n",
        "           s=2, label='all samples') # ax is the actual figure\n",
        "ax.set (xlabel=feature, ylabel='BufferHealth')"
      ]
    },
    {
      "cell_type": "markdown",
      "metadata": {
        "id": "4_nFz8nxtyIx"
      },
      "source": [
        "Values are squashed on the left, let's use the log-transformed feature to see the dependency better."
      ]
    },
    {
      "cell_type": "code",
      "execution_count": 5,
      "metadata": {
        "colab": {
          "base_uri": "https://localhost:8080/",
          "height": 297
        },
        "id": "1j3j6hxEtyI0",
        "outputId": "292bfe14-1fd8-469a-e188-c357786c9168",
        "scrolled": false
      },
      "outputs": [
        {
          "data": {
            "text/plain": [
              "[Text(0, 0.5, 'BufferHealth'), Text(0.5, 0, 'BytesReceived_log')]"
            ]
          },
          "execution_count": 5,
          "metadata": {},
          "output_type": "execute_result"
        },
        {
          "data": {
            "image/png": "[encoded data removed]",
            "text/plain": [
              "<Figure size 640x480 with 1 Axes>"
            ]
          },
          "metadata": {},
          "output_type": "display_data"
        }
      ],
      "source": [
        "feature = 'BytesReceived_log'\n",
        "fig, ax = plt.subplots() # This creates just a canvas\n",
        "ax.scatter(df[feature],df['BufferHealth'],color='black',\n",
        "           s=2, label='all samples') # ax is the actual figure\n",
        "ax.set (xlabel=feature, ylabel='BufferHealth')"
      ]
    },
    {
      "cell_type": "markdown",
      "metadata": {
        "id": "NdjY0Th5tyI7"
      },
      "source": [
        "The dependency is clearer now, although, in terms of Pearson's correlation coefficient \n",
        "$$\n",
        "\\rho(\\texttt{BytesReceived},\\texttt{BufferHealth}) \\ge \n",
        "\\rho(\\texttt{BytesReceived_log},\\texttt{BufferHealth})\n",
        "$$ \n",
        "\n",
        "Don't be surprised: Pearson's correlation only captures linear dependency and we see that here the dependency is not linear"
      ]
    },
    {
      "cell_type": "code",
      "execution_count": 6,
      "metadata": {
        "id": "7M7YsTgJtyI8"
      },
      "outputs": [],
      "source": [
        "df_train, df_test = train_test_split(df, test_size=0.3, random_state=2)"
      ]
    },
    {
      "cell_type": "markdown",
      "metadata": {
        "id": "eTMX1bavtyJE"
      },
      "source": [
        "Let's put in evidence the test samples"
      ]
    },
    {
      "cell_type": "code",
      "execution_count": 7,
      "metadata": {
        "colab": {
          "base_uri": "https://localhost:8080/",
          "height": 280
        },
        "id": "u3cASWiqtyJG",
        "outputId": "57a95951-3b40-4418-f57c-bb97768ae741",
        "scrolled": true
      },
      "outputs": [
        {
          "data": {
            "image/png": "[encoded data removed]",
            "text/plain": [
              "<Figure size 640x480 with 1 Axes>"
            ]
          },
          "execution_count": 7,
          "metadata": {},
          "output_type": "execute_result"
        }
      ],
      "source": [
        "ax.scatter(df_test[feature],df_test['BufferHealth'],color='red',\n",
        "           s=2, label='test') # ax is the actual figure\n",
        "fig"
      ]
    },
    {
      "cell_type": "markdown",
      "metadata": {
        "id": "Q0eEORmItyJM"
      },
      "source": [
        "OLS linear regression"
      ]
    },
    {
      "cell_type": "code",
      "execution_count": 8,
      "metadata": {
        "colab": {
          "base_uri": "https://localhost:8080/"
        },
        "id": "_VMnez7ptyJO",
        "outputId": "8cd8dd09-aaef-46e6-dd16-3a00d7f68512",
        "scrolled": true
      },
      "outputs": [
        {
          "name": "stdout",
          "output_type": "stream",
          "text": [
            "                            OLS Regression Results                            \n",
            "==============================================================================\n",
            "Dep. Variable:                      y   R-squared:                       0.369\n",
            "Model:                            OLS   Adj. R-squared:                  0.348\n",
            "Method:                 Least Squares   F-statistic:                     17.51\n",
            "Date:                Mon, 17 Oct 2022   Prob (F-statistic):           0.000229\n",
            "Time:                        08:34:52   Log-Likelihood:                -64.395\n",
            "No. Observations:                  32   AIC:                             132.8\n",
            "Df Residuals:                      30   BIC:                             135.7\n",
            "Df Model:                           1                                         \n",
            "Covariance Type:            nonrobust                                         \n",
            "==============================================================================\n",
            "                 coef    std err          t      P>|t|      [0.025      0.975]\n",
            "------------------------------------------------------------------------------\n",
            "const        -13.7603      4.677     -2.942      0.006     -23.312      -4.209\n",
            "x1             1.6199      0.387      4.185      0.000       0.829       2.410\n",
            "==============================================================================\n",
            "Omnibus:                       11.109   Durbin-Watson:                   1.898\n",
            "Prob(Omnibus):                  0.004   Jarque-Bera (JB):               10.120\n",
            "Skew:                           1.179   Prob(JB):                      0.00635\n",
            "Kurtosis:                       4.423   Cond. No.                         172.\n",
            "==============================================================================\n",
            "\n",
            "Notes:\n",
            "[1] Standard Errors assume that the covariance matrix of the errors is correctly specified.\n"
          ]
        }
      ],
      "source": [
        "feature = 'BytesReceived_log'\n",
        "target = 'BufferHealth'\n",
        "X_train = df_train[feature].values.reshape(-1,1)\n",
        "X_test = df_test[feature].values.reshape(-1,1)\n",
        "y_train = df_train[target].values\n",
        "y_test = df_test[target].values\n",
        "\n",
        "model = AndreaLinearRegression(feature)\n",
        "model.fit(X_train, y_train)\n",
        "model.summary()"
      ]
    },
    {
      "cell_type": "markdown",
      "metadata": {
        "id": "RNNgAx-KtyJW"
      },
      "source": [
        "The model is significant (p-values are low). Let's test it."
      ]
    },
    {
      "cell_type": "code",
      "execution_count": 9,
      "metadata": {
        "colab": {
          "base_uri": "https://localhost:8080/"
        },
        "id": "bhQXGDqgtyJX",
        "outputId": "d7860740-9693-453c-c5c6-a17f217dd1b8"
      },
      "outputs": [
        {
          "name": "stdout",
          "output_type": "stream",
          "text": [
            "The test error is of  3.7228082304941905  seconds\n"
          ]
        }
      ],
      "source": [
        "y_pred = model.predict(X_test)\n",
        "RMSE_linear = sqrt(mean_squared_error(y_pred, y_test))\n",
        "print('The test error is of ',RMSE_linear,' seconds')"
      ]
    },
    {
      "cell_type": "markdown",
      "metadata": {
        "id": "YRLvyS1AtyJe"
      },
      "source": [
        "Let's plot the regression line"
      ]
    },
    {
      "cell_type": "code",
      "execution_count": 10,
      "metadata": {
        "colab": {
          "base_uri": "https://localhost:8080/",
          "height": 280
        },
        "id": "jeo4qbVRtyJg",
        "outputId": "328409b9-6800-48fe-9608-989c7f490800",
        "scrolled": true
      },
      "outputs": [
        {
          "data": {
            "image/png": "[encoded data removed]",
            "text/plain": [
              "<Figure size 640x480 with 1 Axes>"
            ]
          },
          "execution_count": 10,
          "metadata": {},
          "output_type": "execute_result"
        }
      ],
      "source": [
        "interval = np.arange(10, 15, 0.01).reshape(-1,1)\n",
        "h_values = model.predict(interval)\n",
        "ax.plot(interval,h_values, label=\"Linear \")\n",
        "ax.legend()\n",
        "fig"
      ]
    },
    {
      "cell_type": "markdown",
      "metadata": {
        "id": "oYy0iVnEtyJq"
      },
      "source": [
        "Not great. We would like to have a curve more flexible than a rigid straight line."
      ]
    },
    {
      "cell_type": "markdown",
      "metadata": {
        "id": "De9Z2HrytyJs"
      },
      "source": [
        "To run a quadratic regression, we first need to add to the column `BytesReceived_log` the column $\\texttt{BytesReceived_log}^2$."
      ]
    },
    {
      "cell_type": "code",
      "execution_count": 11,
      "metadata": {
        "colab": {
          "base_uri": "https://localhost:8080/"
        },
        "id": "Lk5Y8d2ttyJu",
        "outputId": "3dc20344-e0fd-4ca0-cfaf-b5840e44c010",
        "scrolled": true
      },
      "outputs": [
        {
          "data": {
            "text/plain": [
              "array([[ 10.37402229, 107.62033849],\n",
              "       [ 12.16272141, 147.93179218],\n",
              "       [ 11.68839023, 136.61846627],\n",
              "       [ 11.25940002, 126.77408887],\n",
              "       [ 12.32598674, 151.92994917],\n",
              "       [ 11.8706069 , 140.91130823],\n",
              "       [ 12.99278303, 168.81241077],\n",
              "       [ 13.66424804, 186.71167441],\n",
              "       [ 11.28062764, 127.25255997],\n",
              "       [ 11.32280558, 128.2059262 ],\n",
              "       [ 10.23426503, 104.74018077],\n",
              "       [ 11.25712958, 126.72296641],\n",
              "       [ 12.53561377, 157.14161271],\n",
              "       [ 11.47326946, 131.63591203],\n",
              "       [ 13.39753148, 179.49384964],\n",
              "       [ 11.71440402, 137.22726145],\n",
              "       [ 11.98382245, 143.61200039],\n",
              "       [ 11.28156071, 127.2736121 ],\n",
              "       [ 13.24652779, 175.4704984 ],\n",
              "       [ 13.14613264, 172.82080331],\n",
              "       [ 11.31062567, 127.93025294],\n",
              "       [ 12.54261274, 157.31713427],\n",
              "       [ 13.39098953, 179.31860069],\n",
              "       [ 13.51802997, 182.73713426],\n",
              "       [ 12.21554762, 149.21960356],\n",
              "       [ 12.466088  , 155.40335001],\n",
              "       [ 11.61205561, 134.83983554],\n",
              "       [ 11.95845068, 143.0045426 ],\n",
              "       [ 11.67068107, 136.20479659],\n",
              "       [ 12.05954864, 145.43271345],\n",
              "       [ 11.85207982, 140.47179596],\n",
              "       [ 11.83681169, 140.11011089]])"
            ]
          },
          "execution_count": 11,
          "metadata": {},
          "output_type": "execute_result"
        }
      ],
      "source": [
        "X_train_poly = PolynomialFeatures(degree=2, \n",
        "                include_bias=False).fit_transform(X_train)\n",
        "X_train_poly"
      ]
    },
    {
      "cell_type": "code",
      "execution_count": 12,
      "metadata": {
        "colab": {
          "base_uri": "https://localhost:8080/"
        },
        "id": "4txqKkuEtyJ1",
        "outputId": "2a1d96a2-3bee-427f-d729-d5599e536e0c"
      },
      "outputs": [
        {
          "name": "stdout",
          "output_type": "stream",
          "text": [
            "                            OLS Regression Results                            \n",
            "==============================================================================\n",
            "Dep. Variable:                      y   R-squared:                       0.414\n",
            "Model:                            OLS   Adj. R-squared:                  0.373\n",
            "Method:                 Least Squares   F-statistic:                     10.23\n",
            "Date:                Mon, 17 Oct 2022   Prob (F-statistic):           0.000435\n",
            "Time:                        08:36:53   Log-Likelihood:                -63.209\n",
            "No. Observations:                  32   AIC:                             132.4\n",
            "Df Residuals:                      29   BIC:                             136.8\n",
            "Df Model:                           2                                         \n",
            "Covariance Type:            nonrobust                                         \n",
            "==============================================================================\n",
            "                 coef    std err          t      P>|t|      [0.025      0.975]\n",
            "------------------------------------------------------------------------------\n",
            "const         64.2576     52.452      1.225      0.230     -43.018     171.533\n",
            "x1           -11.3349      8.684     -1.305      0.202     -29.097       6.427\n",
            "x2             0.5351      0.358      1.493      0.146      -0.198       1.268\n",
            "==============================================================================\n",
            "Omnibus:                       18.793   Durbin-Watson:                   2.102\n",
            "Prob(Omnibus):                  0.000   Jarque-Bera (JB):               24.331\n",
            "Skew:                           1.572   Prob(JB):                     5.21e-06\n",
            "Kurtosis:                       5.893   Cond. No.                     2.43e+04\n",
            "==============================================================================\n",
            "\n",
            "Notes:\n",
            "[1] Standard Errors assume that the covariance matrix of the errors is correctly specified.\n",
            "[2] The condition number is large, 2.43e+04. This might indicate that there are\n",
            "strong multicollinearity or other numerical problems.\n"
          ]
        }
      ],
      "source": [
        "model = AndreaLinearRegression()\n",
        "model.fit(X_train_poly, y_train)\n",
        "model.summary()"
      ]
    },
    {
      "cell_type": "markdown",
      "metadata": {
        "id": "VAzMIt_QtyJ6"
      },
      "source": [
        "Let's plot the line"
      ]
    },
    {
      "cell_type": "code",
      "execution_count": 13,
      "metadata": {
        "colab": {
          "base_uri": "https://localhost:8080/",
          "height": 280
        },
        "id": "5nZV1h7HtyJ8",
        "outputId": "92ec84c2-d816-4d52-87ad-de369882e4a0"
      },
      "outputs": [
        {
          "data": {
            "image/png": "[encoded data removed]",
            "text/plain": [
              "<Figure size 640x480 with 1 Axes>"
            ]
          },
          "execution_count": 13,
          "metadata": {},
          "output_type": "execute_result"
        }
      ],
      "source": [
        "interval = interval.reshape(-1,1)\n",
        "interval_poly = PolynomialFeatures(degree=2, \n",
        "                include_bias=False).fit_transform(interval)\n",
        "h_values = model.predict(interval_poly)\n",
        "\n",
        "ax.plot(interval,h_values, label=\"Quadratic\")\n",
        "ax.legend()\n",
        "fig"
      ]
    },
    {
      "cell_type": "code",
      "execution_count": 14,
      "metadata": {
        "colab": {
          "base_uri": "https://localhost:8080/"
        },
        "id": "buV29lH6tyKB",
        "outputId": "ef646c04-92c8-485c-8286-31655e5bca98"
      },
      "outputs": [
        {
          "name": "stdout",
          "output_type": "stream",
          "text": [
            "The test error is  3.4349359394194656  seconds; with linear regression it was 3.7228082304941905\n"
          ]
        }
      ],
      "source": [
        "X_test_poly = PolynomialFeatures(degree=2, \n",
        "                include_bias=False).fit_transform(X_test)\n",
        "# include_bias=False, since the bias term will be added\n",
        "# by AndreaLinearRegression\n",
        "\n",
        "y_train_pred = model.predict(X_train_poly)\n",
        "RMSE_train_quadr = sqrt(mean_squared_error(y_train_pred, y_train))\n",
        "\n",
        "y_pred = model.predict(X_test_poly)\n",
        "RMSE_quadr = sqrt(mean_squared_error(y_pred, y_test))\n",
        "print('The test error is ',RMSE_quadr,\n",
        "          ' seconds; with linear regression it was', RMSE_linear)"
      ]
    },
    {
      "cell_type": "markdown",
      "metadata": {
        "id": "iiWjqE7htyKF"
      },
      "source": [
        "Let's try with cubic regression"
      ]
    },
    {
      "cell_type": "code",
      "execution_count": 15,
      "metadata": {
        "cellView": "code",
        "colab": {
          "base_uri": "https://localhost:8080/",
          "height": 315
        },
        "id": "v67qNsxOtyKH",
        "outputId": "77f8a2f8-9164-4be1-8ac9-46929109e64a"
      },
      "outputs": [
        {
          "name": "stdout",
          "output_type": "stream",
          "text": [
            "train RMSE:  1.7360971668020495  seconds; With quadratic regression it was  1.7443082879348262\n",
            "test RMSE:  3.5062243994985383  seconds; With quadratic regression it was  3.4349359394194656\n"
          ]
        },
        {
          "data": {
            "image/png": "[encoded data removed]",
            "text/plain": [
              "<Figure size 640x480 with 1 Axes>"
            ]
          },
          "execution_count": 15,
          "metadata": {},
          "output_type": "execute_result"
        }
      ],
      "source": [
        "#@title Default title text\n",
        "mydegree = 3\n",
        "X_train_poly = PolynomialFeatures(degree=mydegree, \n",
        "                include_bias=False).fit_transform(X_train)\n",
        "model = AndreaLinearRegression()\n",
        "model.fit(X_train_poly, y_train)\n",
        "\n",
        "X_test_poly = PolynomialFeatures(degree=mydegree, \n",
        "                include_bias=False).fit_transform(\n",
        "                        X_test)\n",
        "                \n",
        "y_train_pred = model.predict(X_train_poly)\n",
        "RMSE_train_cub = sqrt(mean_squared_error(y_train_pred, y_train))\n",
        "\n",
        "y_pred = model.predict(X_test_poly)\n",
        "RMSE_cub = sqrt(mean_squared_error(y_pred, y_test))\n",
        "print(\"train RMSE: \", RMSE_train_cub, \" seconds; With quadratic regression it was \",\n",
        "             RMSE_train_quadr)\n",
        "print(\"test RMSE: \", RMSE_cub, \" seconds; With quadratic regression it was \",\n",
        "             RMSE_quadr)\n",
        "\n",
        "### plot\n",
        "interval_poly = PolynomialFeatures(degree=mydegree, \n",
        "                include_bias=False).fit_transform(interval)\n",
        "h_values = model.predict(interval_poly)\n",
        "\n",
        "ax.plot(interval,h_values, label=\"Cubic\")\n",
        "ax.legend()\n",
        "fig"
      ]
    },
    {
      "cell_type": "markdown",
      "metadata": {
        "id": "ZFZzKwAXtyKP"
      },
      "source": [
        "Let's increase a lot the degree of the polynomial"
      ]
    },
    {
      "cell_type": "code",
      "execution_count": 16,
      "metadata": {
        "colab": {
          "base_uri": "https://localhost:8080/",
          "height": 301
        },
        "id": "0UG48ZqgtyKS",
        "outputId": "bca7fc24-ac4f-4015-f9e6-5a69c85b234c",
        "scrolled": false
      },
      "outputs": [
        {
          "name": "stdout",
          "output_type": "stream",
          "text": [
            "RMSE:  3.7507354453131554\n"
          ]
        },
        {
          "data": {
            "image/png": "[encoded data removed]",
            "text/plain": [
              "<Figure size 640x480 with 1 Axes>"
            ]
          },
          "execution_count": 16,
          "metadata": {},
          "output_type": "execute_result"
        }
      ],
      "source": [
        "mydegree = 25\n",
        "X_train_poly = PolynomialFeatures(degree=mydegree, \n",
        "                include_bias=False).fit_transform(X_train)\n",
        "model = AndreaLinearRegression()\n",
        "model.fit(X_train_poly, y_train)\n",
        "\n",
        "X_test_poly = PolynomialFeatures(degree=mydegree, \n",
        "                include_bias=False).fit_transform(\n",
        "                        X_test)\n",
        "y_pred = model.predict(X_test_poly)\n",
        "RMSE_now = sqrt(mean_squared_error(y_pred, y_test))\n",
        "print(\"RMSE: \", RMSE_now)\n",
        "\n",
        "### plot\n",
        "interval_poly = PolynomialFeatures(degree=mydegree, \n",
        "                include_bias=False).fit_transform(interval)\n",
        "h_values = model.predict(interval_poly)\n",
        "\n",
        "\n",
        "ax.plot(interval,h_values, label=\"Degree \"+str(mydegree), color=\"gray\" )\n",
        "ax.legend()\n",
        "ax.set_ylim([0, 16] )\n",
        "fig"
      ]
    },
    {
      "cell_type": "markdown",
      "metadata": {
        "id": "8h4fIdAHtyKW"
      },
      "source": [
        "This is a typical example of overfit.\n",
        "\n",
        "The model is so flexible that it can adapt **too** well to training data. \n"
      ]
    },
    {
      "cell_type": "markdown",
      "metadata": {
        "id": "JsAY89vFtyKY"
      },
      "source": [
        "\n",
        "**Generalization** means instead to \"step back\" from the observed data and not adapting too much"
      ]
    },
    {
      "cell_type": "markdown",
      "metadata": {
        "id": "GuFxRe8KtyKY"
      },
      "source": [
        "# Pipelines\n",
        "\n",
        "We have repeated so far a lot of ugly code:"
      ]
    },
    {
      "cell_type": "code",
      "execution_count": 17,
      "metadata": {
        "id": "_Oqm5GkUtyKa"
      },
      "outputs": [],
      "source": [
        "X_train_poly = PolynomialFeatures(degree=3, \n",
        "                include_bias=False).fit_transform(X_train)\n",
        "model = AndreaLinearRegression()\n",
        "model.fit(X_train_poly, y_train)\n",
        "\n",
        "X_test_poly = PolynomialFeatures(degree=3, \n",
        "                include_bias=False).fit_transform(X_test)\n",
        "y_pred = model.predict(X_test_poly)"
      ]
    },
    {
      "cell_type": "markdown",
      "metadata": {
        "id": "mov7DIz1tyKe"
      },
      "source": [
        "We can write things in a more compact way, using pipelines"
      ]
    },
    {
      "cell_type": "code",
      "execution_count": 18,
      "metadata": {
        "id": "vwprM9TatyKf"
      },
      "outputs": [],
      "source": [
        "def MyPolynomialRegression(degree=2):\n",
        "    return make_pipeline(PolynomialFeatures(degree, include_bias=False), \n",
        "                         AndreaLinearRegression())\n"
      ]
    },
    {
      "cell_type": "markdown",
      "metadata": {
        "id": "G5w8H-XYtyKi"
      },
      "source": [
        "Now `my_poly_regression` is an object which has a `fit` and a `predict` function.\n",
        "\n",
        "You can now use MyPolynomialRegression(..) as follows."
      ]
    },
    {
      "cell_type": "code",
      "execution_count": 19,
      "metadata": {
        "id": "ubj0uqCktyKl"
      },
      "outputs": [],
      "source": [
        "model = MyPolynomialRegression(degree=3)\n",
        "model.fit(X_train, y_train) # Equivalent to lines 1-3\n",
        "y_pred = model.predict(X_test) # Equivalent to lines 6-8"
      ]
    },
    {
      "cell_type": "code",
      "execution_count": 20,
      "metadata": {
        "colab": {
          "base_uri": "https://localhost:8080/"
        },
        "id": "BwCPi3aotyKn",
        "outputId": "6132b162-b32c-4241-92a7-d5ebb31886a3"
      },
      "outputs": [
        {
          "data": {
            "text/plain": [
              "3.5062243994985383"
            ]
          },
          "execution_count": 20,
          "metadata": {},
          "output_type": "execute_result"
        }
      ],
      "source": [
        "sqrt(mean_squared_error(y_test,y_pred))"
      ]
    },
    {
      "cell_type": "markdown",
      "metadata": {
        "id": "r9WsewNNFuBP"
      },
      "source": [
        "## How does a pipeline works\n",
        "\n",
        "We have seen that using pipeline makes our code more elegant, more compact and more understandable. Let's see more in detail some general rules when using pipelines. More details can be found [in this page](https://scikit-learn.org/stable/modules/compose.html).\n",
        "\n",
        "* The first arguments of `make_pipeline` must be \"transformers\", i.e., they must have a `fit_transform(..)` method, like the `PolynomialFeatures` in our case. In our case we used just one transformer, but we can also use a chain of transformers.\n",
        "* The last argument of `make_pipeline` must be a \"model\", i.e., it must have functions `fit(..)` and `predict(..)`, like `AndreaLinearRegression` in our case.\n",
        "* When you call `fit(some_df)` on a pipeline obtained via `make_pipeline(transformer1, transformer2, mymodel)`, the following things happen, in sequence:\n",
        "    * `transformed_data1 = transformer1.fit_transform(some_df)`\n",
        "    * `transformed_data2 = transformer2.fit_transform(transformed_data1)`\n",
        "    * `mymodel.fit(transformed_data2)`\n",
        "* When you then call `predict(some_other_df)` on the pipeline, the following things happen in parallel:\n",
        "    * `transformed_other_data1 = transformer1.transform(some_df)`\n",
        "    * `transformed_other_data2 = transformer2.transform(transformed_other_data1)`\n",
        "    * `mymodel.predict(transformed_other_data2)`\n"
      ]
    },
    {
      "cell_type": "markdown",
      "metadata": {
        "id": "7Ep8MVqStyKs"
      },
      "source": [
        "# Grid search"
      ]
    },
    {
      "cell_type": "markdown",
      "metadata": {
        "id": "AEHsLpqbtyKv"
      },
      "source": [
        "So far we have tried different polynomial degree and see how their performance look like.\n",
        "\n",
        "We now perform a systematic search of the best one. To this aim, we train different regressions, each with a different degree, and evaluate each of them via cross-validation.\n",
        "At the end, we take the degree that gave us the smallest error."
      ]
    },
    {
      "cell_type": "code",
      "execution_count": 21,
      "metadata": {
        "colab": {
          "base_uri": "https://localhost:8080/"
        },
        "id": "wL3k5b5qtyKw",
        "outputId": "47b69ac8-1e2b-424d-aa1c-48d197490755",
        "scrolled": true
      },
      "outputs": [
        {
          "data": {
            "text/plain": [
              "{'cv': KFold(n_splits=5, random_state=6, shuffle=True),\n",
              " 'error_score': nan,\n",
              " 'estimator__memory': None,\n",
              " 'estimator__steps': [('polynomialfeatures',\n",
              "   PolynomialFeatures(include_bias=False)),\n",
              "  ('andrealinearregression', AndreaLinearRegression())],\n",
              " 'estimator__verbose': False,\n",
              " 'estimator__polynomialfeatures': PolynomialFeatures(include_bias=False),\n",
              " 'estimator__andrealinearregression': AndreaLinearRegression(),\n",
              " 'estimator__polynomialfeatures__degree': 2,\n",
              " 'estimator__polynomialfeatures__include_bias': False,\n",
              " 'estimator__polynomialfeatures__interaction_only': False,\n",
              " 'estimator__polynomialfeatures__order': 'C',\n",
              " 'estimator__andrealinearregression__fit_intercept': True,\n",
              " 'estimator': Pipeline(steps=[('polynomialfeatures', PolynomialFeatures(include_bias=False)),\n",
              "                 ('andrealinearregression', AndreaLinearRegression())]),\n",
              " 'n_jobs': None,\n",
              " 'param_grid': {'polynomialfeatures__degree': array([ 1,  2,  3,  4,  5,  6,  7,  8,  9, 10, 11, 12, 13, 14, 15, 16, 17,\n",
              "         18, 19, 20, 21, 22, 23, 24, 25, 26, 27, 28, 29])},\n",
              " 'pre_dispatch': '2*n_jobs',\n",
              " 'refit': True,\n",
              " 'return_train_score': False,\n",
              " 'scoring': 'neg_mean_squared_error',\n",
              " 'verbose': 0}"
            ]
          },
          "execution_count": 21,
          "metadata": {},
          "output_type": "execute_result"
        }
      ],
      "source": [
        "parameters_to_test = {'polynomialfeatures__degree': np.arange(1,30)}\n",
        "k_fold = KFold(n_splits=5, shuffle=True, random_state=6)\n",
        "\n",
        "grid = GridSearchCV( MyPolynomialRegression(), parameters_to_test,\n",
        "                   cv = k_fold, scoring='neg_mean_squared_error')\n",
        "grid.get_params()"
      ]
    },
    {
      "cell_type": "code",
      "execution_count": 22,
      "metadata": {
        "colab": {
          "base_uri": "https://localhost:8080/"
        },
        "id": "57pcT0eZtyKz",
        "outputId": "f5ab0010-7412-468d-9eda-20b8de070c7e",
        "scrolled": true
      },
      "outputs": [
        {
          "data": {
            "text/html": [
              "<style>#sk-container-id-1 {color: black;background-color: white;}#sk-container-id-1 pre{padding: 0;}#sk-container-id-1 div.sk-toggleable {background-color: white;}#sk-container-id-1 label.sk-toggleable__label {cursor: pointer;display: block;width: 100%;margin-bottom: 0;padding: 0.3em;box-sizing: border-box;text-align: center;}#sk-container-id-1 label.sk-toggleable__label-arrow:before {content: \"▸\";float: left;margin-right: 0.25em;color: #696969;}#sk-container-id-1 label.sk-toggleable__label-arrow:hover:before {color: black;}#sk-container-id-1 div.sk-estimator:hover label.sk-toggleable__label-arrow:before {color: black;}#sk-container-id-1 div.sk-toggleable__content {max-height: 0;max-width: 0;overflow: hidden;text-align: left;background-color: #f0f8ff;}#sk-container-id-1 div.sk-toggleable__content pre {margin: 0.2em;color: black;border-radius: 0.25em;background-color: #f0f8ff;}#sk-container-id-1 input.sk-toggleable__control:checked~div.sk-toggleable__content {max-height: 200px;max-width: 100%;overflow: auto;}#sk-container-id-1 input.sk-toggleable__control:checked~label.sk-toggleable__label-arrow:before {content: \"▾\";}#sk-container-id-1 div.sk-estimator input.sk-toggleable__control:checked~label.sk-toggleable__label {background-color: #d4ebff;}#sk-container-id-1 div.sk-label input.sk-toggleable__control:checked~label.sk-toggleable__label {background-color: #d4ebff;}#sk-container-id-1 input.sk-hidden--visually {border: 0;clip: rect(1px 1px 1px 1px);clip: rect(1px, 1px, 1px, 1px);height: 1px;margin: -1px;overflow: hidden;padding: 0;position: absolute;width: 1px;}#sk-container-id-1 div.sk-estimator {font-family: monospace;background-color: #f0f8ff;border: 1px dotted black;border-radius: 0.25em;box-sizing: border-box;margin-bottom: 0.5em;}#sk-container-id-1 div.sk-estimator:hover {background-color: #d4ebff;}#sk-container-id-1 div.sk-parallel-item::after {content: \"\";width: 100%;border-bottom: 1px solid gray;flex-grow: 1;}#sk-container-id-1 div.sk-label:hover label.sk-toggleable__label {background-color: #d4ebff;}#sk-container-id-1 div.sk-serial::before {content: \"\";position: absolute;border-left: 1px solid gray;box-sizing: border-box;top: 0;bottom: 0;left: 50%;z-index: 0;}#sk-container-id-1 div.sk-serial {display: flex;flex-direction: column;align-items: center;background-color: white;padding-right: 0.2em;padding-left: 0.2em;position: relative;}#sk-container-id-1 div.sk-item {position: relative;z-index: 1;}#sk-container-id-1 div.sk-parallel {display: flex;align-items: stretch;justify-content: center;background-color: white;position: relative;}#sk-container-id-1 div.sk-item::before, #sk-container-id-1 div.sk-parallel-item::before {content: \"\";position: absolute;border-left: 1px solid gray;box-sizing: border-box;top: 0;bottom: 0;left: 50%;z-index: -1;}#sk-container-id-1 div.sk-parallel-item {display: flex;flex-direction: column;z-index: 1;position: relative;background-color: white;}#sk-container-id-1 div.sk-parallel-item:first-child::after {align-self: flex-end;width: 50%;}#sk-container-id-1 div.sk-parallel-item:last-child::after {align-self: flex-start;width: 50%;}#sk-container-id-1 div.sk-parallel-item:only-child::after {width: 0;}#sk-container-id-1 div.sk-dashed-wrapped {border: 1px dashed gray;margin: 0 0.4em 0.5em 0.4em;box-sizing: border-box;padding-bottom: 0.4em;background-color: white;}#sk-container-id-1 div.sk-label label {font-family: monospace;font-weight: bold;display: inline-block;line-height: 1.2em;}#sk-container-id-1 div.sk-label-container {text-align: center;}#sk-container-id-1 div.sk-container {/* jupyter's `normalize.less` sets `[hidden] { display: none; }` but bootstrap.min.css set `[hidden] { display: none !important; }` so we also need the `!important` here to be able to override the default hidden behavior on the sphinx rendered scikit-learn.org. See: https://github.com/scikit-learn/scikit-learn/issues/21755 */display: inline-block !important;position: relative;}#sk-container-id-1 div.sk-text-repr-fallback {display: none;}</style><div id=\"sk-container-id-1\" class=\"sk-top-container\"><div class=\"sk-text-repr-fallback\"><pre>GridSearchCV(cv=KFold(n_splits=5, random_state=6, shuffle=True),\n",
              "             estimator=Pipeline(steps=[(&#x27;polynomialfeatures&#x27;,\n",
              "                                        PolynomialFeatures(include_bias=False)),\n",
              "                                       (&#x27;andrealinearregression&#x27;,\n",
              "                                        AndreaLinearRegression())]),\n",
              "             param_grid={&#x27;polynomialfeatures__degree&#x27;: array([ 1,  2,  3,  4,  5,  6,  7,  8,  9, 10, 11, 12, 13, 14, 15, 16, 17,\n",
              "       18, 19, 20, 21, 22, 23, 24, 25, 26, 27, 28, 29])},\n",
              "             scoring=&#x27;neg_mean_squared_error&#x27;)</pre><b>In a Jupyter environment, please rerun this cell to show the HTML representation or trust the notebook. <br />On GitHub, the HTML representation is unable to render, please try loading this page with nbviewer.org.</b></div><div class=\"sk-container\" hidden><div class=\"sk-item sk-dashed-wrapped\"><div class=\"sk-label-container\"><div class=\"sk-label sk-toggleable\"><input class=\"sk-toggleable__control sk-hidden--visually\" id=\"sk-estimator-id-1\" type=\"checkbox\" ><label for=\"sk-estimator-id-1\" class=\"sk-toggleable__label sk-toggleable__label-arrow\">GridSearchCV</label><div class=\"sk-toggleable__content\"><pre>GridSearchCV(cv=KFold(n_splits=5, random_state=6, shuffle=True),\n",
              "             estimator=Pipeline(steps=[(&#x27;polynomialfeatures&#x27;,\n",
              "                                        PolynomialFeatures(include_bias=False)),\n",
              "                                       (&#x27;andrealinearregression&#x27;,\n",
              "                                        AndreaLinearRegression())]),\n",
              "             param_grid={&#x27;polynomialfeatures__degree&#x27;: array([ 1,  2,  3,  4,  5,  6,  7,  8,  9, 10, 11, 12, 13, 14, 15, 16, 17,\n",
              "       18, 19, 20, 21, 22, 23, 24, 25, 26, 27, 28, 29])},\n",
              "             scoring=&#x27;neg_mean_squared_error&#x27;)</pre></div></div></div><div class=\"sk-parallel\"><div class=\"sk-parallel-item\"><div class=\"sk-item\"><div class=\"sk-label-container\"><div class=\"sk-label sk-toggleable\"><input class=\"sk-toggleable__control sk-hidden--visually\" id=\"sk-estimator-id-2\" type=\"checkbox\" ><label for=\"sk-estimator-id-2\" class=\"sk-toggleable__label sk-toggleable__label-arrow\">estimator: Pipeline</label><div class=\"sk-toggleable__content\"><pre>Pipeline(steps=[(&#x27;polynomialfeatures&#x27;, PolynomialFeatures(include_bias=False)),\n",
              "                (&#x27;andrealinearregression&#x27;, AndreaLinearRegression())])</pre></div></div></div><div class=\"sk-serial\"><div class=\"sk-item\"><div class=\"sk-serial\"><div class=\"sk-item\"><div class=\"sk-estimator sk-toggleable\"><input class=\"sk-toggleable__control sk-hidden--visually\" id=\"sk-estimator-id-3\" type=\"checkbox\" ><label for=\"sk-estimator-id-3\" class=\"sk-toggleable__label sk-toggleable__label-arrow\">PolynomialFeatures</label><div class=\"sk-toggleable__content\"><pre>PolynomialFeatures(include_bias=False)</pre></div></div></div><div class=\"sk-item\"><div class=\"sk-estimator sk-toggleable\"><input class=\"sk-toggleable__control sk-hidden--visually\" id=\"sk-estimator-id-4\" type=\"checkbox\" ><label for=\"sk-estimator-id-4\" class=\"sk-toggleable__label sk-toggleable__label-arrow\">AndreaLinearRegression</label><div class=\"sk-toggleable__content\"><pre>AndreaLinearRegression()</pre></div></div></div></div></div></div></div></div></div></div></div></div>"
            ],
            "text/plain": [
              "GridSearchCV(cv=KFold(n_splits=5, random_state=6, shuffle=True),\n",
              "             estimator=Pipeline(steps=[('polynomialfeatures',\n",
              "                                        PolynomialFeatures(include_bias=False)),\n",
              "                                       ('andrealinearregression',\n",
              "                                        AndreaLinearRegression())]),\n",
              "             param_grid={'polynomialfeatures__degree': array([ 1,  2,  3,  4,  5,  6,  7,  8,  9, 10, 11, 12, 13, 14, 15, 16, 17,\n",
              "       18, 19, 20, 21, 22, 23, 24, 25, 26, 27, 28, 29])},\n",
              "             scoring='neg_mean_squared_error')"
            ]
          },
          "execution_count": 22,
          "metadata": {},
          "output_type": "execute_result"
        }
      ],
      "source": [
        "grid.fit(X_train, y_train)"
      ]
    },
    {
      "cell_type": "markdown",
      "metadata": {
        "id": "WNSQmOtBtyK2"
      },
      "source": [
        "In the following we see:\n",
        "* For each split, the test error per each degree\n",
        "* For each degree, the score averaged among all the splits\n",
        "* For each degree, which position it is in the rank of the best ones"
      ]
    },
    {
      "cell_type": "code",
      "execution_count": 23,
      "metadata": {
        "colab": {
          "base_uri": "https://localhost:8080/"
        },
        "id": "z395DV_1tyK3",
        "outputId": "364457b2-8b89-474b-8fd3-5aa6764d9552",
        "scrolled": false
      },
      "outputs": [
        {
          "data": {
            "text/plain": [
              "{'mean_fit_time': array([0.00116835, 0.00152473, 0.00126023, 0.00273023, 0.00119767,\n",
              "        0.00082698, 0.00090942, 0.00104685, 0.00078826, 0.00104647,\n",
              "        0.00073886, 0.00114446, 0.00091014, 0.00090299, 0.00098557,\n",
              "        0.00075445, 0.00109353, 0.00124393, 0.00091553, 0.0009397 ,\n",
              "        0.00079384, 0.00102801, 0.00083675, 0.00119247, 0.00120287,\n",
              "        0.00084791, 0.00099521, 0.00084081, 0.00105548]),\n",
              " 'std_fit_time': array([1.00927133e-04, 4.90993561e-04, 4.19230175e-05, 2.41556035e-03,\n",
              "        3.51267995e-04, 2.51864177e-04, 2.21113899e-04, 4.63470004e-04,\n",
              "        1.17675489e-04, 2.83628393e-04, 2.17821176e-05, 3.72349781e-04,\n",
              "        2.51558949e-04, 2.07194091e-04, 2.24308345e-04, 8.11127898e-06,\n",
              "        2.87780631e-04, 1.47641952e-04, 1.65592302e-04, 1.79542304e-04,\n",
              "        1.67576887e-05, 1.39777101e-04, 2.73234765e-05, 3.69234308e-04,\n",
              "        4.23172370e-04, 4.99960065e-05, 1.85482753e-04, 3.66239497e-05,\n",
              "        2.58579738e-04]),\n",
              " 'mean_score_time': array([0.00063572, 0.00079594, 0.00069981, 0.00077424, 0.00058594,\n",
              "        0.00055122, 0.00049829, 0.00052581, 0.00043707, 0.00056729,\n",
              "        0.00041738, 0.00060425, 0.00051365, 0.00048485, 0.0005127 ,\n",
              "        0.00042429, 0.00060382, 0.00074291, 0.00050092, 0.00047216,\n",
              "        0.00043616, 0.00058584, 0.00046191, 0.00059524, 0.00056505,\n",
              "        0.00046148, 0.00051861, 0.00046492, 0.00060267]),\n",
              " 'std_score_time': array([6.80220532e-05, 1.33862773e-04, 4.76096054e-05, 1.98909841e-04,\n",
              "        1.68669955e-04, 3.15329352e-04, 1.39520141e-04, 1.74583792e-04,\n",
              "        6.75421614e-05, 1.61622659e-04, 1.22386553e-05, 1.56579673e-04,\n",
              "        1.36761569e-04, 1.02627122e-04, 1.01516559e-04, 5.78055666e-06,\n",
              "        1.37279058e-04, 8.55443735e-05, 7.66885507e-05, 3.98247817e-05,\n",
              "        4.62458300e-06, 1.02642607e-04, 2.33185559e-05, 1.40275459e-04,\n",
              "        1.58626673e-04, 8.04089413e-06, 8.38887078e-05, 1.19333203e-05,\n",
              "        1.78768368e-04]),\n",
              " 'param_polynomialfeatures__degree': masked_array(data=[1, 2, 3, 4, 5, 6, 7, 8, 9, 10, 11, 12, 13, 14, 15, 16,\n",
              "                    17, 18, 19, 20, 21, 22, 23, 24, 25, 26, 27, 28, 29],\n",
              "              mask=[False, False, False, False, False, False, False, False,\n",
              "                    False, False, False, False, False, False, False, False,\n",
              "                    False, False, False, False, False, False, False, False,\n",
              "                    False, False, False, False, False],\n",
              "        fill_value='?',\n",
              "             dtype=object),\n",
              " 'params': [{'polynomialfeatures__degree': 1},\n",
              "  {'polynomialfeatures__degree': 2},\n",
              "  {'polynomialfeatures__degree': 3},\n",
              "  {'polynomialfeatures__degree': 4},\n",
              "  {'polynomialfeatures__degree': 5},\n",
              "  {'polynomialfeatures__degree': 6},\n",
              "  {'polynomialfeatures__degree': 7},\n",
              "  {'polynomialfeatures__degree': 8},\n",
              "  {'polynomialfeatures__degree': 9},\n",
              "  {'polynomialfeatures__degree': 10},\n",
              "  {'polynomialfeatures__degree': 11},\n",
              "  {'polynomialfeatures__degree': 12},\n",
              "  {'polynomialfeatures__degree': 13},\n",
              "  {'polynomialfeatures__degree': 14},\n",
              "  {'polynomialfeatures__degree': 15},\n",
              "  {'polynomialfeatures__degree': 16},\n",
              "  {'polynomialfeatures__degree': 17},\n",
              "  {'polynomialfeatures__degree': 18},\n",
              "  {'polynomialfeatures__degree': 19},\n",
              "  {'polynomialfeatures__degree': 20},\n",
              "  {'polynomialfeatures__degree': 21},\n",
              "  {'polynomialfeatures__degree': 22},\n",
              "  {'polynomialfeatures__degree': 23},\n",
              "  {'polynomialfeatures__degree': 24},\n",
              "  {'polynomialfeatures__degree': 25},\n",
              "  {'polynomialfeatures__degree': 26},\n",
              "  {'polynomialfeatures__degree': 27},\n",
              "  {'polynomialfeatures__degree': 28},\n",
              "  {'polynomialfeatures__degree': 29}],\n",
              " 'split0_test_score': array([   -6.55891136,    -6.03395589,    -6.06172387,    -6.83715485,\n",
              "           -5.95357526,    -5.74226599,    -6.39960442,    -7.59778625,\n",
              "           -9.59224672,   -12.72207364,   -17.42329263,   -24.24397487,\n",
              "          -33.84838   ,   -47.02171968,   -64.66890902,   -87.81901304,\n",
              "         -117.61109382,  -155.30047918,  -202.25554159,  -259.97947589,\n",
              "         -330.14517973,  -414.57109389,  -515.61743622,  -635.70058861,\n",
              "         -778.20139251,  -947.39334605, -1148.83304311, -1390.35281513,\n",
              "        -1682.08541278]),\n",
              " 'split1_test_score': array([-1.88999414, -1.61694611, -1.58881961, -1.5001704 , -1.48251656,\n",
              "        -1.07403074, -1.03793259, -1.01341683, -1.00761206, -1.02528126,\n",
              "        -1.07546972, -1.16959168, -1.32036039, -1.53618388, -1.81346117,\n",
              "        -2.13188369, -2.45777716, -2.75465118, -2.99428096, -3.16171062,\n",
              "        -3.25509062, -3.28091678, -3.25040784, -3.17623795, -3.07027805,\n",
              "        -2.94373086, -2.80592355, -2.66636439, -2.53247027]),\n",
              " 'split2_test_score': array([ -4.79988541,  -5.61096374,  -6.38437097,  -9.22394284,\n",
              "         -8.42412583,  -9.32674782,  -9.26214142,  -9.1816518 ,\n",
              "         -9.07517627,  -8.95373544,  -8.83794101,  -8.7457983 ,\n",
              "         -8.69374662,  -8.69338935,  -8.75000384,  -8.86247247,\n",
              "         -9.02468894,  -9.22766799,  -9.46158014,  -9.71724935,\n",
              "         -9.9869399 , -10.26515854, -10.5473286 , -10.83116712,\n",
              "        -11.11545185, -11.40056243, -11.68583993, -11.97312533,\n",
              "        -12.26344712]),\n",
              " 'split3_test_score': array([-1.50228813, -0.89042223, -0.94713103, -0.80998062, -0.68885346,\n",
              "        -0.44236938, -0.43692519, -0.43511396, -0.43825801, -0.44589046,\n",
              "        -0.45686821, -0.4692737 , -0.48123204, -0.49109913, -0.49770738,\n",
              "        -0.50046789, -0.49931876, -0.49457251, -0.48676128, -0.4765172 ,\n",
              "        -0.46446621, -0.45120511, -0.43722515, -0.42301374, -0.40894636,\n",
              "        -0.39528983, -0.38241065, -0.37048837, -0.35972784]),\n",
              " 'split4_test_score': array([-4.8088395 , -3.77599946, -4.38378299, -4.19917799, -7.25569577,\n",
              "        -3.85408048, -3.73634515, -3.91940677, -4.17621044, -4.39204446,\n",
              "        -4.53177027, -4.59489521, -4.59612018, -4.55396251, -4.48533961,\n",
              "        -4.40363286, -4.31837165, -4.23570443, -4.15924356, -4.09073568,\n",
              "        -4.03077355, -3.97917455, -3.93550555, -3.89886757, -3.86874667,\n",
              "        -3.84444972, -3.82542649, -3.81127086, -3.80164759]),\n",
              " 'mean_test_score': array([  -3.91198371,   -3.58565749,   -3.87316569,   -4.51408534,\n",
              "          -4.76095338,   -4.08789888,   -4.17458975,   -4.42947512,\n",
              "          -4.8579007 ,   -5.50780505,   -6.46506837,   -7.84470675,\n",
              "          -9.78796785,  -12.45927091,  -16.0430842 ,  -20.74349399,\n",
              "         -26.78225006,  -34.40261506,  -43.8714815 ,  -55.48513775,\n",
              "         -69.57649   ,  -86.50950977, -106.75758067, -130.805975  ,\n",
              "        -159.33296309, -193.19547578, -233.50652875, -281.83481281,\n",
              "        -340.20854112]),\n",
              " 'std_test_score': array([  1.92322751,   2.06263803,   2.24216791,   3.17750378,\n",
              "          3.11111121,   3.24377639,   3.31163661,   3.47867571,\n",
              "          3.87355421,   4.70916188,   6.2385429 ,   8.70934452,\n",
              "         12.37232187,  17.51450596,  24.47603821,  33.65545166,\n",
              "         45.5023255 ,  60.51687859,  79.24618996, 102.29145406,\n",
              "        130.32129323, 164.06211677, 204.45680524, 252.47059459,\n",
              "        309.45453818, 377.11676368, 457.67894387, 554.27281554,\n",
              "        670.95058925]),\n",
              " 'rank_test_score': array([ 3,  1,  2,  7,  8,  4,  5,  6,  9, 10, 11, 12, 13, 14, 15, 16, 17,\n",
              "        18, 19, 20, 21, 22, 23, 24, 25, 26, 27, 28, 29], dtype=int32)}"
            ]
          },
          "execution_count": 23,
          "metadata": {},
          "output_type": "execute_result"
        }
      ],
      "source": [
        "grid.cv_results_"
      ]
    },
    {
      "cell_type": "markdown",
      "metadata": {
        "id": "tGTzCLvttyK7"
      },
      "source": [
        "The following degree is the one with the highest score"
      ]
    },
    {
      "cell_type": "code",
      "execution_count": 24,
      "metadata": {
        "colab": {
          "base_uri": "https://localhost:8080/"
        },
        "id": "COkdAQWytyK9",
        "outputId": "cdc328f1-40e8-4078-9815-1018edb9583b",
        "scrolled": true
      },
      "outputs": [
        {
          "data": {
            "text/plain": [
              "{'polynomialfeatures__degree': 2}"
            ]
          },
          "execution_count": 24,
          "metadata": {},
          "output_type": "execute_result"
        }
      ],
      "source": [
        "grid.best_params_"
      ]
    },
    {
      "cell_type": "markdown",
      "metadata": {
        "id": "m7kpL3XJtyLB"
      },
      "source": [
        "Taking the regression with this degree, the cross validation score is:"
      ]
    },
    {
      "cell_type": "code",
      "execution_count": 25,
      "metadata": {
        "colab": {
          "base_uri": "https://localhost:8080/"
        },
        "id": "PUeUy1hAtyLC",
        "outputId": "d8aee85e-98ce-481c-f887-c6f003927d97",
        "scrolled": true
      },
      "outputs": [
        {
          "data": {
            "text/plain": [
              "-3.585657486221647"
            ]
          },
          "execution_count": 25,
          "metadata": {},
          "output_type": "execute_result"
        }
      ],
      "source": [
        "grid.best_score_"
      ]
    },
    {
      "cell_type": "markdown",
      "metadata": {
        "id": "dAzGVZirtyLG"
      },
      "source": [
        "The cross-validation root mean square error (RMSE):"
      ]
    },
    {
      "cell_type": "code",
      "execution_count": 26,
      "metadata": {
        "colab": {
          "base_uri": "https://localhost:8080/"
        },
        "id": "-OEI74VTtyLH",
        "outputId": "205e45f8-00ea-4c68-daa1-3d1a74978de6"
      },
      "outputs": [
        {
          "data": {
            "text/plain": [
              "1.8935832398449366"
            ]
          },
          "execution_count": 26,
          "metadata": {},
          "output_type": "execute_result"
        }
      ],
      "source": [
        "sqrt(-grid.best_score_)"
      ]
    },
    {
      "cell_type": "markdown",
      "metadata": {
        "id": "8MM6AZBMtyLL"
      },
      "source": [
        "The regression model is:"
      ]
    },
    {
      "cell_type": "code",
      "execution_count": 27,
      "metadata": {
        "id": "bxIpIqfgtyLN"
      },
      "outputs": [],
      "source": [
        "model = grid.best_estimator_"
      ]
    },
    {
      "cell_type": "markdown",
      "metadata": {
        "id": "Y0E5wDa1tyLR"
      },
      "source": [
        "We can evaluate it in the test set."
      ]
    },
    {
      "cell_type": "code",
      "execution_count": 28,
      "metadata": {
        "colab": {
          "base_uri": "https://localhost:8080/"
        },
        "id": "xc8nC9Z2tyLS",
        "outputId": "f956091a-858a-4e27-b628-2ed75f74a93f"
      },
      "outputs": [
        {
          "data": {
            "text/plain": [
              "3.4349359394194656"
            ]
          },
          "execution_count": 28,
          "metadata": {},
          "output_type": "execute_result"
        }
      ],
      "source": [
        "model.fit(X_train, y_train)\n",
        "y_pred = model.predict(X_test)\n",
        "sqrt(mean_squared_error(y_pred, y_test) )"
      ]
    },
    {
      "cell_type": "code",
      "execution_count": 29,
      "metadata": {
        "id": "fC-1lkViRL6z"
      },
      "outputs": [],
      "source": []
    }
  ],
  "metadata": {
    "colab": {
      "name": "a.polynomial-regression.ipynb",
      "provenance": []
    },
    "kernelspec": {
      "display_name": "Python 3.8.13 ('Tensorflow')",
      "language": "python",
      "name": "python3"
    },
    "language_info": {
      "codemirror_mode": {
        "name": "ipython",
        "version": 3
      },
      "file_extension": ".py",
      "mimetype": "text/x-python",
      "name": "python",
      "nbconvert_exporter": "python",
      "pygments_lexer": "ipython3",
      "version": "3.8.13"
    },
    "vscode": {
      "interpreter": {
        "hash": "832757d2f30ebe0b6d76928c0ee4d6b04acdabf7247de32d62c99207dac792ce"
      }
    }
  },
  "nbformat": 4,
  "nbformat_minor": 0
}
