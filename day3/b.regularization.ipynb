{
  "cells": [
    {
      "cell_type": "markdown",
      "metadata": {
        "colab_type": "text",
        "id": "1DA60WwsaETC"
      },
      "source": [
        "[![Open In Colab](https://colab.research.google.com/assets/colab-badge.svg)](https://colab.research.google.com/github/andreaaraldo/machine-learning-for-networks/blob/master/03.regression_contd-and-classification/b.regularization.ipynb)"
      ]
    },
    {
      "cell_type": "markdown",
      "metadata": {
        "colab_type": "text",
        "id": "Q9X8oDQSwegQ"
      },
      "source": [
        "We will use the same dataset as in the previous notebook."
      ]
    },
    {
      "cell_type": "code",
      "execution_count": 6,
      "metadata": {
        "colab": {
          "base_uri": "https://localhost:8080/",
          "height": 891
        },
        "colab_type": "code",
        "id": "JXOPM_VCwegU",
        "outputId": "b08dcacd-b7b8-4712-de7e-2a8a059ef20e"
      },
      "outputs": [
        {
          "name": "stdout",
          "output_type": "stream",
          "text": [
            "--2022-10-17 09:01:45--  https://raw.githubusercontent.com/andreaaraldo/machine-learning-for-networks/master/course_library/andrea_models.py\n",
            "Resolving raw.githubusercontent.com (raw.githubusercontent.com)... 185.199.111.133, 185.199.110.133, 185.199.108.133, ...\n",
            "Connecting to raw.githubusercontent.com (raw.githubusercontent.com)|185.199.111.133|:443... connected.\n",
            "HTTP request sent, awaiting response... 200 OK\n",
            "Length: 3190 (3.1K) [text/plain]\n",
            "Saving to: ‘andrea_models.py.1’\n",
            "\n",
            "andrea_models.py.1  100%[===================>]   3.12K  --.-KB/s    in 0.002s  \n",
            "\n",
            "2022-10-17 09:01:45 (1.82 MB/s) - ‘andrea_models.py.1’ saved [3190/3190]\n",
            "\n",
            "--2022-10-17 09:01:46--  https://raw.githubusercontent.com/andreaaraldo/machine-learning-for-networks/master/course_library/visualization.py\n",
            "Resolving raw.githubusercontent.com (raw.githubusercontent.com)... 185.199.109.133, 185.199.108.133, 185.199.110.133, ...\n",
            "Connecting to raw.githubusercontent.com (raw.githubusercontent.com)|185.199.109.133|:443... connected.\n",
            "HTTP request sent, awaiting response... 200 OK\n",
            "Length: 13008 (13K) [text/plain]\n",
            "Saving to: ‘visualization.py’\n",
            "\n",
            "visualization.py    100%[===================>]  12.70K  --.-KB/s    in 0.01s   \n",
            "\n",
            "2022-10-17 09:01:46 (1.19 MB/s) - ‘visualization.py’ saved [13008/13008]\n",
            "\n"
          ]
        }
      ],
      "source": [
        "import pandas as pd\n",
        "from sklearn.model_selection import cross_val_score, KFold\n",
        "from math import sqrt\n",
        "from statistics import mean\n",
        "from sklearn.linear_model import LinearRegression, Ridge\n",
        "from sklearn.preprocessing import PolynomialFeatures\n",
        "from sklearn.pipeline import make_pipeline\n",
        "import matplotlib.pyplot as plt\n",
        "from sklearn.preprocessing import StandardScaler, MinMaxScaler\n",
        "from sklearn.model_selection import GridSearchCV\n",
        "from sklearn.model_selection import train_test_split\n",
        "from sklearn.metrics import mean_squared_error\n",
        "import numpy as np\n",
        "from sklearn.feature_selection import RFECV\n",
        "from sklearn.pipeline import Pipeline\n",
        "\n",
        "# %pip install regressors\n",
        "from regressors import stats # To print information about \n",
        "                            # regression. \n",
        "\n",
        "\n",
        "# Download the code I prepared for you\n",
        "!wget https://raw.githubusercontent.com/andreaaraldo/machine-learning-for-networks/master/course_library/andrea_models.py\n",
        "!wget https://raw.githubusercontent.com/andreaaraldo/machine-learning-for-networks/master/course_library/visualization.py\n",
        "\n",
        "from andrea_models import AndreaLinearRegression # In the course library\n",
        "from visualization import rotate_labels"
      ]
    },
    {
      "cell_type": "code",
      "execution_count": 7,
      "metadata": {
        "colab": {},
        "colab_type": "code",
        "id": "-NhY3EewjWRS"
      },
      "outputs": [],
      "source": [
        "# IGNORE THIS\n",
        "savefigures=False"
      ]
    },
    {
      "cell_type": "markdown",
      "metadata": {
        "colab_type": "text",
        "id": "1Ps1woMAabHV"
      },
      "source": [
        "Download the dataset"
      ]
    },
    {
      "cell_type": "code",
      "execution_count": 8,
      "metadata": {
        "colab": {
          "base_uri": "https://localhost:8080/",
          "height": 233
        },
        "colab_type": "code",
        "id": "Oqw1-eCWan9M",
        "outputId": "173a339c-57ed-4799-ffaa-43d7911cf011"
      },
      "outputs": [
        {
          "name": "stdout",
          "output_type": "stream",
          "text": [
            "--2022-10-17 09:01:57--  https://raw.githubusercontent.com/andreaaraldo/machine-learning-for-networks/master/processed_datasets/requet/df.B1_2.csv\n",
            "Resolving raw.githubusercontent.com (raw.githubusercontent.com)... 185.199.109.133, 185.199.108.133, 185.199.110.133, ...\n",
            "Connecting to raw.githubusercontent.com (raw.githubusercontent.com)|185.199.109.133|:443... connected.\n",
            "HTTP request sent, awaiting response... 200 OK\n",
            "Length: 58556 (57K) [text/plain]\n",
            "Saving to: ‘df.B1_2.csv.1’\n",
            "\n",
            "df.B1_2.csv.1       100%[===================>]  57.18K  --.-KB/s    in 0.05s   \n",
            "\n",
            "2022-10-17 09:01:57 (1.12 MB/s) - ‘df.B1_2.csv.1’ saved [58556/58556]\n",
            "\n"
          ]
        }
      ],
      "source": [
        "dataset_to_use = 'B1'\n",
        "mydatasets_folder = \"https://raw.githubusercontent.com/andreaaraldo/machine-learning-for-networks/master/processed_datasets/requet/\"\n",
        "\n",
        "filename = \"df.\"+ dataset_to_use+\"_2.csv\"\n",
        "complete_name = mydatasets_folder+filename\n",
        "!wget $complete_name"
      ]
    },
    {
      "cell_type": "code",
      "execution_count": 9,
      "metadata": {
        "colab": {
          "base_uri": "https://localhost:8080/",
          "height": 1000
        },
        "colab_type": "code",
        "id": "DFmT-xl0wegk",
        "outputId": "d051d0ab-c002-4e0a-c44a-9b48fd4bcb31"
      },
      "outputs": [
        {
          "name": "stdout",
          "output_type": "stream",
          "text": [
            "<class 'pandas.core.frame.DataFrame'>\n",
            "RangeIndex: 47 entries, 0 to 46\n",
            "Data columns (total 207 columns):\n",
            " #    Column               Dtype  \n",
            "---   ------               -----  \n",
            " 0    RelativeTime         float64\n",
            " 1    PacketsSent          int64  \n",
            " 2    PacketsReceived      int64  \n",
            " 3    BytesSent            int64  \n",
            " 4    BytesReceived        int64  \n",
            " 5    IPSrc0               object \n",
            " 6    IPDst0               object \n",
            " 7    Protocol0            object \n",
            " 8    PacketsSent0         int64  \n",
            " 9    PacketsReceived0     int64  \n",
            " 10   BytesSent0           int64  \n",
            " 11   BytesReceived0       int64  \n",
            " 12   IPSrc1               object \n",
            " 13   IPDst1               object \n",
            " 14   Protocol1            object \n",
            " 15   PacketsSent1         int64  \n",
            " 16   PacketsReceived1     int64  \n",
            " 17   BytesSent1           int64  \n",
            " 18   BytesReceived1       int64  \n",
            " 19   IPSrc2               object \n",
            " 20   IPDst2               object \n",
            " 21   Protocol2            object \n",
            " 22   PacketsSent2         int64  \n",
            " 23   PacketsReceived2     int64  \n",
            " 24   BytesSent2           int64  \n",
            " 25   BytesReceived2       int64  \n",
            " 26   IPSrc3               object \n",
            " 27   IPDst3               object \n",
            " 28   Protocol3            object \n",
            " 29   PacketsSent3         int64  \n",
            " 30   PacketsReceived3     int64  \n",
            " 31   BytesSent3           int64  \n",
            " 32   BytesReceived3       int64  \n",
            " 33   IPSrc4               object \n",
            " 34   IPDst4               object \n",
            " 35   Protocol4            object \n",
            " 36   PacketsSent4         int64  \n",
            " 37   PacketsReceived4     int64  \n",
            " 38   BytesSent4           int64  \n",
            " 39   BytesReceived4       int64  \n",
            " 40   IPSrc5               object \n",
            " 41   IPDst5               object \n",
            " 42   Protocol5            object \n",
            " 43   PacketsSent5         int64  \n",
            " 44   PacketsReceived5     int64  \n",
            " 45   BytesSent5           int64  \n",
            " 46   BytesReceived5       int64  \n",
            " 47   IPSrc6               object \n",
            " 48   IPDst6               object \n",
            " 49   Protocol6            object \n",
            " 50   PacketsSent6         int64  \n",
            " 51   PacketsReceived6     int64  \n",
            " 52   BytesSent6           int64  \n",
            " 53   BytesReceived6       int64  \n",
            " 54   IPSrc7               object \n",
            " 55   IPDst7               object \n",
            " 56   Protocol7            object \n",
            " 57   PacketsSent7         int64  \n",
            " 58   PacketsReceived7     int64  \n",
            " 59   BytesSent7           int64  \n",
            " 60   BytesReceived7       int64  \n",
            " 61   IPSrc8               object \n",
            " 62   IPDst8               object \n",
            " 63   Protocol8            object \n",
            " 64   PacketsSent8         int64  \n",
            " 65   PacketsReceived8     int64  \n",
            " 66   BytesSent8           int64  \n",
            " 67   BytesReceived8       int64  \n",
            " 68   IPSrc9               object \n",
            " 69   IPDst9               object \n",
            " 70   Protocol9            object \n",
            " 71   PacketsSent9         int64  \n",
            " 72   PacketsReceived9     int64  \n",
            " 73   BytesSent9           int64  \n",
            " 74   BytesReceived9       int64  \n",
            " 75   IPSrc10              object \n",
            " 76   IPDst10              object \n",
            " 77   Protocol10           object \n",
            " 78   PacketsSent10        int64  \n",
            " 79   PacketsReceived10    int64  \n",
            " 80   BytesSent10          int64  \n",
            " 81   BytesReceived10      int64  \n",
            " 82   IPSrc11              object \n",
            " 83   IPDst11              object \n",
            " 84   Protocol11           int64  \n",
            " 85   PacketsSent11        int64  \n",
            " 86   PacketsReceived11    int64  \n",
            " 87   BytesSent11          int64  \n",
            " 88   BytesReceived11      int64  \n",
            " 89   IPSrc12              object \n",
            " 90   IPDst12              object \n",
            " 91   Protocol12           int64  \n",
            " 92   PacketsSent12        int64  \n",
            " 93   PacketsReceived12    int64  \n",
            " 94   BytesSent12          int64  \n",
            " 95   BytesReceived12      int64  \n",
            " 96   IPSrc13              object \n",
            " 97   IPDst13              object \n",
            " 98   Protocol13           int64  \n",
            " 99   PacketsSent13        int64  \n",
            " 100  PacketsReceived13    int64  \n",
            " 101  BytesSent13          int64  \n",
            " 102  BytesReceived13      int64  \n",
            " 103  IPSrc14              object \n",
            " 104  IPDst14              object \n",
            " 105  Protocol14           int64  \n",
            " 106  PacketsSent14        int64  \n",
            " 107  PacketsReceived14    int64  \n",
            " 108  BytesSent14          int64  \n",
            " 109  BytesReceived14      int64  \n",
            " 110  IPSrc15              object \n",
            " 111  IPDst15              object \n",
            " 112  Protocol15           int64  \n",
            " 113  PacketsSent15        int64  \n",
            " 114  PacketsReceived15    int64  \n",
            " 115  BytesSent15          int64  \n",
            " 116  BytesReceived15      int64  \n",
            " 117  IPSrc16              object \n",
            " 118  IPDst16              object \n",
            " 119  Protocol16           int64  \n",
            " 120  PacketsSent16        int64  \n",
            " 121  PacketsReceived16    int64  \n",
            " 122  BytesSent16          int64  \n",
            " 123  BytesReceived16      int64  \n",
            " 124  IPSrc17              object \n",
            " 125  IPDst17              object \n",
            " 126  Protocol17           int64  \n",
            " 127  PacketsSent17        int64  \n",
            " 128  PacketsReceived17    int64  \n",
            " 129  BytesSent17          int64  \n",
            " 130  BytesReceived17      int64  \n",
            " 131  IPSrc18              object \n",
            " 132  IPDst18              object \n",
            " 133  Protocol18           int64  \n",
            " 134  PacketsSent18        int64  \n",
            " 135  PacketsReceived18    int64  \n",
            " 136  BytesSent18          int64  \n",
            " 137  BytesReceived18      int64  \n",
            " 138  IPSrc19              object \n",
            " 139  IPDst19              object \n",
            " 140  Protocol19           int64  \n",
            " 141  PacketsSent19        int64  \n",
            " 142  PacketsReceived19    int64  \n",
            " 143  BytesSent19          int64  \n",
            " 144  BytesReceived19      int64  \n",
            " 145  IPSrc20              object \n",
            " 146  IPDst20              object \n",
            " 147  Protocol20           int64  \n",
            " 148  PacketsSent20        int64  \n",
            " 149  PacketsReceived20    int64  \n",
            " 150  BytesSent20          int64  \n",
            " 151  BytesReceived20      int64  \n",
            " 152  IPSrc21              object \n",
            " 153  IPDst21              int64  \n",
            " 154  Protocol21           int64  \n",
            " 155  PacketsSent21        int64  \n",
            " 156  PacketsReceived21    int64  \n",
            " 157  BytesSent21          int64  \n",
            " 158  BytesReceived21      int64  \n",
            " 159  IPSrc22              object \n",
            " 160  IPDst22              int64  \n",
            " 161  Protocol22           int64  \n",
            " 162  PacketsSent22        int64  \n",
            " 163  PacketsReceived22    int64  \n",
            " 164  BytesSent22          int64  \n",
            " 165  BytesReceived22      int64  \n",
            " 166  IPSrc23              object \n",
            " 167  IPDst23              int64  \n",
            " 168  Protocol23           int64  \n",
            " 169  PacketsSent23        int64  \n",
            " 170  PacketsReceived23    int64  \n",
            " 171  BytesSent23          int64  \n",
            " 172  BytesReceived23      int64  \n",
            " 173  IPSrc24              object \n",
            " 174  IPDst24              int64  \n",
            " 175  Protocol24           int64  \n",
            " 176  PacketsSent24        int64  \n",
            " 177  PacketsReceived24    int64  \n",
            " 178  BytesSent24          int64  \n",
            " 179  BytesReceived24      int64  \n",
            " 180  IPSrc25              object \n",
            " 181  IPDst25              object \n",
            " 182  Protocol25           int64  \n",
            " 183  PacketsSent25        int64  \n",
            " 184  PacketsReceived25    int64  \n",
            " 185  BytesSent25          int64  \n",
            " 186  BytesReceived25      int64  \n",
            " 187  Buffering            int64  \n",
            " 188  Paused               int64  \n",
            " 189  Playing              int64  \n",
            " 190  CollectData          int64  \n",
            " 191  EpochTime            int64  \n",
            " 192  StartTime            int64  \n",
            " 193  PlaybackProgress     float64\n",
            " 194  Length               float64\n",
            " 195  BufferHealth         float64\n",
            " 196  BufferProgress       float64\n",
            " 197  BufferValid          bool   \n",
            " 198  KBytesReceived       float64\n",
            " 199  label                object \n",
            " 200  label_num            int64  \n",
            " 201  KBytesReceived_log   float64\n",
            " 202  PacketsSent_log      float64\n",
            " 203  PacketsReceived_log  float64\n",
            " 204  BytesSent_log        float64\n",
            " 205  BytesReceived_log    float64\n",
            " 206  BufferProgress_log   float64\n",
            "dtypes: bool(1), float64(12), int64(134), object(60)\n",
            "memory usage: 75.8+ KB\n"
          ]
        }
      ],
      "source": [
        "df = pd.read_csv(filename)\n",
        "df.info(verbose=True)"
      ]
    },
    {
      "cell_type": "code",
      "execution_count": 10,
      "metadata": {
        "colab": {
          "base_uri": "https://localhost:8080/",
          "height": 255
        },
        "colab_type": "code",
        "id": "J3NniJHywegu",
        "outputId": "42b09a14-617c-4bdc-9a05-4a6bc6fd0ba0"
      },
      "outputs": [
        {
          "data": {
            "text/html": [
              "<div>\n",
              "<style scoped>\n",
              "    .dataframe tbody tr th:only-of-type {\n",
              "        vertical-align: middle;\n",
              "    }\n",
              "\n",
              "    .dataframe tbody tr th {\n",
              "        vertical-align: top;\n",
              "    }\n",
              "\n",
              "    .dataframe thead th {\n",
              "        text-align: right;\n",
              "    }\n",
              "</style>\n",
              "<table border=\"1\" class=\"dataframe\">\n",
              "  <thead>\n",
              "    <tr style=\"text-align: right;\">\n",
              "      <th></th>\n",
              "      <th>RelativeTime</th>\n",
              "      <th>PacketsSent</th>\n",
              "      <th>PacketsReceived</th>\n",
              "      <th>BytesSent</th>\n",
              "      <th>BytesReceived</th>\n",
              "      <th>IPSrc0</th>\n",
              "      <th>IPDst0</th>\n",
              "      <th>Protocol0</th>\n",
              "      <th>PacketsSent0</th>\n",
              "      <th>PacketsReceived0</th>\n",
              "      <th>...</th>\n",
              "      <th>BufferValid</th>\n",
              "      <th>KBytesReceived</th>\n",
              "      <th>label</th>\n",
              "      <th>label_num</th>\n",
              "      <th>KBytesReceived_log</th>\n",
              "      <th>PacketsSent_log</th>\n",
              "      <th>PacketsReceived_log</th>\n",
              "      <th>BytesSent_log</th>\n",
              "      <th>BytesReceived_log</th>\n",
              "      <th>BufferProgress_log</th>\n",
              "    </tr>\n",
              "  </thead>\n",
              "  <tbody>\n",
              "    <tr>\n",
              "      <th>0</th>\n",
              "      <td>4.0</td>\n",
              "      <td>6</td>\n",
              "      <td>31</td>\n",
              "      <td>1668</td>\n",
              "      <td>36199</td>\n",
              "      <td>192.168.1.15</td>\n",
              "      <td>74.125.0.41</td>\n",
              "      <td>QUIC</td>\n",
              "      <td>2</td>\n",
              "      <td>26</td>\n",
              "      <td>...</td>\n",
              "      <td>True</td>\n",
              "      <td>36.199</td>\n",
              "      <td>q360p</td>\n",
              "      <td>360</td>\n",
              "      <td>3.589031</td>\n",
              "      <td>1.945910</td>\n",
              "      <td>3.465736</td>\n",
              "      <td>7.419980</td>\n",
              "      <td>10.496814</td>\n",
              "      <td>0.015240</td>\n",
              "    </tr>\n",
              "    <tr>\n",
              "      <th>1</th>\n",
              "      <td>3.8</td>\n",
              "      <td>10</td>\n",
              "      <td>58</td>\n",
              "      <td>1935</td>\n",
              "      <td>77605</td>\n",
              "      <td>192.168.1.15</td>\n",
              "      <td>173.194.31.91</td>\n",
              "      <td>QUIC</td>\n",
              "      <td>5</td>\n",
              "      <td>55</td>\n",
              "      <td>...</td>\n",
              "      <td>True</td>\n",
              "      <td>77.605</td>\n",
              "      <td>q144p</td>\n",
              "      <td>144</td>\n",
              "      <td>4.351632</td>\n",
              "      <td>2.397895</td>\n",
              "      <td>4.077537</td>\n",
              "      <td>7.568379</td>\n",
              "      <td>11.259400</td>\n",
              "      <td>0.007078</td>\n",
              "    </tr>\n",
              "    <tr>\n",
              "      <th>2</th>\n",
              "      <td>3.6</td>\n",
              "      <td>14</td>\n",
              "      <td>62</td>\n",
              "      <td>2842</td>\n",
              "      <td>75432</td>\n",
              "      <td>192.168.1.15</td>\n",
              "      <td>173.194.131.41</td>\n",
              "      <td>QUIC</td>\n",
              "      <td>7</td>\n",
              "      <td>54</td>\n",
              "      <td>...</td>\n",
              "      <td>True</td>\n",
              "      <td>75.432</td>\n",
              "      <td>q144p</td>\n",
              "      <td>144</td>\n",
              "      <td>4.323232</td>\n",
              "      <td>2.708050</td>\n",
              "      <td>4.143135</td>\n",
              "      <td>7.952615</td>\n",
              "      <td>11.231000</td>\n",
              "      <td>0.006487</td>\n",
              "    </tr>\n",
              "    <tr>\n",
              "      <th>3</th>\n",
              "      <td>3.7</td>\n",
              "      <td>33</td>\n",
              "      <td>205</td>\n",
              "      <td>3569</td>\n",
              "      <td>278065</td>\n",
              "      <td>192.168.1.15</td>\n",
              "      <td>173.194.31.91</td>\n",
              "      <td>QUIC</td>\n",
              "      <td>16</td>\n",
              "      <td>168</td>\n",
              "      <td>...</td>\n",
              "      <td>True</td>\n",
              "      <td>278.065</td>\n",
              "      <td>q360p</td>\n",
              "      <td>360</td>\n",
              "      <td>5.627855</td>\n",
              "      <td>3.526361</td>\n",
              "      <td>5.327876</td>\n",
              "      <td>8.180321</td>\n",
              "      <td>12.535614</td>\n",
              "      <td>0.005879</td>\n",
              "    </tr>\n",
              "    <tr>\n",
              "      <th>4</th>\n",
              "      <td>3.6</td>\n",
              "      <td>6</td>\n",
              "      <td>20</td>\n",
              "      <td>2036</td>\n",
              "      <td>27840</td>\n",
              "      <td>192.168.1.15</td>\n",
              "      <td>74.125.0.24</td>\n",
              "      <td>QUIC</td>\n",
              "      <td>4</td>\n",
              "      <td>20</td>\n",
              "      <td>...</td>\n",
              "      <td>True</td>\n",
              "      <td>27.840</td>\n",
              "      <td>q360p</td>\n",
              "      <td>360</td>\n",
              "      <td>3.326474</td>\n",
              "      <td>1.945910</td>\n",
              "      <td>3.044522</td>\n",
              "      <td>7.619233</td>\n",
              "      <td>10.234265</td>\n",
              "      <td>0.007130</td>\n",
              "    </tr>\n",
              "  </tbody>\n",
              "</table>\n",
              "<p>5 rows × 207 columns</p>\n",
              "</div>"
            ],
            "text/plain": [
              "   RelativeTime  PacketsSent  PacketsReceived  BytesSent  BytesReceived  \\\n",
              "0           4.0            6               31       1668          36199   \n",
              "1           3.8           10               58       1935          77605   \n",
              "2           3.6           14               62       2842          75432   \n",
              "3           3.7           33              205       3569         278065   \n",
              "4           3.6            6               20       2036          27840   \n",
              "\n",
              "          IPSrc0          IPDst0 Protocol0  PacketsSent0  PacketsReceived0  \\\n",
              "0   192.168.1.15     74.125.0.41      QUIC             2                26   \n",
              "1   192.168.1.15   173.194.31.91      QUIC             5                55   \n",
              "2   192.168.1.15  173.194.131.41      QUIC             7                54   \n",
              "3   192.168.1.15   173.194.31.91      QUIC            16               168   \n",
              "4   192.168.1.15     74.125.0.24      QUIC             4                20   \n",
              "\n",
              "   ...  BufferValid  KBytesReceived  label label_num KBytesReceived_log  \\\n",
              "0  ...         True          36.199  q360p       360           3.589031   \n",
              "1  ...         True          77.605  q144p       144           4.351632   \n",
              "2  ...         True          75.432  q144p       144           4.323232   \n",
              "3  ...         True         278.065  q360p       360           5.627855   \n",
              "4  ...         True          27.840  q360p       360           3.326474   \n",
              "\n",
              "   PacketsSent_log  PacketsReceived_log  BytesSent_log  BytesReceived_log  \\\n",
              "0         1.945910             3.465736       7.419980          10.496814   \n",
              "1         2.397895             4.077537       7.568379          11.259400   \n",
              "2         2.708050             4.143135       7.952615          11.231000   \n",
              "3         3.526361             5.327876       8.180321          12.535614   \n",
              "4         1.945910             3.044522       7.619233          10.234265   \n",
              "\n",
              "  BufferProgress_log  \n",
              "0           0.015240  \n",
              "1           0.007078  \n",
              "2           0.006487  \n",
              "3           0.005879  \n",
              "4           0.007130  \n",
              "\n",
              "[5 rows x 207 columns]"
            ]
          },
          "execution_count": 10,
          "metadata": {},
          "output_type": "execute_result"
        }
      ],
      "source": [
        "df.head()"
      ]
    },
    {
      "cell_type": "markdown",
      "metadata": {
        "colab_type": "text",
        "id": "jNxaSEqXwehN"
      },
      "source": [
        "Let's try to infer BufferHealth from the following features"
      ]
    },
    {
      "cell_type": "code",
      "execution_count": 11,
      "metadata": {
        "colab": {},
        "colab_type": "code",
        "id": "1LMq-IW7wehO"
      },
      "outputs": [],
      "source": [
        "features = ['KBytesReceived_log','BytesSent_log', 'PacketsSent', \n",
        "            'PacketsReceived', 'BytesSent1']\n",
        "\n",
        "X = df[features].values\n",
        "y = df['BufferHealth'].values"
      ]
    },
    {
      "cell_type": "markdown",
      "metadata": {
        "colab_type": "text",
        "id": "e6G25S-MwehU"
      },
      "source": [
        "We will try different parameters of a model on the training set and evaluate their performance on the test set."
      ]
    },
    {
      "cell_type": "code",
      "execution_count": 12,
      "metadata": {
        "colab": {},
        "colab_type": "code",
        "id": "GdmZl-hLwehY"
      },
      "outputs": [],
      "source": [
        "X_train, X_test, y_train, y_test =train_test_split(\n",
        "    X,y, test_size=0.3, shuffle=True, random_state=7)"
      ]
    },
    {
      "cell_type": "markdown",
      "metadata": {
        "colab_type": "text",
        "id": "2qJEquIEAtbM"
      },
      "source": [
        "### Linear regression"
      ]
    },
    {
      "cell_type": "markdown",
      "metadata": {
        "colab_type": "text",
        "id": "ehPpkedxwehe"
      },
      "source": [
        "Let's first try a simple linear regression"
      ]
    },
    {
      "cell_type": "code",
      "execution_count": 13,
      "metadata": {
        "colab": {
          "base_uri": "https://localhost:8080/",
          "height": 35
        },
        "colab_type": "code",
        "id": "fn6HXQoewehh",
        "outputId": "f099767f-a09c-4eef-dbfb-bb0134d5f42a"
      },
      "outputs": [
        {
          "data": {
            "text/plain": [
              "2.148766515019232"
            ]
          },
          "execution_count": 13,
          "metadata": {},
          "output_type": "execute_result"
        }
      ],
      "source": [
        "model = LinearRegression()\n",
        "model.fit(X_train, y_train)\n",
        "y_pred = model.predict(X_test)\n",
        "RMSE_lin = sqrt(mean_squared_error(y_pred, y_test) )\n",
        "RMSE_lin"
      ]
    },
    {
      "cell_type": "markdown",
      "metadata": {
        "colab_type": "text",
        "id": "AzhmOuBqwehn"
      },
      "source": [
        "A regressor with the regularization term is also called Ridge regressor.\n",
        "\n",
        "First, see that `Ridge` with `alpha=0`, the model becomes a simple linear regression."
      ]
    },
    {
      "cell_type": "code",
      "execution_count": 14,
      "metadata": {
        "colab": {
          "base_uri": "https://localhost:8080/",
          "height": 35
        },
        "colab_type": "code",
        "id": "Pdg4jXIbwehp",
        "outputId": "77125c03-cdd0-42a1-a324-17f48bdaf2d2"
      },
      "outputs": [
        {
          "data": {
            "text/plain": [
              "2.148766515019224"
            ]
          },
          "execution_count": 14,
          "metadata": {},
          "output_type": "execute_result"
        }
      ],
      "source": [
        "# The implementation of Ridge regression does not behave well with\n",
        "# alpha=0, as it expects alpha > 0\n",
        "model = Ridge(alpha=1e-13)\n",
        "model.fit(X_train, y_train)\n",
        "y_pred = model.predict(X_test)\n",
        "sqrt(mean_squared_error(y_pred, y_test) )"
      ]
    },
    {
      "cell_type": "markdown",
      "metadata": {
        "colab_type": "text",
        "id": "jbNao7yyAyLM"
      },
      "source": [
        "### Linear regression + regularization"
      ]
    },
    {
      "cell_type": "markdown",
      "metadata": {
        "colab_type": "text",
        "id": "v44NMmLdwehw"
      },
      "source": [
        "Let's try with some `alpha > 0`"
      ]
    },
    {
      "cell_type": "code",
      "execution_count": 15,
      "metadata": {
        "colab": {
          "base_uri": "https://localhost:8080/",
          "height": 35
        },
        "colab_type": "code",
        "id": "PFKPWq7Awehy",
        "outputId": "c546ffdc-c87a-40c9-978f-ace82c25305e"
      },
      "outputs": [
        {
          "data": {
            "text/plain": [
              "2.1476270838437523"
            ]
          },
          "execution_count": 15,
          "metadata": {},
          "output_type": "execute_result"
        }
      ],
      "source": [
        "model = Ridge(alpha=10)\n",
        "model.fit(X_train, y_train)\n",
        "y_pred = model.predict(X_test)\n",
        "sqrt(mean_squared_error(y_pred, y_test) )\n"
      ]
    },
    {
      "cell_type": "markdown",
      "metadata": {
        "colab_type": "text",
        "id": "Hw2Ohm0fweh4"
      },
      "source": [
        "Find the best alpha in the training set and report the cross validation error. \n",
        "\n",
        "**When looking for the best parameter, use training data only** (otherwise you have **data leakage**)."
      ]
    },
    {
      "cell_type": "code",
      "execution_count": 16,
      "metadata": {
        "colab": {
          "base_uri": "https://localhost:8080/",
          "height": 638
        },
        "colab_type": "code",
        "id": "Z9DXdMxoweh6",
        "outputId": "c979d239-10e9-4e2b-dc99-41672686ab29",
        "scrolled": true
      },
      "outputs": [
        {
          "data": {
            "text/html": [
              "<div>\n",
              "<style scoped>\n",
              "    .dataframe tbody tr th:only-of-type {\n",
              "        vertical-align: middle;\n",
              "    }\n",
              "\n",
              "    .dataframe tbody tr th {\n",
              "        vertical-align: top;\n",
              "    }\n",
              "\n",
              "    .dataframe thead th {\n",
              "        text-align: right;\n",
              "    }\n",
              "</style>\n",
              "<table border=\"1\" class=\"dataframe\">\n",
              "  <thead>\n",
              "    <tr style=\"text-align: right;\">\n",
              "      <th></th>\n",
              "      <th>alphas</th>\n",
              "      <th>cross-validation errors</th>\n",
              "    </tr>\n",
              "  </thead>\n",
              "  <tbody>\n",
              "    <tr>\n",
              "      <th>0</th>\n",
              "      <td>1e-09</td>\n",
              "      <td>3.013704</td>\n",
              "    </tr>\n",
              "    <tr>\n",
              "      <th>1</th>\n",
              "      <td>0.5</td>\n",
              "      <td>2.961386</td>\n",
              "    </tr>\n",
              "    <tr>\n",
              "      <th>2</th>\n",
              "      <td>1</td>\n",
              "      <td>2.925507</td>\n",
              "    </tr>\n",
              "    <tr>\n",
              "      <th>3</th>\n",
              "      <td>10</td>\n",
              "      <td>2.783285</td>\n",
              "    </tr>\n",
              "    <tr>\n",
              "      <th>4</th>\n",
              "      <td>100</td>\n",
              "      <td>2.738127</td>\n",
              "    </tr>\n",
              "    <tr>\n",
              "      <th>5</th>\n",
              "      <td>1000</td>\n",
              "      <td>2.710322</td>\n",
              "    </tr>\n",
              "    <tr>\n",
              "      <th>6</th>\n",
              "      <td>10000</td>\n",
              "      <td>2.672646</td>\n",
              "    </tr>\n",
              "    <tr>\n",
              "      <th>7</th>\n",
              "      <td>100000.0</td>\n",
              "      <td>2.662294</td>\n",
              "    </tr>\n",
              "    <tr>\n",
              "      <th>8</th>\n",
              "      <td>1000000.0</td>\n",
              "      <td>2.860985</td>\n",
              "    </tr>\n",
              "  </tbody>\n",
              "</table>\n",
              "</div>"
            ],
            "text/plain": [
              "      alphas  cross-validation errors\n",
              "0      1e-09                 3.013704\n",
              "1        0.5                 2.961386\n",
              "2          1                 2.925507\n",
              "3         10                 2.783285\n",
              "4        100                 2.738127\n",
              "5       1000                 2.710322\n",
              "6      10000                 2.672646\n",
              "7   100000.0                 2.662294\n",
              "8  1000000.0                 2.860985"
            ]
          },
          "execution_count": 16,
          "metadata": {},
          "output_type": "execute_result"
        },
        {
          "data": {
            "image/png": "[encoded data removed]",
            "text/plain": [
              "<Figure size 640x480 with 1 Axes>"
            ]
          },
          "metadata": {},
          "output_type": "display_data"
        }
      ],
      "source": [
        "k_fold = KFold(n_splits=5, shuffle=True, random_state=10)\n",
        "\n",
        "alphas = [1e-9, 0.5, 1, 10, 100, 1000, 10000, 1e5, 1e6]\n",
        "errors = []\n",
        "for a in alphas:\n",
        "    scores = cross_val_score(Ridge(alpha=a), \n",
        "                X_train, y_train, cv=k_fold, \n",
        "                scoring = 'neg_mean_squared_error')\n",
        "    errors.append(sqrt(mean(-scores) ) )\n",
        "    \n",
        "# We convert x-values to string because otherwise they would \n",
        "# be to far from each other\n",
        "df_errors = pd.DataFrame({'alphas':[str(a) for a in alphas],\n",
        "                        'cross-validation errors':errors})\n",
        "ax = df_errors.plot.bar(x='alphas')\n",
        "df_errors"
      ]
    },
    {
      "cell_type": "markdown",
      "metadata": {
        "colab_type": "text",
        "id": "dg4N-Fc0weiF"
      },
      "source": [
        "Let's analyze the best Ridge regression model."
      ]
    },
    {
      "cell_type": "code",
      "execution_count": 17,
      "metadata": {
        "colab": {
          "base_uri": "https://localhost:8080/",
          "height": 302
        },
        "colab_type": "code",
        "id": "gOtBgCYnweiG",
        "outputId": "e8909d73-e93f-4003-9783-9955bdddd781",
        "scrolled": true
      },
      "outputs": [
        {
          "name": "stdout",
          "output_type": "stream",
          "text": [
            "Residuals:\n",
            "    Min      1Q  Median     3Q    Max\n",
            "-5.8009 -0.2072  0.7453 1.3316 3.4802\n",
            "\n",
            "\n",
            "Coefficients:\n",
            "            Estimate  Std. Error  t value   p value\n",
            "_intercept  4.098252   12.370681   0.3313  0.742656\n",
            "x1         -0.000007    1.034499  -0.0000  0.999995\n",
            "x2          0.000019    0.548456   0.0000  0.999973\n",
            "x3          0.001179    0.047631   0.0247  0.980417\n",
            "x4          0.011015    0.002133   5.1634  0.000013\n",
            "x5         -0.000267    0.002675  -0.1000  0.921024\n",
            "---\n",
            "R-squared:  0.42290,    Adjusted R-squared:  0.31192\n",
            "F-statistic: 3.81 on 5 features\n"
          ]
        }
      ],
      "source": [
        "model = Ridge(alpha=100000)\n",
        "model.fit(X_train, y_train)\n",
        "stats.summary(model, X_train, y_train)"
      ]
    },
    {
      "cell_type": "code",
      "execution_count": 18,
      "metadata": {
        "colab": {
          "base_uri": "https://localhost:8080/",
          "height": 35
        },
        "colab_type": "code",
        "id": "lf3WzW6KeQyq",
        "outputId": "f1bd6e18-0b28-46e9-c64d-170b6bb07c4f"
      },
      "outputs": [
        {
          "data": {
            "text/plain": [
              "2.1019796958771435"
            ]
          },
          "execution_count": 18,
          "metadata": {},
          "output_type": "execute_result"
        }
      ],
      "source": [
        "y_pred = model.predict(X_test)\n",
        "RMSE_lin_ridge = sqrt(mean_squared_error(y_pred, y_test) )\n",
        "RMSE_lin_ridge"
      ]
    },
    {
      "cell_type": "markdown",
      "metadata": {
        "colab_type": "text",
        "id": "7QmYUMKQweiR"
      },
      "source": [
        "We improved the model.\n",
        "\n",
        "Can we improve it further by exploting some non-linear dependency?"
      ]
    },
    {
      "cell_type": "markdown",
      "metadata": {
        "colab_type": "text",
        "id": "EF-4peOZweiU"
      },
      "source": [
        "# Polynomial regression and regularization"
      ]
    },
    {
      "cell_type": "markdown",
      "metadata": {
        "colab_type": "text",
        "id": "0194De50weiV"
      },
      "source": [
        "Let's try a polynomial regression"
      ]
    },
    {
      "cell_type": "code",
      "execution_count": 27,
      "metadata": {
        "colab": {
          "base_uri": "https://localhost:8080/",
          "height": 35
        },
        "colab_type": "code",
        "id": "ey57G9D6weiX",
        "outputId": "ca0be990-3146-4379-af38-4bef321203b5",
        "scrolled": false
      },
      "outputs": [
        {
          "name": "stdout",
          "output_type": "stream",
          "text": [
            "RMSE quadr:  3.162059124548073 RMSE Ridge:  2.148766515019232\n"
          ]
        }
      ],
      "source": [
        "def MyPolynomialRegression(degree=2, include_bias=False):\n",
        "     return make_pipeline(PolynomialFeatures(degree=degree, include_bias=include_bias), LinearRegression())\n",
        "\n",
        "\n",
        "model = MyPolynomialRegression(degree=2)\n",
        "model.fit(X_train, y_train)\n",
        "y_pred = model.predict(X_test)\n",
        "RMSE_quadr = sqrt(mean_squared_error(y_pred, y_test) )\n",
        "print(\"RMSE quadr: \", RMSE_quadr, \"RMSE Ridge: \", RMSE_lin)"
      ]
    },
    {
      "cell_type": "markdown",
      "metadata": {
        "colab_type": "text",
        "id": "l1362tdDweib"
      },
      "source": [
        "Clearly, **overfitting**.\n",
        "\n",
        "Let's modify `MyPolynomialRegression` in order to perform ridge regression instead of simple linear regression in the last step."
      ]
    },
    {
      "cell_type": "code",
      "execution_count": 33,
      "metadata": {
        "colab": {},
        "colab_type": "code",
        "id": "ZTVXeNHQweid"
      },
      "outputs": [],
      "source": [
        "def MyPolynomialRegression(degree=2, include_bias=False, alpha=1e-9):\n",
        "    return make_pipeline(PolynomialFeatures(degree=degree, include_bias=include_bias), Ridge(alpha=alpha) )"
      ]
    },
    {
      "cell_type": "code",
      "execution_count": 34,
      "metadata": {
        "colab": {
          "base_uri": "https://localhost:8080/",
          "height": 756
        },
        "colab_type": "code",
        "id": "ccJR0E5iweii",
        "outputId": "e82aed15-c883-4308-a044-09d850254a96",
        "scrolled": false
      },
      "outputs": [
        {
          "data": {
            "text/html": [
              "<div>\n",
              "<style scoped>\n",
              "    .dataframe tbody tr th:only-of-type {\n",
              "        vertical-align: middle;\n",
              "    }\n",
              "\n",
              "    .dataframe tbody tr th {\n",
              "        vertical-align: top;\n",
              "    }\n",
              "\n",
              "    .dataframe thead th {\n",
              "        text-align: right;\n",
              "    }\n",
              "</style>\n",
              "<table border=\"1\" class=\"dataframe\">\n",
              "  <thead>\n",
              "    <tr style=\"text-align: right;\">\n",
              "      <th></th>\n",
              "      <th>alphas</th>\n",
              "      <th>errors</th>\n",
              "    </tr>\n",
              "  </thead>\n",
              "  <tbody>\n",
              "    <tr>\n",
              "      <th>0</th>\n",
              "      <td>0.5</td>\n",
              "      <td>6.518287</td>\n",
              "    </tr>\n",
              "    <tr>\n",
              "      <th>1</th>\n",
              "      <td>1</td>\n",
              "      <td>6.373724</td>\n",
              "    </tr>\n",
              "    <tr>\n",
              "      <th>2</th>\n",
              "      <td>10</td>\n",
              "      <td>5.657535</td>\n",
              "    </tr>\n",
              "    <tr>\n",
              "      <th>3</th>\n",
              "      <td>100</td>\n",
              "      <td>5.003791</td>\n",
              "    </tr>\n",
              "    <tr>\n",
              "      <th>4</th>\n",
              "      <td>1000</td>\n",
              "      <td>4.582287</td>\n",
              "    </tr>\n",
              "    <tr>\n",
              "      <th>5</th>\n",
              "      <td>100000.0</td>\n",
              "      <td>3.796534</td>\n",
              "    </tr>\n",
              "    <tr>\n",
              "      <th>6</th>\n",
              "      <td>1000000.0</td>\n",
              "      <td>3.303027</td>\n",
              "    </tr>\n",
              "    <tr>\n",
              "      <th>7</th>\n",
              "      <td>10000000.0</td>\n",
              "      <td>2.930702</td>\n",
              "    </tr>\n",
              "    <tr>\n",
              "      <th>8</th>\n",
              "      <td>1000000000.0</td>\n",
              "      <td>2.669323</td>\n",
              "    </tr>\n",
              "    <tr>\n",
              "      <th>9</th>\n",
              "      <td>1000000000000.0</td>\n",
              "      <td>3.048577</td>\n",
              "    </tr>\n",
              "    <tr>\n",
              "      <th>10</th>\n",
              "      <td>1000000000000000.0</td>\n",
              "      <td>3.295514</td>\n",
              "    </tr>\n",
              "  </tbody>\n",
              "</table>\n",
              "</div>"
            ],
            "text/plain": [
              "                alphas    errors\n",
              "0                  0.5  6.518287\n",
              "1                    1  6.373724\n",
              "2                   10  5.657535\n",
              "3                  100  5.003791\n",
              "4                 1000  4.582287\n",
              "5             100000.0  3.796534\n",
              "6            1000000.0  3.303027\n",
              "7           10000000.0  2.930702\n",
              "8         1000000000.0  2.669323\n",
              "9      1000000000000.0  3.048577\n",
              "10  1000000000000000.0  3.295514"
            ]
          },
          "execution_count": 34,
          "metadata": {},
          "output_type": "execute_result"
        },
        {
          "data": {
            "image/png": "[encoded data removed]",
            "text/plain": [
              "<Figure size 640x480 with 1 Axes>"
            ]
          },
          "metadata": {},
          "output_type": "display_data"
        }
      ],
      "source": [
        "alphas = [0.5, 1, 10, 100, 1000, 1e5, 1e6, 1e7, 1e9, 1e12, 1e15]\n",
        "errors = []\n",
        "for a in alphas:\n",
        "    scores = cross_val_score(MyPolynomialRegression(degree=2,\n",
        "                    include_bias=False, alpha=a), \n",
        "                X_train, y_train, cv=k_fold, \n",
        "                scoring = 'neg_mean_squared_error')\n",
        "    errors.append(sqrt(mean(-scores) ) )\n",
        "    \n",
        "df_errors = pd.DataFrame({'alphas':[str(a) for a in alphas],\n",
        "                        'errors':errors})\n",
        "ax = df_errors.plot.bar(x='alphas')\n",
        "df_errors"
      ]
    },
    {
      "cell_type": "markdown",
      "metadata": {
        "colab_type": "text",
        "id": "hTwyQjfWweil"
      },
      "source": [
        "Let's compute the test error for the best alpha"
      ]
    },
    {
      "cell_type": "code",
      "execution_count": 35,
      "metadata": {
        "colab": {
          "base_uri": "https://localhost:8080/",
          "height": 70
        },
        "colab_type": "code",
        "id": "cHuYNq1Mweim",
        "outputId": "c9223187-5124-4613-8c68-5f5afad73efd",
        "scrolled": true
      },
      "outputs": [
        {
          "name": "stdout",
          "output_type": "stream",
          "text": [
            "RMSE_poly_and_ridge:  2.022860936212547 \n",
            "RMSE poly without ridge:  3.162059124548073 \n",
            "RMSE linear:  2.148766515019232\n"
          ]
        }
      ],
      "source": [
        "model = MyPolynomialRegression(degree=2, alpha=1e9)\n",
        "model.fit(X_train, y_train)\n",
        "y_pred = model.predict(X_test)\n",
        "RMSE_poly_and_ridge = sqrt(mean_squared_error(y_pred, y_test) )\n",
        "print(\"RMSE_poly_and_ridge: \", RMSE_poly_and_ridge,\n",
        "      \"\\nRMSE poly without ridge: \", RMSE_quadr,\n",
        "      \"\\nRMSE linear: \", RMSE_lin)"
      ]
    },
    {
      "cell_type": "markdown",
      "metadata": {
        "colab_type": "text",
        "id": "x5TAmE5ztaCB"
      },
      "source": [
        "Regularization improved the model"
      ]
    },
    {
      "cell_type": "markdown",
      "metadata": {
        "colab_type": "text",
        "id": "qdgU9hQTweit"
      },
      "source": [
        "# Feature scaling"
      ]
    },
    {
      "cell_type": "markdown",
      "metadata": {
        "colab_type": "text",
        "id": "hXYtPm-eweiu"
      },
      "source": [
        "Go back to slides"
      ]
    },
    {
      "cell_type": "code",
      "execution_count": 36,
      "metadata": {
        "colab": {
          "base_uri": "https://localhost:8080/",
          "height": 334
        },
        "colab_type": "code",
        "id": "uw7_8z0Nweiu",
        "outputId": "95c8267f-25a6-4368-c6d2-388ba51ff376",
        "scrolled": true
      },
      "outputs": [
        {
          "data": {
            "image/png": "[encoded data removed]",
            "text/plain": [
              "<Figure size 640x480 with 1 Axes>"
            ]
          },
          "metadata": {},
          "output_type": "display_data"
        }
      ],
      "source": [
        "ax = df[features].boxplot()\n",
        "ax.tick_params(axis='x', labelrotation=45)\n"
      ]
    },
    {
      "cell_type": "markdown",
      "metadata": {
        "colab_type": "text",
        "id": "RCLgeKwpfEYx"
      },
      "source": [
        "The scale of the features is very diverse. Our regularized model is likely to ignore the \"smallest\" features."
      ]
    },
    {
      "cell_type": "code",
      "execution_count": 37,
      "metadata": {
        "colab": {},
        "colab_type": "code",
        "id": "L2X1O28fxYVC"
      },
      "outputs": [],
      "source": [
        "# IGNORE THIS\n",
        "if savefigures:\n",
        "  from google.colab import drive\n",
        "  mount_point = '/content/gdrive'\n",
        "  drive.mount(mount_point, force_remount=True)\n",
        "  drive_path = mount_point+'/My Drive/'\n",
        "  my_path = drive_path + 'tsp/teaching/data-science-for-networks/img-from-code/02.regression/'\n",
        "\n",
        "  plt.savefig(my_path+'c.boxplot.pdf')"
      ]
    },
    {
      "cell_type": "code",
      "execution_count": 38,
      "metadata": {
        "colab": {
          "base_uri": "https://localhost:8080/",
          "height": 334
        },
        "colab_type": "code",
        "id": "MTE3D0YIwei0",
        "outputId": "ad961535-175e-44d9-facf-3a6abb583cd2",
        "scrolled": true
      },
      "outputs": [
        {
          "data": {
            "image/png": "[encoded data removed]",
            "text/plain": [
              "<Figure size 640x480 with 1 Axes>"
            ]
          },
          "metadata": {},
          "output_type": "display_data"
        }
      ],
      "source": [
        "scaler = StandardScaler()\n",
        "X_scaled = scaler.fit_transform(X)\n",
        "df_scaled = pd.DataFrame(X_scaled)\n",
        "df_scaled.columns = features\n",
        "ax = df_scaled.boxplot()\n",
        "ax.tick_params(axis='x', labelrotation=45)\n",
        "\n",
        "if savefigures:\n",
        "  plt.savefig(my_path+'c.boxplot-scaled.pdf')"
      ]
    },
    {
      "cell_type": "markdown",
      "metadata": {
        "colab_type": "text",
        "id": "kioxld8Owei4"
      },
      "source": [
        "Scaling is usually included in the pipelines. Pipelines will follow the correct protocol when scaling. For instance, if we use a Max-Min Scaler, the pipeline defined in the following code will behave as follows:\n",
        "* When you call `fit` on your pipeline (and you pass `X_train`,`y_train`), the pipeline will compute the Min and the Max of the features of `X_train`, scale `X_train`  accordingly and also storing these standard deviations for later use\n",
        "* It will then train the model on the scaled dataset\n",
        "* When you call `predict` on your pipeline (and you pass `X_test`), the pipeline will scale each sample based on the Min and the Max **computed before**\n",
        "* The pipeline will make the prediction\n",
        "\n",
        "Note the scaling parameters (e.g., the Min and the Max) are calculated only based on the training set.\n",
        "\n",
        "Let's construct a pipeline with scaling and Ridge regression."
      ]
    },
    {
      "cell_type": "code",
      "execution_count": 39,
      "metadata": {
        "colab": {},
        "colab_type": "code",
        "id": "RBDe-zUfwei4"
      },
      "outputs": [],
      "source": [
        "def MyScalingAndPolyRidge(degree=2, alpha=2):\n",
        "    return make_pipeline(\n",
        "       PolynomialFeatures(degree=degree, include_bias=False),\n",
        "        MinMaxScaler(),\n",
        "        Ridge(alpha=alpha)\n",
        "    )"
      ]
    },
    {
      "cell_type": "markdown",
      "metadata": {
        "colab_type": "text",
        "id": "ql_fuiRXwei7"
      },
      "source": [
        "Let's find the best alpha with GridSearch"
      ]
    },
    {
      "cell_type": "code",
      "execution_count": 40,
      "metadata": {
        "colab": {
          "base_uri": "https://localhost:8080/",
          "height": 763
        },
        "colab_type": "code",
        "id": "FoVp5ljFwei8",
        "outputId": "256e5b32-b0bf-4bc6-fd4e-87cb2672d2f3",
        "scrolled": true
      },
      "outputs": [
        {
          "data": {
            "text/html": [
              "<div>\n",
              "<style scoped>\n",
              "    .dataframe tbody tr th:only-of-type {\n",
              "        vertical-align: middle;\n",
              "    }\n",
              "\n",
              "    .dataframe tbody tr th {\n",
              "        vertical-align: top;\n",
              "    }\n",
              "\n",
              "    .dataframe thead th {\n",
              "        text-align: right;\n",
              "    }\n",
              "</style>\n",
              "<table border=\"1\" class=\"dataframe\">\n",
              "  <thead>\n",
              "    <tr style=\"text-align: right;\">\n",
              "      <th></th>\n",
              "      <th>alphas</th>\n",
              "      <th>errors</th>\n",
              "    </tr>\n",
              "  </thead>\n",
              "  <tbody>\n",
              "    <tr>\n",
              "      <th>0</th>\n",
              "      <td>1e-09</td>\n",
              "      <td>6.923786</td>\n",
              "    </tr>\n",
              "    <tr>\n",
              "      <th>1</th>\n",
              "      <td>1e-07</td>\n",
              "      <td>6.902089</td>\n",
              "    </tr>\n",
              "    <tr>\n",
              "      <th>2</th>\n",
              "      <td>0.0001</td>\n",
              "      <td>5.156224</td>\n",
              "    </tr>\n",
              "    <tr>\n",
              "      <th>3</th>\n",
              "      <td>0.001</td>\n",
              "      <td>4.019781</td>\n",
              "    </tr>\n",
              "    <tr>\n",
              "      <th>4</th>\n",
              "      <td>0.1</td>\n",
              "      <td>2.976582</td>\n",
              "    </tr>\n",
              "    <tr>\n",
              "      <th>5</th>\n",
              "      <td>0.2</td>\n",
              "      <td>3.010931</td>\n",
              "    </tr>\n",
              "    <tr>\n",
              "      <th>6</th>\n",
              "      <td>0.5</td>\n",
              "      <td>2.996951</td>\n",
              "    </tr>\n",
              "    <tr>\n",
              "      <th>7</th>\n",
              "      <td>1</td>\n",
              "      <td>2.952820</td>\n",
              "    </tr>\n",
              "    <tr>\n",
              "      <th>8</th>\n",
              "      <td>10</td>\n",
              "      <td>2.848838</td>\n",
              "    </tr>\n",
              "    <tr>\n",
              "      <th>9</th>\n",
              "      <td>100</td>\n",
              "      <td>3.125481</td>\n",
              "    </tr>\n",
              "    <tr>\n",
              "      <th>10</th>\n",
              "      <td>1000</td>\n",
              "      <td>3.274140</td>\n",
              "    </tr>\n",
              "    <tr>\n",
              "      <th>11</th>\n",
              "      <td>100000.0</td>\n",
              "      <td>3.295636</td>\n",
              "    </tr>\n",
              "    <tr>\n",
              "      <th>12</th>\n",
              "      <td>1000000.0</td>\n",
              "      <td>3.295837</td>\n",
              "    </tr>\n",
              "  </tbody>\n",
              "</table>\n",
              "</div>"
            ],
            "text/plain": [
              "       alphas    errors\n",
              "0       1e-09  6.923786\n",
              "1       1e-07  6.902089\n",
              "2      0.0001  5.156224\n",
              "3       0.001  4.019781\n",
              "4         0.1  2.976582\n",
              "5         0.2  3.010931\n",
              "6         0.5  2.996951\n",
              "7           1  2.952820\n",
              "8          10  2.848838\n",
              "9         100  3.125481\n",
              "10       1000  3.274140\n",
              "11   100000.0  3.295636\n",
              "12  1000000.0  3.295837"
            ]
          },
          "execution_count": 40,
          "metadata": {},
          "output_type": "execute_result"
        },
        {
          "data": {
            "image/png": "[encoded data removed]",
            "text/plain": [
              "<Figure size 640x480 with 1 Axes>"
            ]
          },
          "metadata": {},
          "output_type": "display_data"
        }
      ],
      "source": [
        "alphas = [1e-9, 1e-7, 1e-4, 1e-3, 0.1, 0.2, 0.5, 1, 10, 100, 1000, 1e5, 1e6]\n",
        "errors = []\n",
        "for a in alphas:\n",
        "    scores = cross_val_score(MyScalingAndPolyRidge(degree=2,\n",
        "                    alpha=a), \n",
        "                X_train, y_train, cv=k_fold, \n",
        "                scoring = 'neg_mean_squared_error')\n",
        "    errors.append(sqrt(mean(-scores) ) )\n",
        "    \n",
        "df_errors = pd.DataFrame({'alphas':[str(a) for a in alphas],\n",
        "                        'errors':errors})\n",
        "ax = df_errors.plot.bar(x='alphas')\n",
        "df_errors"
      ]
    },
    {
      "cell_type": "markdown",
      "metadata": {
        "colab_type": "text",
        "id": "jQ_xSIbvwejB"
      },
      "source": [
        "After scaling, the best $\\alpha$ is 10."
      ]
    },
    {
      "cell_type": "code",
      "execution_count": 41,
      "metadata": {
        "colab": {
          "base_uri": "https://localhost:8080/",
          "height": 53
        },
        "colab_type": "code",
        "id": "eL8vw3eEwejD",
        "outputId": "f6edc4b6-ae24-46a3-d02c-5d0f30ebd9e2",
        "scrolled": true
      },
      "outputs": [
        {
          "name": "stdout",
          "output_type": "stream",
          "text": [
            "RMSE_scaling_and_poly_and_ridge:  2.0676087427733334 \n",
            "RMSE_poly_and_ridge: 2.022860936212547\n"
          ]
        }
      ],
      "source": [
        "model = MyScalingAndPolyRidge(degree=2,\n",
        "                    alpha=10)\n",
        "model.fit(X_train, y_train)\n",
        "y_pred = model.predict(X_test)\n",
        "RMSE_scaling_and_poly_and_ridge = \\\n",
        "    sqrt(mean_squared_error(y_pred, y_test) )\n",
        "    \n",
        "print(\"RMSE_scaling_and_poly_and_ridge: \",\n",
        "      RMSE_scaling_and_poly_and_ridge,\n",
        "      \"\\nRMSE_poly_and_ridge:\", \n",
        "      RMSE_poly_and_ridge)"
      ]
    },
    {
      "cell_type": "markdown",
      "metadata": {
        "colab_type": "text",
        "id": "QR1nMywSrew9"
      },
      "source": [
        "Scaling improved the accuracy."
      ]
    },
    {
      "cell_type": "markdown",
      "metadata": {
        "colab_type": "text",
        "id": "aJY0sEk1wejI"
      },
      "source": [
        "# Grid search"
      ]
    },
    {
      "cell_type": "markdown",
      "metadata": {
        "colab_type": "text",
        "id": "8TVhOASvwejJ"
      },
      "source": [
        "Let's find the best combination of polynomial degree and regularization weight.\n",
        "\n",
        "Let's check how parameters are called"
      ]
    },
    {
      "cell_type": "code",
      "execution_count": 42,
      "metadata": {
        "colab": {
          "base_uri": "https://localhost:8080/",
          "height": 55
        },
        "colab_type": "code",
        "id": "5YgQHH8YwejK",
        "outputId": "484119ad-4c79-486a-9704-01b8f5e6985a"
      },
      "outputs": [
        {
          "data": {
            "text/plain": [
              "dict_keys(['cv', 'error_score', 'estimator__memory', 'estimator__steps', 'estimator__verbose', 'estimator__polynomialfeatures', 'estimator__minmaxscaler', 'estimator__ridge', 'estimator__polynomialfeatures__degree', 'estimator__polynomialfeatures__include_bias', 'estimator__polynomialfeatures__interaction_only', 'estimator__polynomialfeatures__order', 'estimator__minmaxscaler__clip', 'estimator__minmaxscaler__copy', 'estimator__minmaxscaler__feature_range', 'estimator__ridge__alpha', 'estimator__ridge__copy_X', 'estimator__ridge__fit_intercept', 'estimator__ridge__max_iter', 'estimator__ridge__normalize', 'estimator__ridge__positive', 'estimator__ridge__random_state', 'estimator__ridge__solver', 'estimator__ridge__tol', 'estimator', 'n_jobs', 'param_grid', 'pre_dispatch', 'refit', 'return_train_score', 'scoring', 'verbose'])"
            ]
          },
          "execution_count": 42,
          "metadata": {},
          "output_type": "execute_result"
        }
      ],
      "source": [
        "GridSearchCV(MyScalingAndPolyRidge(), []).get_params().keys()"
      ]
    },
    {
      "cell_type": "code",
      "execution_count": 43,
      "metadata": {
        "colab": {},
        "colab_type": "code",
        "id": "x5GG_665wejN"
      },
      "outputs": [],
      "source": [
        "parameters_to_test=[{'ridge__alpha':[0.1, 0.2, 0.5, 1, 5, 10, 50, \n",
        "                             1e6],\n",
        "                     'polynomialfeatures__degree':np.arange(1,6)\n",
        "                    }]\n",
        "grid = GridSearchCV(MyScalingAndPolyRidge(), parameters_to_test,\n",
        "                    cv=k_fold, scoring='neg_mean_squared_error'\n",
        "    )"
      ]
    },
    {
      "cell_type": "code",
      "execution_count": 44,
      "metadata": {
        "colab": {
          "base_uri": "https://localhost:8080/",
          "height": 35
        },
        "colab_type": "code",
        "id": "HZN3QLHNwejQ",
        "outputId": "c1956f64-49d0-4814-cea5-91e31ceb2fc0",
        "scrolled": true
      },
      "outputs": [
        {
          "name": "stdout",
          "output_type": "stream",
          "text": [
            "The best parameters are {'polynomialfeatures__degree': 1, 'ridge__alpha': 1}\n"
          ]
        }
      ],
      "source": [
        "grid.fit(X_train, y_train)\n",
        "print(\"The best parameters are\", grid.best_params_)"
      ]
    },
    {
      "cell_type": "markdown",
      "metadata": {
        "colab_type": "text",
        "id": "yKWCGJV3wejU"
      },
      "source": [
        "Let's validate on the test set"
      ]
    },
    {
      "cell_type": "code",
      "execution_count": 45,
      "metadata": {
        "colab": {
          "base_uri": "https://localhost:8080/",
          "height": 35
        },
        "colab_type": "code",
        "id": "cXcq0Hx2wejV",
        "outputId": "e11de004-1ae6-4c56-dd09-071cb3008d39"
      },
      "outputs": [
        {
          "data": {
            "text/plain": [
              "2.1230407209367157"
            ]
          },
          "execution_count": 45,
          "metadata": {},
          "output_type": "execute_result"
        }
      ],
      "source": [
        "model = grid.best_estimator_\n",
        "model.fit(X_train, y_train)\n",
        "y_pred = model.predict(X_test)\n",
        "RMSE_grid = sqrt(mean_squared_error(y_pred, y_test))\n",
        "\n",
        "RMSE_grid"
      ]
    },
    {
      "cell_type": "markdown",
      "metadata": {
        "colab_type": "text",
        "id": "XCTxYPXkwejY"
      },
      "source": [
        "# Recursive Feature Elimination"
      ]
    },
    {
      "cell_type": "markdown",
      "metadata": {
        "colab_type": "text",
        "id": "uDZhWiyEro-q"
      },
      "source": [
        "We now experiment with Recursive Feature Elimination with Linear Regression"
      ]
    },
    {
      "cell_type": "code",
      "execution_count": 46,
      "metadata": {
        "colab": {},
        "colab_type": "code",
        "id": "4XavjxAwwejZ"
      },
      "outputs": [],
      "source": [
        "def MyScaledLinearRegression():\n",
        "    return make_pipeline(\n",
        "        StandardScaler(),\n",
        "        LinearRegression()\n",
        "        )"
      ]
    },
    {
      "cell_type": "markdown",
      "metadata": {
        "colab_type": "text",
        "id": "w6hL3w6Mwejc"
      },
      "source": [
        "The following code will lead to a **known error**"
      ]
    },
    {
      "cell_type": "code",
      "execution_count": 47,
      "metadata": {
        "colab": {
          "base_uri": "https://localhost:8080/",
          "height": 374
        },
        "colab_type": "code",
        "id": "8G4lk6Kqwejc",
        "outputId": "47d43b35-8648-449f-b636-4afaf8943d55"
      },
      "outputs": [
        {
          "ename": "ValueError",
          "evalue": "when `importance_getter=='auto'`, the underlying estimator Pipeline should have `coef_` or `feature_importances_` attribute. Either pass a fitted estimator to feature selector or call fit before calling transform.",
          "output_type": "error",
          "traceback": [
            "\u001b[0;31m---------------------------------------------------------------------------\u001b[0m",
            "\u001b[0;31mValueError\u001b[0m                                Traceback (most recent call last)",
            "Cell \u001b[0;32mIn [47], line 4\u001b[0m\n\u001b[1;32m      1\u001b[0m \u001b[39m# The following code will lead to a known error\u001b[39;00m\n\u001b[1;32m      3\u001b[0m rfe \u001b[39m=\u001b[39m RFECV(MyScaledLinearRegression())\n\u001b[0;32m----> 4\u001b[0m rfe\u001b[39m.\u001b[39;49mfit(X_train, y_train)\n",
            "File \u001b[0;32m~/anaconda3/envs/Tensorflow/lib/python3.8/site-packages/sklearn/feature_selection/_rfe.py:723\u001b[0m, in \u001b[0;36mRFECV.fit\u001b[0;34m(self, X, y, groups)\u001b[0m\n\u001b[1;32m    720\u001b[0m     parallel \u001b[39m=\u001b[39m Parallel(n_jobs\u001b[39m=\u001b[39m\u001b[39mself\u001b[39m\u001b[39m.\u001b[39mn_jobs)\n\u001b[1;32m    721\u001b[0m     func \u001b[39m=\u001b[39m delayed(_rfe_single_fit)\n\u001b[0;32m--> 723\u001b[0m scores \u001b[39m=\u001b[39m parallel(\n\u001b[1;32m    724\u001b[0m     func(rfe, \u001b[39mself\u001b[39;49m\u001b[39m.\u001b[39;49mestimator, X, y, train, test, scorer)\n\u001b[1;32m    725\u001b[0m     \u001b[39mfor\u001b[39;49;00m train, test \u001b[39min\u001b[39;49;00m cv\u001b[39m.\u001b[39;49msplit(X, y, groups)\n\u001b[1;32m    726\u001b[0m )\n\u001b[1;32m    728\u001b[0m scores \u001b[39m=\u001b[39m np\u001b[39m.\u001b[39marray(scores)\n\u001b[1;32m    729\u001b[0m scores_sum \u001b[39m=\u001b[39m np\u001b[39m.\u001b[39msum(scores, axis\u001b[39m=\u001b[39m\u001b[39m0\u001b[39m)\n",
            "File \u001b[0;32m~/anaconda3/envs/Tensorflow/lib/python3.8/site-packages/sklearn/feature_selection/_rfe.py:724\u001b[0m, in \u001b[0;36m<genexpr>\u001b[0;34m(.0)\u001b[0m\n\u001b[1;32m    720\u001b[0m     parallel \u001b[39m=\u001b[39m Parallel(n_jobs\u001b[39m=\u001b[39m\u001b[39mself\u001b[39m\u001b[39m.\u001b[39mn_jobs)\n\u001b[1;32m    721\u001b[0m     func \u001b[39m=\u001b[39m delayed(_rfe_single_fit)\n\u001b[1;32m    723\u001b[0m scores \u001b[39m=\u001b[39m parallel(\n\u001b[0;32m--> 724\u001b[0m     func(rfe, \u001b[39mself\u001b[39;49m\u001b[39m.\u001b[39;49mestimator, X, y, train, test, scorer)\n\u001b[1;32m    725\u001b[0m     \u001b[39mfor\u001b[39;00m train, test \u001b[39min\u001b[39;00m cv\u001b[39m.\u001b[39msplit(X, y, groups)\n\u001b[1;32m    726\u001b[0m )\n\u001b[1;32m    728\u001b[0m scores \u001b[39m=\u001b[39m np\u001b[39m.\u001b[39marray(scores)\n\u001b[1;32m    729\u001b[0m scores_sum \u001b[39m=\u001b[39m np\u001b[39m.\u001b[39msum(scores, axis\u001b[39m=\u001b[39m\u001b[39m0\u001b[39m)\n",
            "File \u001b[0;32m~/anaconda3/envs/Tensorflow/lib/python3.8/site-packages/sklearn/feature_selection/_rfe.py:37\u001b[0m, in \u001b[0;36m_rfe_single_fit\u001b[0;34m(rfe, estimator, X, y, train, test, scorer)\u001b[0m\n\u001b[1;32m     35\u001b[0m X_train, y_train \u001b[39m=\u001b[39m _safe_split(estimator, X, y, train)\n\u001b[1;32m     36\u001b[0m X_test, y_test \u001b[39m=\u001b[39m _safe_split(estimator, X, y, test, train)\n\u001b[0;32m---> 37\u001b[0m \u001b[39mreturn\u001b[39;00m rfe\u001b[39m.\u001b[39;49m_fit(\n\u001b[1;32m     38\u001b[0m     X_train,\n\u001b[1;32m     39\u001b[0m     y_train,\n\u001b[1;32m     40\u001b[0m     \u001b[39mlambda\u001b[39;49;00m estimator, features: _score(\n\u001b[1;32m     41\u001b[0m         estimator, X_test[:, features], y_test, scorer\n\u001b[1;32m     42\u001b[0m     ),\n\u001b[1;32m     43\u001b[0m )\u001b[39m.\u001b[39mscores_\n",
            "File \u001b[0;32m~/anaconda3/envs/Tensorflow/lib/python3.8/site-packages/sklearn/feature_selection/_rfe.py:299\u001b[0m, in \u001b[0;36mRFE._fit\u001b[0;34m(self, X, y, step_score, **fit_params)\u001b[0m\n\u001b[1;32m    296\u001b[0m estimator\u001b[39m.\u001b[39mfit(X[:, features], y, \u001b[39m*\u001b[39m\u001b[39m*\u001b[39mfit_params)\n\u001b[1;32m    298\u001b[0m \u001b[39m# Get importance and rank them\u001b[39;00m\n\u001b[0;32m--> 299\u001b[0m importances \u001b[39m=\u001b[39m _get_feature_importances(\n\u001b[1;32m    300\u001b[0m     estimator,\n\u001b[1;32m    301\u001b[0m     \u001b[39mself\u001b[39;49m\u001b[39m.\u001b[39;49mimportance_getter,\n\u001b[1;32m    302\u001b[0m     transform_func\u001b[39m=\u001b[39;49m\u001b[39m\"\u001b[39;49m\u001b[39msquare\u001b[39;49m\u001b[39m\"\u001b[39;49m,\n\u001b[1;32m    303\u001b[0m )\n\u001b[1;32m    304\u001b[0m ranks \u001b[39m=\u001b[39m np\u001b[39m.\u001b[39margsort(importances)\n\u001b[1;32m    306\u001b[0m \u001b[39m# for sparse case ranks is matrix\u001b[39;00m\n",
            "File \u001b[0;32m~/anaconda3/envs/Tensorflow/lib/python3.8/site-packages/sklearn/feature_selection/_base.py:208\u001b[0m, in \u001b[0;36m_get_feature_importances\u001b[0;34m(estimator, getter, transform_func, norm_order)\u001b[0m\n\u001b[1;32m    206\u001b[0m         getter \u001b[39m=\u001b[39m attrgetter(\u001b[39m\"\u001b[39m\u001b[39mfeature_importances_\u001b[39m\u001b[39m\"\u001b[39m)\n\u001b[1;32m    207\u001b[0m     \u001b[39melse\u001b[39;00m:\n\u001b[0;32m--> 208\u001b[0m         \u001b[39mraise\u001b[39;00m \u001b[39mValueError\u001b[39;00m(\n\u001b[1;32m    209\u001b[0m             \u001b[39m\"\u001b[39m\u001b[39mwhen `importance_getter==\u001b[39m\u001b[39m'\u001b[39m\u001b[39mauto\u001b[39m\u001b[39m'\u001b[39m\u001b[39m`, the underlying \u001b[39m\u001b[39m\"\u001b[39m\n\u001b[1;32m    210\u001b[0m             \u001b[39mf\u001b[39m\u001b[39m\"\u001b[39m\u001b[39mestimator \u001b[39m\u001b[39m{\u001b[39;00mestimator\u001b[39m.\u001b[39m\u001b[39m__class__\u001b[39m\u001b[39m.\u001b[39m\u001b[39m__name__\u001b[39m\u001b[39m}\u001b[39;00m\u001b[39m should have \u001b[39m\u001b[39m\"\u001b[39m\n\u001b[1;32m    211\u001b[0m             \u001b[39m\"\u001b[39m\u001b[39m`coef_` or `feature_importances_` attribute. Either \u001b[39m\u001b[39m\"\u001b[39m\n\u001b[1;32m    212\u001b[0m             \u001b[39m\"\u001b[39m\u001b[39mpass a fitted estimator to feature selector or call fit \u001b[39m\u001b[39m\"\u001b[39m\n\u001b[1;32m    213\u001b[0m             \u001b[39m\"\u001b[39m\u001b[39mbefore calling transform.\u001b[39m\u001b[39m\"\u001b[39m\n\u001b[1;32m    214\u001b[0m         )\n\u001b[1;32m    215\u001b[0m \u001b[39melse\u001b[39;00m:\n\u001b[1;32m    216\u001b[0m     getter \u001b[39m=\u001b[39m attrgetter(getter)\n",
            "\u001b[0;31mValueError\u001b[0m: when `importance_getter=='auto'`, the underlying estimator Pipeline should have `coef_` or `feature_importances_` attribute. Either pass a fitted estimator to feature selector or call fit before calling transform."
          ]
        }
      ],
      "source": [
        "# The following code will lead to a known error\n",
        "\n",
        "rfe = RFECV(MyScaledLinearRegression())\n",
        "rfe.fit(X_train, y_train)"
      ]
    },
    {
      "cell_type": "markdown",
      "metadata": {
        "colab_type": "text",
        "id": "1w4Ba1dzwejh"
      },
      "source": [
        "We need to modify the `Pipeline` class (inspired by [this blog](https://ramhiser.com/post/2018-03-25-feature-selection-with-scikit-learn-pipeline/) and this [StackOverflow post](https://stackoverflow.com/q/36683230/2110769))"
      ]
    },
    {
      "cell_type": "code",
      "execution_count": 48,
      "metadata": {
        "colab": {},
        "colab_type": "code",
        "id": "cXvUvfUcweji"
      },
      "outputs": [],
      "source": [
        "class MyPipeline(Pipeline):\n",
        "\n",
        "    def fit(self, X, y=None, **fit_params):\n",
        "        super(MyPipeline, self).fit(X, y, **fit_params)\n",
        "        self.coef_ = self.steps[-1][-1].coef_\n",
        "        return self"
      ]
    },
    {
      "cell_type": "markdown",
      "metadata": {
        "colab_type": "text",
        "id": "bA1Ib8MFwejl"
      },
      "source": [
        "Let's try again"
      ]
    },
    {
      "cell_type": "code",
      "execution_count": 49,
      "metadata": {
        "colab": {
          "base_uri": "https://localhost:8080/",
          "height": 248
        },
        "colab_type": "code",
        "id": "ts8J8lPAwejm",
        "outputId": "4dbbd4a8-0fa6-4bed-b3b3-c05230c59d30"
      },
      "outputs": [
        {
          "data": {
            "text/html": [
              "<style>#sk-container-id-1 {color: black;background-color: white;}#sk-container-id-1 pre{padding: 0;}#sk-container-id-1 div.sk-toggleable {background-color: white;}#sk-container-id-1 label.sk-toggleable__label {cursor: pointer;display: block;width: 100%;margin-bottom: 0;padding: 0.3em;box-sizing: border-box;text-align: center;}#sk-container-id-1 label.sk-toggleable__label-arrow:before {content: \"▸\";float: left;margin-right: 0.25em;color: #696969;}#sk-container-id-1 label.sk-toggleable__label-arrow:hover:before {color: black;}#sk-container-id-1 div.sk-estimator:hover label.sk-toggleable__label-arrow:before {color: black;}#sk-container-id-1 div.sk-toggleable__content {max-height: 0;max-width: 0;overflow: hidden;text-align: left;background-color: #f0f8ff;}#sk-container-id-1 div.sk-toggleable__content pre {margin: 0.2em;color: black;border-radius: 0.25em;background-color: #f0f8ff;}#sk-container-id-1 input.sk-toggleable__control:checked~div.sk-toggleable__content {max-height: 200px;max-width: 100%;overflow: auto;}#sk-container-id-1 input.sk-toggleable__control:checked~label.sk-toggleable__label-arrow:before {content: \"▾\";}#sk-container-id-1 div.sk-estimator input.sk-toggleable__control:checked~label.sk-toggleable__label {background-color: #d4ebff;}#sk-container-id-1 div.sk-label input.sk-toggleable__control:checked~label.sk-toggleable__label {background-color: #d4ebff;}#sk-container-id-1 input.sk-hidden--visually {border: 0;clip: rect(1px 1px 1px 1px);clip: rect(1px, 1px, 1px, 1px);height: 1px;margin: -1px;overflow: hidden;padding: 0;position: absolute;width: 1px;}#sk-container-id-1 div.sk-estimator {font-family: monospace;background-color: #f0f8ff;border: 1px dotted black;border-radius: 0.25em;box-sizing: border-box;margin-bottom: 0.5em;}#sk-container-id-1 div.sk-estimator:hover {background-color: #d4ebff;}#sk-container-id-1 div.sk-parallel-item::after {content: \"\";width: 100%;border-bottom: 1px solid gray;flex-grow: 1;}#sk-container-id-1 div.sk-label:hover label.sk-toggleable__label {background-color: #d4ebff;}#sk-container-id-1 div.sk-serial::before {content: \"\";position: absolute;border-left: 1px solid gray;box-sizing: border-box;top: 0;bottom: 0;left: 50%;z-index: 0;}#sk-container-id-1 div.sk-serial {display: flex;flex-direction: column;align-items: center;background-color: white;padding-right: 0.2em;padding-left: 0.2em;position: relative;}#sk-container-id-1 div.sk-item {position: relative;z-index: 1;}#sk-container-id-1 div.sk-parallel {display: flex;align-items: stretch;justify-content: center;background-color: white;position: relative;}#sk-container-id-1 div.sk-item::before, #sk-container-id-1 div.sk-parallel-item::before {content: \"\";position: absolute;border-left: 1px solid gray;box-sizing: border-box;top: 0;bottom: 0;left: 50%;z-index: -1;}#sk-container-id-1 div.sk-parallel-item {display: flex;flex-direction: column;z-index: 1;position: relative;background-color: white;}#sk-container-id-1 div.sk-parallel-item:first-child::after {align-self: flex-end;width: 50%;}#sk-container-id-1 div.sk-parallel-item:last-child::after {align-self: flex-start;width: 50%;}#sk-container-id-1 div.sk-parallel-item:only-child::after {width: 0;}#sk-container-id-1 div.sk-dashed-wrapped {border: 1px dashed gray;margin: 0 0.4em 0.5em 0.4em;box-sizing: border-box;padding-bottom: 0.4em;background-color: white;}#sk-container-id-1 div.sk-label label {font-family: monospace;font-weight: bold;display: inline-block;line-height: 1.2em;}#sk-container-id-1 div.sk-label-container {text-align: center;}#sk-container-id-1 div.sk-container {/* jupyter's `normalize.less` sets `[hidden] { display: none; }` but bootstrap.min.css set `[hidden] { display: none !important; }` so we also need the `!important` here to be able to override the default hidden behavior on the sphinx rendered scikit-learn.org. See: https://github.com/scikit-learn/scikit-learn/issues/21755 */display: inline-block !important;position: relative;}#sk-container-id-1 div.sk-text-repr-fallback {display: none;}</style><div id=\"sk-container-id-1\" class=\"sk-top-container\"><div class=\"sk-text-repr-fallback\"><pre>RFECV(cv=KFold(n_splits=5, random_state=10, shuffle=True),\n",
              "      estimator=MyPipeline(steps=[(&#x27;my_nice_scaler&#x27;, StandardScaler()),\n",
              "                                  (&#x27;my_beautiful_regression&#x27;,\n",
              "                                   LinearRegression())]),\n",
              "      scoring=&#x27;neg_mean_squared_error&#x27;)</pre><b>In a Jupyter environment, please rerun this cell to show the HTML representation or trust the notebook. <br />On GitHub, the HTML representation is unable to render, please try loading this page with nbviewer.org.</b></div><div class=\"sk-container\" hidden><div class=\"sk-item sk-dashed-wrapped\"><div class=\"sk-label-container\"><div class=\"sk-label sk-toggleable\"><input class=\"sk-toggleable__control sk-hidden--visually\" id=\"sk-estimator-id-1\" type=\"checkbox\" ><label for=\"sk-estimator-id-1\" class=\"sk-toggleable__label sk-toggleable__label-arrow\">RFECV</label><div class=\"sk-toggleable__content\"><pre>RFECV(cv=KFold(n_splits=5, random_state=10, shuffle=True),\n",
              "      estimator=MyPipeline(steps=[(&#x27;my_nice_scaler&#x27;, StandardScaler()),\n",
              "                                  (&#x27;my_beautiful_regression&#x27;,\n",
              "                                   LinearRegression())]),\n",
              "      scoring=&#x27;neg_mean_squared_error&#x27;)</pre></div></div></div><div class=\"sk-parallel\"><div class=\"sk-parallel-item\"><div class=\"sk-item\"><div class=\"sk-label-container\"><div class=\"sk-label sk-toggleable\"><input class=\"sk-toggleable__control sk-hidden--visually\" id=\"sk-estimator-id-2\" type=\"checkbox\" ><label for=\"sk-estimator-id-2\" class=\"sk-toggleable__label sk-toggleable__label-arrow\">estimator: MyPipeline</label><div class=\"sk-toggleable__content\"><pre>MyPipeline(steps=[(&#x27;my_nice_scaler&#x27;, StandardScaler()),\n",
              "                  (&#x27;my_beautiful_regression&#x27;, LinearRegression())])</pre></div></div></div><div class=\"sk-serial\"><div class=\"sk-item\"><div class=\"sk-serial\"><div class=\"sk-item\"><div class=\"sk-estimator sk-toggleable\"><input class=\"sk-toggleable__control sk-hidden--visually\" id=\"sk-estimator-id-3\" type=\"checkbox\" ><label for=\"sk-estimator-id-3\" class=\"sk-toggleable__label sk-toggleable__label-arrow\">StandardScaler</label><div class=\"sk-toggleable__content\"><pre>StandardScaler()</pre></div></div></div><div class=\"sk-item\"><div class=\"sk-estimator sk-toggleable\"><input class=\"sk-toggleable__control sk-hidden--visually\" id=\"sk-estimator-id-4\" type=\"checkbox\" ><label for=\"sk-estimator-id-4\" class=\"sk-toggleable__label sk-toggleable__label-arrow\">LinearRegression</label><div class=\"sk-toggleable__content\"><pre>LinearRegression()</pre></div></div></div></div></div></div></div></div></div></div></div></div>"
            ],
            "text/plain": [
              "RFECV(cv=KFold(n_splits=5, random_state=10, shuffle=True),\n",
              "      estimator=MyPipeline(steps=[('my_nice_scaler', StandardScaler()),\n",
              "                                  ('my_beautiful_regression',\n",
              "                                   LinearRegression())]),\n",
              "      scoring='neg_mean_squared_error')"
            ]
          },
          "execution_count": 49,
          "metadata": {},
          "output_type": "execute_result"
        }
      ],
      "source": [
        "def MyScaledLinearRegression():\n",
        "    return MyPipeline(\n",
        "        [ \n",
        "            ('my_nice_scaler',StandardScaler() ), \n",
        "            ('my_beautiful_regression', LinearRegression() )\n",
        "        ]\n",
        "    )\n",
        "\n",
        "rfe = RFECV(MyScaledLinearRegression(), cv=k_fold, \n",
        "            scoring='neg_mean_squared_error')\n",
        "rfe.fit(X_train, y_train)"
      ]
    },
    {
      "cell_type": "markdown",
      "metadata": {
        "colab_type": "text",
        "id": "tmsnvk45wejp"
      },
      "source": [
        "Let's check how the cross-validated error changed with the num of features"
      ]
    },
    {
      "cell_type": "code",
      "execution_count": 50,
      "metadata": {
        "colab": {
          "base_uri": "https://localhost:8080/",
          "height": 35
        },
        "colab_type": "code",
        "id": "Nrb5aC6Jwejp",
        "outputId": "c2d03cfc-0de8-4df0-e5c0-faae8403f087"
      },
      "outputs": [
        {
          "name": "stderr",
          "output_type": "stream",
          "text": [
            "/home/aung/anaconda3/envs/Tensorflow/lib/python3.8/site-packages/sklearn/utils/deprecation.py:103: FutureWarning: The `grid_scores_` attribute is deprecated in version 1.0 in favor of `cv_results_` and will be removed in version 1.2.\n",
            "  warnings.warn(msg, category=FutureWarning)\n"
          ]
        },
        {
          "data": {
            "text/plain": [
              "array([[3.58979187, 1.52215781, 2.85707772, 1.49733009, 3.12317536],\n",
              "       [4.15669923, 1.83212377, 2.68550812, 1.45802374, 3.25148639],\n",
              "       [4.17578144, 2.45531552, 2.73615919, 1.48070552, 3.28360494],\n",
              "       [4.1840351 , 2.66045989, 2.77515232, 1.50719225, 3.29143878],\n",
              "       [4.1840351 , 2.66474817, 2.7740062 , 1.50638706, 3.29252461]])"
            ]
          },
          "execution_count": 50,
          "metadata": {},
          "output_type": "execute_result"
        }
      ],
      "source": [
        "RMSE_values = np.sqrt(- rfe.grid_scores_)\n",
        "RMSE_values"
      ]
    },
    {
      "cell_type": "markdown",
      "metadata": {
        "colab_type": "text",
        "id": "n3xnsjUVsCva"
      },
      "source": [
        "Let's plot the cross-validation error vs. number of features"
      ]
    },
    {
      "cell_type": "code",
      "execution_count": 51,
      "metadata": {
        "colab": {
          "base_uri": "https://localhost:8080/",
          "height": 297
        },
        "colab_type": "code",
        "id": "1HswEev_wejs",
        "outputId": "2e85d453-7a81-4be2-f912-1f8b1c10869d"
      },
      "outputs": [
        {
          "data": {
            "text/plain": [
              "[Text(0, 0.5, 'Cross-Val RMSE'), Text(0.5, 0, 'Num of features')]"
            ]
          },
          "execution_count": 51,
          "metadata": {},
          "output_type": "execute_result"
        },
        {
          "data": {
            "image/png": "[encoded data removed]",
            "text/plain": [
              "<Figure size 640x480 with 1 Axes>"
            ]
          },
          "metadata": {},
          "output_type": "display_data"
        }
      ],
      "source": [
        "num_of_features = np.arange(1,len(features)+1)\n",
        "\n",
        "fig, ax = plt.subplots()\n",
        "ax.plot(num_of_features, RMSE_values)\n",
        "ax.set(xlabel=\"Num of features\", ylabel=\"Cross-Val RMSE\")"
      ]
    },
    {
      "cell_type": "markdown",
      "metadata": {
        "colab_type": "text",
        "id": "6XKc5PdXwejw"
      },
      "source": [
        "One feature only seems to give the best model. What is such feature?"
      ]
    },
    {
      "cell_type": "code",
      "execution_count": 52,
      "metadata": {
        "colab": {
          "base_uri": "https://localhost:8080/",
          "height": 35
        },
        "colab_type": "code",
        "id": "YGpCsZbEwejx",
        "outputId": "28d23332-56fd-43f9-ad2a-e1d643f9b88e"
      },
      "outputs": [
        {
          "data": {
            "text/plain": [
              "array(['PacketsReceived'], dtype='<U18')"
            ]
          },
          "execution_count": 52,
          "metadata": {},
          "output_type": "execute_result"
        }
      ],
      "source": [
        "all_features_array = np.array(features)\n",
        "selected_features = all_features_array[rfe.support_]\n",
        "selected_features"
      ]
    },
    {
      "cell_type": "markdown",
      "metadata": {
        "colab_type": "text",
        "id": "0NvIUiTmwej0"
      },
      "source": [
        "Let's test the selected model"
      ]
    },
    {
      "cell_type": "code",
      "execution_count": 53,
      "metadata": {
        "colab": {
          "base_uri": "https://localhost:8080/",
          "height": 70
        },
        "colab_type": "code",
        "id": "YH0g2MyZwej1",
        "outputId": "9add45a9-9188-475c-8059-27086ca574e0"
      },
      "outputs": [
        {
          "name": "stdout",
          "output_type": "stream",
          "text": [
            "RMSE_feat_elimin: 2.1444712038430045 \n",
            "RMSE with scaling, poly degree 2 and alpha=10:  2.0676087427733334 \n",
            "RMSE_lin: 2.148766515019232\n"
          ]
        }
      ],
      "source": [
        "y_pred = rfe.predict(X_test)\n",
        "RMSE_feat_elimin = sqrt(mean_squared_error(y_pred, y_test))\n",
        "print('RMSE_feat_elimin:', RMSE_feat_elimin, \n",
        "      '\\nRMSE with scaling, poly degree 2 and alpha=10: ', \n",
        "      RMSE_scaling_and_poly_and_ridge,\n",
        "     '\\nRMSE_lin:', RMSE_lin)"
      ]
    },
    {
      "cell_type": "markdown",
      "metadata": {
        "colab_type": "text",
        "id": "_Miz_Qkqwej5"
      },
      "source": [
        "This model is better than the linear regression where we had all the features. \n",
        "\n",
        "However, the model with scaling, degree 2 and alpha=10 is the best.\n",
        "\n",
        "Some idea to improve even more the model?"
      ]
    },
    {
      "cell_type": "markdown",
      "metadata": {
        "colab_type": "text",
        "id": "uOt6y1wfwej6"
      },
      "source": [
        "<details>\n",
        "<summary>...\n",
        "    \n",
        "__Click__\n",
        "</summary>\n",
        "\n",
        "* Find the best polynomial + normalization model based only on these two features. Or\n",
        "* Use RFECV on the polynomial model to select a subset of transformed features. Or\n",
        "* \n",
        "</details>"
      ]
    },
    {
      "cell_type": "code",
      "execution_count": null,
      "metadata": {
        "colab": {},
        "colab_type": "code",
        "id": "DJIwEszZwej7"
      },
      "outputs": [],
      "source": []
    }
  ],
  "metadata": {
    "colab": {
      "name": "b.regularization.ipynb",
      "provenance": []
    },
    "kernelspec": {
      "display_name": "Python 3.8.13 ('Tensorflow')",
      "language": "python",
      "name": "python3"
    },
    "language_info": {
      "codemirror_mode": {
        "name": "ipython",
        "version": 3
      },
      "file_extension": ".py",
      "mimetype": "text/x-python",
      "name": "python",
      "nbconvert_exporter": "python",
      "pygments_lexer": "ipython3",
      "version": "3.8.13"
    },
    "vscode": {
      "interpreter": {
        "hash": "832757d2f30ebe0b6d76928c0ee4d6b04acdabf7247de32d62c99207dac792ce"
      }
    }
  },
  "nbformat": 4,
  "nbformat_minor": 0
}
