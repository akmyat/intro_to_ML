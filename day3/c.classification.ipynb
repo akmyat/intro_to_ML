{
  "cells": [
    {
      "cell_type": "markdown",
      "metadata": {
        "id": "-Vr-wBr92C5M"
      },
      "source": [
        "[![Open In Colab](https://colab.research.google.com/assets/colab-badge.svg)](https://colab.research.google.com/github/andreaaraldo/machine-learning-for-networks/blob/master/03.regression_contd-and-classification/c.classification.ipynb)"
      ]
    },
    {
      "cell_type": "code",
      "execution_count": 2,
      "metadata": {
        "colab": {
          "base_uri": "https://localhost:8080/",
          "height": 506
        },
        "id": "Tfn4oGZi2C5R",
        "outputId": "5aa8dd52-a1ef-467e-fd49-a63d6ac2717d"
      },
      "outputs": [
        {
          "name": "stdout",
          "output_type": "stream",
          "text": [
            "--2022-10-17 09:28:03--  https://raw.githubusercontent.com/andreaaraldo/machine-learning-for-networks/master/course_library/visualization.py\n",
            "Resolving raw.githubusercontent.com (raw.githubusercontent.com)... 185.199.111.133, 185.199.108.133, 185.199.109.133, ...\n",
            "Connecting to raw.githubusercontent.com (raw.githubusercontent.com)|185.199.111.133|:443... connected.\n",
            "HTTP request sent, awaiting response... 200 OK\n",
            "Length: 13008 (13K) [text/plain]\n",
            "Saving to: ‘visualization.py.1’\n",
            "\n",
            "visualization.py.1  100%[===================>]  12.70K  --.-KB/s    in 0.01s   \n",
            "\n",
            "2022-10-17 09:28:04 (1.09 MB/s) - ‘visualization.py.1’ saved [13008/13008]\n",
            "\n"
          ]
        }
      ],
      "source": [
        "import pandas as pd\n",
        "import numpy as np\n",
        "from sklearn.model_selection import train_test_split\n",
        "from sklearn.linear_model import LogisticRegression\n",
        "\n",
        "# !pip install regressors\n",
        "from regressors import stats # To print information about \n",
        "                            # regression.\n",
        "        \n",
        "from sklearn.pipeline import make_pipeline\n",
        "        \n",
        "from sklearn.metrics import accuracy_score, classification_report\n",
        "from sklearn.model_selection import GridSearchCV, KFold\n",
        "\n",
        "import matplotlib.pyplot as plt\n",
        "%matplotlib inline\n",
        "\n",
        "from sklearn.preprocessing import StandardScaler\n",
        "\n",
        "\n",
        "# May not work in the old versions of scikit-learn\n",
        "from sklearn.metrics import plot_confusion_matrix  \n",
        "\n",
        "from imblearn.over_sampling import SMOTE\n",
        "\n",
        "# We import a function I prepared for you in the course library\n",
        "! wget https://raw.githubusercontent.com/andreaaraldo/machine-learning-for-networks/master/course_library/visualization.py\n",
        "from visualization import plot_conf_mat"
      ]
    },
    {
      "cell_type": "code",
      "execution_count": 3,
      "metadata": {
        "id": "6Yh2SEcE3L0i"
      },
      "outputs": [],
      "source": [
        "savefigures=False"
      ]
    },
    {
      "cell_type": "markdown",
      "metadata": {
        "id": "6V2i7HKP246b"
      },
      "source": [
        "Download the dataset from my github"
      ]
    },
    {
      "cell_type": "code",
      "execution_count": 4,
      "metadata": {
        "colab": {
          "base_uri": "https://localhost:8080/",
          "height": 228
        },
        "id": "I_bYiNxp2C5j",
        "outputId": "1d286f61-1f3a-4c0a-8b47-3e486dc0891a"
      },
      "outputs": [
        {
          "name": "stdout",
          "output_type": "stream",
          "text": [
            "--2022-10-17 09:28:11--  https://raw.githubusercontent.com/andreaaraldo/machine-learning-for-networks/master/processed_datasets/requet/df.A_2.csv\n",
            "Resolving raw.githubusercontent.com (raw.githubusercontent.com)... 185.199.110.133, 185.199.109.133, 185.199.108.133, ...\n",
            "Connecting to raw.githubusercontent.com (raw.githubusercontent.com)|185.199.110.133|:443... connected.\n",
            "HTTP request sent, awaiting response... 200 OK\n",
            "Length: 315832 (308K) [text/plain]\n",
            "Saving to: ‘df.A_2.csv’\n",
            "\n",
            "df.A_2.csv          100%[===================>] 308.43K  1.13MB/s    in 0.3s    \n",
            "\n",
            "2022-10-17 09:28:11 (1.13 MB/s) - ‘df.A_2.csv’ saved [315832/315832]\n",
            "\n"
          ]
        }
      ],
      "source": [
        "dataset_to_use = 'A'\n",
        "mydatasets_folder = \"https://raw.githubusercontent.com/andreaaraldo/machine-learning-for-networks/master/processed_datasets/requet/\"\n",
        "filename = \"df.\"+ dataset_to_use+\"_2.csv\"\n",
        "complete_name = mydatasets_folder+filename\n",
        "!wget $complete_name\n"
      ]
    },
    {
      "cell_type": "code",
      "execution_count": 6,
      "metadata": {
        "id": "LfNTDaVS2xjG"
      },
      "outputs": [],
      "source": [
        "df = pd.read_csv(filename)"
      ]
    },
    {
      "cell_type": "code",
      "execution_count": 7,
      "metadata": {
        "colab": {
          "base_uri": "https://localhost:8080/",
          "height": 52
        },
        "id": "d9RI7qSw2C5s",
        "outputId": "a4b73879-6f5d-4006-f06c-f1bb50527c76",
        "scrolled": true
      },
      "outputs": [
        {
          "name": "stdout",
          "output_type": "stream",
          "text": [
            "The resolutions found in our dataset are\n"
          ]
        },
        {
          "data": {
            "text/plain": [
              "{144, 240, 360, 480, 720, 1080}"
            ]
          },
          "execution_count": 7,
          "metadata": {},
          "output_type": "execute_result"
        }
      ],
      "source": [
        "print(\"The resolutions found in our dataset are\")\n",
        "set(df['label_num'].values)"
      ]
    },
    {
      "cell_type": "markdown",
      "metadata": {
        "id": "3JFz9NcU2C52"
      },
      "source": [
        "How many samples in each class?"
      ]
    },
    {
      "cell_type": "code",
      "execution_count": 8,
      "metadata": {
        "colab": {
          "base_uri": "https://localhost:8080/",
          "height": 139
        },
        "id": "tIqNr-kk2C55",
        "outputId": "05d53010-552f-4dba-e207-6bfb55e94cb4"
      },
      "outputs": [
        {
          "data": {
            "text/plain": [
              "720     92\n",
              "480     63\n",
              "1080    55\n",
              "360     33\n",
              "144     27\n",
              "240     22\n",
              "Name: label_num, dtype: int64"
            ]
          },
          "execution_count": 8,
          "metadata": {},
          "output_type": "execute_result"
        }
      ],
      "source": [
        "df['label_num'].value_counts()"
      ]
    },
    {
      "cell_type": "markdown",
      "metadata": {
        "id": "D490rkaIMZlq"
      },
      "source": [
        "# Binary classification with Logistic Regression"
      ]
    },
    {
      "cell_type": "markdown",
      "metadata": {
        "id": "Qx2SQZOt2C6C"
      },
      "source": [
        "We want to infer whether the resolution of the transmitted video is low (<=240) or high (>=360)"
      ]
    },
    {
      "cell_type": "code",
      "execution_count": 9,
      "metadata": {
        "colab": {
          "base_uri": "https://localhost:8080/",
          "height": 121
        },
        "id": "5oJj_qhX2C6E",
        "outputId": "81a73142-c041-4cad-a51e-5bc125d94534"
      },
      "outputs": [
        {
          "data": {
            "text/plain": [
              "0    False\n",
              "1    False\n",
              "2     True\n",
              "3    False\n",
              "4    False\n",
              "Name: label_num, dtype: bool"
            ]
          },
          "execution_count": 9,
          "metadata": {},
          "output_type": "execute_result"
        }
      ],
      "source": [
        "high_res = df['label_num']>=720\n",
        "high_res.head()"
      ]
    },
    {
      "cell_type": "markdown",
      "metadata": {
        "id": "vfQ4r0ya2C6M"
      },
      "source": [
        "Convert into `int`"
      ]
    },
    {
      "cell_type": "code",
      "execution_count": 10,
      "metadata": {
        "colab": {
          "base_uri": "https://localhost:8080/",
          "height": 121
        },
        "id": "5NgalOJf2C6O",
        "outputId": "c488332d-6d44-48c4-f725-52931cbfd7c5",
        "scrolled": false
      },
      "outputs": [
        {
          "name": "stderr",
          "output_type": "stream",
          "text": [
            "/tmp/ipykernel_31933/1614588785.py:1: DeprecationWarning: `np.int` is a deprecated alias for the builtin `int`. To silence this warning, use `int` by itself. Doing this will not modify any behavior and is safe. When replacing `np.int`, you may wish to use e.g. `np.int64` or `np.int32` to specify the precision. If you wish to review your current use, check the release note link for additional information.\n",
            "Deprecated in NumPy 1.20; for more details and guidance: https://numpy.org/devdocs/release/1.20.0-notes.html#deprecations\n",
            "  high_res = high_res.astype(np.int)\n"
          ]
        },
        {
          "data": {
            "text/plain": [
              "0    0\n",
              "1    0\n",
              "2    1\n",
              "3    0\n",
              "4    0\n",
              "Name: label_num, dtype: int64"
            ]
          },
          "execution_count": 10,
          "metadata": {},
          "output_type": "execute_result"
        }
      ],
      "source": [
        "high_res = high_res.astype(np.int)\n",
        "high_res.head()"
      ]
    },
    {
      "cell_type": "markdown",
      "metadata": {
        "id": "PCpiiFDP2C6V"
      },
      "source": [
        "Let's add it to the dataframe"
      ]
    },
    {
      "cell_type": "code",
      "execution_count": 11,
      "metadata": {
        "id": "yt_uS4ZX2C6Y"
      },
      "outputs": [],
      "source": [
        "df['high_res'] = high_res"
      ]
    },
    {
      "cell_type": "code",
      "execution_count": 12,
      "metadata": {
        "id": "-pV73WJR2C6i"
      },
      "outputs": [],
      "source": [
        "df_train,df_test = train_test_split(df, test_size=0.2, random_state=1)\n",
        "\n",
        "columns = ['BytesReceived0', 'PacketsSent0']\n",
        "\n",
        "X_train = df_train[columns]\n",
        "X_test = df_test[columns]\n",
        "y_train = df_train['high_res']\n",
        "y_test = df_test['high_res']"
      ]
    },
    {
      "cell_type": "markdown",
      "metadata": {
        "id": "5SA5mcPo2C6n"
      },
      "source": [
        "Logistic regression adds by default a regularization with weight `C`.\n",
        "Let's try with no regularization first "
      ]
    },
    {
      "cell_type": "code",
      "execution_count": 13,
      "metadata": {
        "colab": {
          "base_uri": "https://localhost:8080/",
          "height": 104
        },
        "id": "pJesnyet2C6q",
        "outputId": "79baf5e2-1ede-466e-8465-5154f764e40b"
      },
      "outputs": [
        {
          "data": {
            "text/html": [
              "<style>#sk-container-id-1 {color: black;background-color: white;}#sk-container-id-1 pre{padding: 0;}#sk-container-id-1 div.sk-toggleable {background-color: white;}#sk-container-id-1 label.sk-toggleable__label {cursor: pointer;display: block;width: 100%;margin-bottom: 0;padding: 0.3em;box-sizing: border-box;text-align: center;}#sk-container-id-1 label.sk-toggleable__label-arrow:before {content: \"▸\";float: left;margin-right: 0.25em;color: #696969;}#sk-container-id-1 label.sk-toggleable__label-arrow:hover:before {color: black;}#sk-container-id-1 div.sk-estimator:hover label.sk-toggleable__label-arrow:before {color: black;}#sk-container-id-1 div.sk-toggleable__content {max-height: 0;max-width: 0;overflow: hidden;text-align: left;background-color: #f0f8ff;}#sk-container-id-1 div.sk-toggleable__content pre {margin: 0.2em;color: black;border-radius: 0.25em;background-color: #f0f8ff;}#sk-container-id-1 input.sk-toggleable__control:checked~div.sk-toggleable__content {max-height: 200px;max-width: 100%;overflow: auto;}#sk-container-id-1 input.sk-toggleable__control:checked~label.sk-toggleable__label-arrow:before {content: \"▾\";}#sk-container-id-1 div.sk-estimator input.sk-toggleable__control:checked~label.sk-toggleable__label {background-color: #d4ebff;}#sk-container-id-1 div.sk-label input.sk-toggleable__control:checked~label.sk-toggleable__label {background-color: #d4ebff;}#sk-container-id-1 input.sk-hidden--visually {border: 0;clip: rect(1px 1px 1px 1px);clip: rect(1px, 1px, 1px, 1px);height: 1px;margin: -1px;overflow: hidden;padding: 0;position: absolute;width: 1px;}#sk-container-id-1 div.sk-estimator {font-family: monospace;background-color: #f0f8ff;border: 1px dotted black;border-radius: 0.25em;box-sizing: border-box;margin-bottom: 0.5em;}#sk-container-id-1 div.sk-estimator:hover {background-color: #d4ebff;}#sk-container-id-1 div.sk-parallel-item::after {content: \"\";width: 100%;border-bottom: 1px solid gray;flex-grow: 1;}#sk-container-id-1 div.sk-label:hover label.sk-toggleable__label {background-color: #d4ebff;}#sk-container-id-1 div.sk-serial::before {content: \"\";position: absolute;border-left: 1px solid gray;box-sizing: border-box;top: 0;bottom: 0;left: 50%;z-index: 0;}#sk-container-id-1 div.sk-serial {display: flex;flex-direction: column;align-items: center;background-color: white;padding-right: 0.2em;padding-left: 0.2em;position: relative;}#sk-container-id-1 div.sk-item {position: relative;z-index: 1;}#sk-container-id-1 div.sk-parallel {display: flex;align-items: stretch;justify-content: center;background-color: white;position: relative;}#sk-container-id-1 div.sk-item::before, #sk-container-id-1 div.sk-parallel-item::before {content: \"\";position: absolute;border-left: 1px solid gray;box-sizing: border-box;top: 0;bottom: 0;left: 50%;z-index: -1;}#sk-container-id-1 div.sk-parallel-item {display: flex;flex-direction: column;z-index: 1;position: relative;background-color: white;}#sk-container-id-1 div.sk-parallel-item:first-child::after {align-self: flex-end;width: 50%;}#sk-container-id-1 div.sk-parallel-item:last-child::after {align-self: flex-start;width: 50%;}#sk-container-id-1 div.sk-parallel-item:only-child::after {width: 0;}#sk-container-id-1 div.sk-dashed-wrapped {border: 1px dashed gray;margin: 0 0.4em 0.5em 0.4em;box-sizing: border-box;padding-bottom: 0.4em;background-color: white;}#sk-container-id-1 div.sk-label label {font-family: monospace;font-weight: bold;display: inline-block;line-height: 1.2em;}#sk-container-id-1 div.sk-label-container {text-align: center;}#sk-container-id-1 div.sk-container {/* jupyter's `normalize.less` sets `[hidden] { display: none; }` but bootstrap.min.css set `[hidden] { display: none !important; }` so we also need the `!important` here to be able to override the default hidden behavior on the sphinx rendered scikit-learn.org. See: https://github.com/scikit-learn/scikit-learn/issues/21755 */display: inline-block !important;position: relative;}#sk-container-id-1 div.sk-text-repr-fallback {display: none;}</style><div id=\"sk-container-id-1\" class=\"sk-top-container\"><div class=\"sk-text-repr-fallback\"><pre>LogisticRegression(C=1e-09)</pre><b>In a Jupyter environment, please rerun this cell to show the HTML representation or trust the notebook. <br />On GitHub, the HTML representation is unable to render, please try loading this page with nbviewer.org.</b></div><div class=\"sk-container\" hidden><div class=\"sk-item\"><div class=\"sk-estimator sk-toggleable\"><input class=\"sk-toggleable__control sk-hidden--visually\" id=\"sk-estimator-id-1\" type=\"checkbox\" checked><label for=\"sk-estimator-id-1\" class=\"sk-toggleable__label sk-toggleable__label-arrow\">LogisticRegression</label><div class=\"sk-toggleable__content\"><pre>LogisticRegression(C=1e-09)</pre></div></div></div></div></div>"
            ],
            "text/plain": [
              "LogisticRegression(C=1e-09)"
            ]
          },
          "execution_count": 13,
          "metadata": {},
          "output_type": "execute_result"
        }
      ],
      "source": [
        "# We cannot directly write `C=0`, as the library wants `C`>0, so we just provide a very small `C`\n",
        "\n",
        "model = LogisticRegression(C=1e-9)\n",
        "model.fit(X_train, y_train)"
      ]
    },
    {
      "cell_type": "code",
      "execution_count": 14,
      "metadata": {
        "colab": {
          "base_uri": "https://localhost:8080/",
          "height": 1000
        },
        "id": "BKLNhQs22C6y",
        "outputId": "8ad2d0a9-4087-4a41-9cfa-066e6908fdde",
        "scrolled": true
      },
      "outputs": [
        {
          "data": {
            "text/plain": [
              "array([[0.42748436, 0.57251564],\n",
              "       [0.45211939, 0.54788061],\n",
              "       [0.40498133, 0.59501867],\n",
              "       [0.42705787, 0.57294213],\n",
              "       [0.46802996, 0.53197004],\n",
              "       [0.5       , 0.5       ],\n",
              "       [0.45635394, 0.54364606],\n",
              "       [0.43421147, 0.56578853],\n",
              "       [0.44159467, 0.55840533],\n",
              "       [0.49573093, 0.50426907],\n",
              "       [0.44854129, 0.55145871],\n",
              "       [0.5       , 0.5       ],\n",
              "       [0.5       , 0.5       ],\n",
              "       [0.44266093, 0.55733907],\n",
              "       [0.48292983, 0.51707017],\n",
              "       [0.48932869, 0.51067131],\n",
              "       [0.39792715, 0.60207285],\n",
              "       [0.47973237, 0.52026763],\n",
              "       [0.45211892, 0.54788108],\n",
              "       [0.5       , 0.5       ],\n",
              "       [0.43329908, 0.56670092],\n",
              "       [0.47760179, 0.52239821],\n",
              "       [0.47653727, 0.52346273],\n",
              "       [0.46802549, 0.53197451],\n",
              "       [0.40716638, 0.59283362],\n",
              "       [0.48719528, 0.51280472],\n",
              "       [0.5       , 0.5       ],\n",
              "       [0.42167345, 0.57832655],\n",
              "       [0.5       , 0.5       ],\n",
              "       [0.42370421, 0.57629579],\n",
              "       [0.46377526, 0.53622474],\n",
              "       [0.47760226, 0.52239774],\n",
              "       [0.5       , 0.5       ],\n",
              "       [0.46271555, 0.53728445],\n",
              "       [0.48506258, 0.51493742],\n",
              "       [0.47276603, 0.52723397],\n",
              "       [0.36668748, 0.63331252],\n",
              "       [0.49146225, 0.50853775],\n",
              "       [0.48612857, 0.51387143],\n",
              "       [0.48186474, 0.51813526],\n",
              "       [0.43106755, 0.56893245],\n",
              "       [0.36545462, 0.63454538],\n",
              "       [0.45184838, 0.54815162],\n",
              "       [0.42540337, 0.57459663],\n",
              "       [0.5       , 0.5       ],\n",
              "       [0.45517124, 0.54482876],\n",
              "       [0.46377538, 0.53622462],\n",
              "       [0.5       , 0.5       ],\n",
              "       [0.47015156, 0.52984844],\n",
              "       [0.46320049, 0.53679951],\n",
              "       [0.49252945, 0.50747055],\n",
              "       [0.43355826, 0.56644174],\n",
              "       [0.40984533, 0.59015467],\n",
              "       [0.43002091, 0.56997909],\n",
              "       [0.47760249, 0.52239751],\n",
              "       [0.4457841 , 0.5542159 ],\n",
              "       [0.46271496, 0.53728504],\n",
              "       [0.42064143, 0.57935857],\n",
              "       [0.48506199, 0.51493801]])"
            ]
          },
          "execution_count": 14,
          "metadata": {},
          "output_type": "execute_result"
        }
      ],
      "source": [
        "y_pred_proba = model.predict_proba(X_test)\n",
        "y_pred_proba"
      ]
    },
    {
      "cell_type": "markdown",
      "metadata": {
        "id": "q1ir_4S12C64"
      },
      "source": [
        "`y_pred_proba` has two values:\n",
        "* $\\mathbb{P}(\\mathbf{x}\\notin \\text{class }1)$\n",
        "* $\\mathbb{P}(\\mathbf{x}\\in \\text{class }1)$\n",
        "\n",
        "They sum up to 1."
      ]
    },
    {
      "cell_type": "markdown",
      "metadata": {
        "id": "M8y8EqW82C67"
      },
      "source": [
        "The actual prediction is"
      ]
    },
    {
      "cell_type": "code",
      "execution_count": 15,
      "metadata": {
        "colab": {
          "base_uri": "https://localhost:8080/",
          "height": 69
        },
        "id": "93X7Xkr72C69",
        "outputId": "6cdf77ff-0534-480b-8dd4-d7f037923b42",
        "scrolled": false
      },
      "outputs": [
        {
          "data": {
            "text/plain": [
              "array([1, 1, 1, 1, 1, 0, 1, 1, 1, 1, 1, 0, 0, 1, 1, 1, 1, 1, 1, 0, 1, 1,\n",
              "       1, 1, 1, 1, 0, 1, 0, 1, 1, 1, 0, 1, 1, 1, 1, 1, 1, 1, 1, 1, 1, 1,\n",
              "       0, 1, 1, 0, 1, 1, 1, 1, 1, 1, 1, 1, 1, 1, 1])"
            ]
          },
          "execution_count": 15,
          "metadata": {},
          "output_type": "execute_result"
        }
      ],
      "source": [
        "y_pred = model.predict(X_test)\n",
        "y_pred"
      ]
    },
    {
      "cell_type": "markdown",
      "metadata": {
        "id": "y5NX6hfT2C7D"
      },
      "source": [
        "Let's have a look at the predictions vs. the true value"
      ]
    },
    {
      "cell_type": "code",
      "execution_count": 16,
      "metadata": {
        "colab": {
          "base_uri": "https://localhost:8080/",
          "height": 1000
        },
        "id": "AcaM3Ide2C7F",
        "outputId": "0637fb64-91e5-4c43-a950-680f38d32748",
        "scrolled": true
      },
      "outputs": [
        {
          "data": {
            "text/html": [
              "<div>\n",
              "<style scoped>\n",
              "    .dataframe tbody tr th:only-of-type {\n",
              "        vertical-align: middle;\n",
              "    }\n",
              "\n",
              "    .dataframe tbody tr th {\n",
              "        vertical-align: top;\n",
              "    }\n",
              "\n",
              "    .dataframe thead th {\n",
              "        text-align: right;\n",
              "    }\n",
              "</style>\n",
              "<table border=\"1\" class=\"dataframe\">\n",
              "  <thead>\n",
              "    <tr style=\"text-align: right;\">\n",
              "      <th></th>\n",
              "      <th>true</th>\n",
              "      <th>pred</th>\n",
              "    </tr>\n",
              "  </thead>\n",
              "  <tbody>\n",
              "    <tr>\n",
              "      <th>132</th>\n",
              "      <td>0</td>\n",
              "      <td>1</td>\n",
              "    </tr>\n",
              "    <tr>\n",
              "      <th>267</th>\n",
              "      <td>0</td>\n",
              "      <td>1</td>\n",
              "    </tr>\n",
              "    <tr>\n",
              "      <th>266</th>\n",
              "      <td>1</td>\n",
              "      <td>1</td>\n",
              "    </tr>\n",
              "    <tr>\n",
              "      <th>62</th>\n",
              "      <td>1</td>\n",
              "      <td>1</td>\n",
              "    </tr>\n",
              "    <tr>\n",
              "      <th>110</th>\n",
              "      <td>1</td>\n",
              "      <td>1</td>\n",
              "    </tr>\n",
              "    <tr>\n",
              "      <th>27</th>\n",
              "      <td>1</td>\n",
              "      <td>0</td>\n",
              "    </tr>\n",
              "    <tr>\n",
              "      <th>91</th>\n",
              "      <td>0</td>\n",
              "      <td>1</td>\n",
              "    </tr>\n",
              "    <tr>\n",
              "      <th>189</th>\n",
              "      <td>1</td>\n",
              "      <td>1</td>\n",
              "    </tr>\n",
              "    <tr>\n",
              "      <th>85</th>\n",
              "      <td>1</td>\n",
              "      <td>1</td>\n",
              "    </tr>\n",
              "    <tr>\n",
              "      <th>164</th>\n",
              "      <td>1</td>\n",
              "      <td>1</td>\n",
              "    </tr>\n",
              "    <tr>\n",
              "      <th>88</th>\n",
              "      <td>0</td>\n",
              "      <td>1</td>\n",
              "    </tr>\n",
              "    <tr>\n",
              "      <th>11</th>\n",
              "      <td>1</td>\n",
              "      <td>0</td>\n",
              "    </tr>\n",
              "    <tr>\n",
              "      <th>139</th>\n",
              "      <td>0</td>\n",
              "      <td>0</td>\n",
              "    </tr>\n",
              "    <tr>\n",
              "      <th>174</th>\n",
              "      <td>1</td>\n",
              "      <td>1</td>\n",
              "    </tr>\n",
              "    <tr>\n",
              "      <th>12</th>\n",
              "      <td>0</td>\n",
              "      <td>1</td>\n",
              "    </tr>\n",
              "    <tr>\n",
              "      <th>18</th>\n",
              "      <td>0</td>\n",
              "      <td>1</td>\n",
              "    </tr>\n",
              "    <tr>\n",
              "      <th>291</th>\n",
              "      <td>1</td>\n",
              "      <td>1</td>\n",
              "    </tr>\n",
              "    <tr>\n",
              "      <th>59</th>\n",
              "      <td>0</td>\n",
              "      <td>1</td>\n",
              "    </tr>\n",
              "    <tr>\n",
              "      <th>243</th>\n",
              "      <td>1</td>\n",
              "      <td>1</td>\n",
              "    </tr>\n",
              "    <tr>\n",
              "      <th>207</th>\n",
              "      <td>0</td>\n",
              "      <td>0</td>\n",
              "    </tr>\n",
              "    <tr>\n",
              "      <th>119</th>\n",
              "      <td>0</td>\n",
              "      <td>1</td>\n",
              "    </tr>\n",
              "    <tr>\n",
              "      <th>127</th>\n",
              "      <td>1</td>\n",
              "      <td>1</td>\n",
              "    </tr>\n",
              "    <tr>\n",
              "      <th>102</th>\n",
              "      <td>0</td>\n",
              "      <td>1</td>\n",
              "    </tr>\n",
              "    <tr>\n",
              "      <th>177</th>\n",
              "      <td>0</td>\n",
              "      <td>1</td>\n",
              "    </tr>\n",
              "    <tr>\n",
              "      <th>154</th>\n",
              "      <td>1</td>\n",
              "      <td>1</td>\n",
              "    </tr>\n",
              "    <tr>\n",
              "      <th>90</th>\n",
              "      <td>1</td>\n",
              "      <td>1</td>\n",
              "    </tr>\n",
              "    <tr>\n",
              "      <th>146</th>\n",
              "      <td>1</td>\n",
              "      <td>0</td>\n",
              "    </tr>\n",
              "    <tr>\n",
              "      <th>204</th>\n",
              "      <td>0</td>\n",
              "      <td>1</td>\n",
              "    </tr>\n",
              "    <tr>\n",
              "      <th>51</th>\n",
              "      <td>0</td>\n",
              "      <td>0</td>\n",
              "    </tr>\n",
              "    <tr>\n",
              "      <th>229</th>\n",
              "      <td>0</td>\n",
              "      <td>1</td>\n",
              "    </tr>\n",
              "    <tr>\n",
              "      <th>157</th>\n",
              "      <td>0</td>\n",
              "      <td>1</td>\n",
              "    </tr>\n",
              "    <tr>\n",
              "      <th>105</th>\n",
              "      <td>0</td>\n",
              "      <td>1</td>\n",
              "    </tr>\n",
              "    <tr>\n",
              "      <th>181</th>\n",
              "      <td>1</td>\n",
              "      <td>0</td>\n",
              "    </tr>\n",
              "    <tr>\n",
              "      <th>185</th>\n",
              "      <td>0</td>\n",
              "      <td>1</td>\n",
              "    </tr>\n",
              "    <tr>\n",
              "      <th>123</th>\n",
              "      <td>0</td>\n",
              "      <td>1</td>\n",
              "    </tr>\n",
              "    <tr>\n",
              "      <th>258</th>\n",
              "      <td>0</td>\n",
              "      <td>1</td>\n",
              "    </tr>\n",
              "    <tr>\n",
              "      <th>290</th>\n",
              "      <td>1</td>\n",
              "      <td>1</td>\n",
              "    </tr>\n",
              "    <tr>\n",
              "      <th>289</th>\n",
              "      <td>0</td>\n",
              "      <td>1</td>\n",
              "    </tr>\n",
              "    <tr>\n",
              "      <th>232</th>\n",
              "      <td>1</td>\n",
              "      <td>1</td>\n",
              "    </tr>\n",
              "    <tr>\n",
              "      <th>180</th>\n",
              "      <td>0</td>\n",
              "      <td>1</td>\n",
              "    </tr>\n",
              "    <tr>\n",
              "      <th>279</th>\n",
              "      <td>1</td>\n",
              "      <td>1</td>\n",
              "    </tr>\n",
              "    <tr>\n",
              "      <th>274</th>\n",
              "      <td>1</td>\n",
              "      <td>1</td>\n",
              "    </tr>\n",
              "    <tr>\n",
              "      <th>218</th>\n",
              "      <td>1</td>\n",
              "      <td>1</td>\n",
              "    </tr>\n",
              "    <tr>\n",
              "      <th>202</th>\n",
              "      <td>1</td>\n",
              "      <td>1</td>\n",
              "    </tr>\n",
              "    <tr>\n",
              "      <th>208</th>\n",
              "      <td>0</td>\n",
              "      <td>0</td>\n",
              "    </tr>\n",
              "    <tr>\n",
              "      <th>120</th>\n",
              "      <td>0</td>\n",
              "      <td>1</td>\n",
              "    </tr>\n",
              "    <tr>\n",
              "      <th>89</th>\n",
              "      <td>1</td>\n",
              "      <td>1</td>\n",
              "    </tr>\n",
              "    <tr>\n",
              "      <th>280</th>\n",
              "      <td>1</td>\n",
              "      <td>0</td>\n",
              "    </tr>\n",
              "    <tr>\n",
              "      <th>238</th>\n",
              "      <td>0</td>\n",
              "      <td>1</td>\n",
              "    </tr>\n",
              "    <tr>\n",
              "      <th>99</th>\n",
              "      <td>0</td>\n",
              "      <td>1</td>\n",
              "    </tr>\n",
              "    <tr>\n",
              "      <th>214</th>\n",
              "      <td>0</td>\n",
              "      <td>1</td>\n",
              "    </tr>\n",
              "    <tr>\n",
              "      <th>224</th>\n",
              "      <td>0</td>\n",
              "      <td>1</td>\n",
              "    </tr>\n",
              "    <tr>\n",
              "      <th>39</th>\n",
              "      <td>1</td>\n",
              "      <td>1</td>\n",
              "    </tr>\n",
              "    <tr>\n",
              "      <th>58</th>\n",
              "      <td>1</td>\n",
              "      <td>1</td>\n",
              "    </tr>\n",
              "    <tr>\n",
              "      <th>179</th>\n",
              "      <td>0</td>\n",
              "      <td>1</td>\n",
              "    </tr>\n",
              "    <tr>\n",
              "      <th>201</th>\n",
              "      <td>0</td>\n",
              "      <td>1</td>\n",
              "    </tr>\n",
              "    <tr>\n",
              "      <th>117</th>\n",
              "      <td>0</td>\n",
              "      <td>1</td>\n",
              "    </tr>\n",
              "    <tr>\n",
              "      <th>4</th>\n",
              "      <td>0</td>\n",
              "      <td>1</td>\n",
              "    </tr>\n",
              "    <tr>\n",
              "      <th>17</th>\n",
              "      <td>1</td>\n",
              "      <td>1</td>\n",
              "    </tr>\n",
              "  </tbody>\n",
              "</table>\n",
              "</div>"
            ],
            "text/plain": [
              "     true  pred\n",
              "132     0     1\n",
              "267     0     1\n",
              "266     1     1\n",
              "62      1     1\n",
              "110     1     1\n",
              "27      1     0\n",
              "91      0     1\n",
              "189     1     1\n",
              "85      1     1\n",
              "164     1     1\n",
              "88      0     1\n",
              "11      1     0\n",
              "139     0     0\n",
              "174     1     1\n",
              "12      0     1\n",
              "18      0     1\n",
              "291     1     1\n",
              "59      0     1\n",
              "243     1     1\n",
              "207     0     0\n",
              "119     0     1\n",
              "127     1     1\n",
              "102     0     1\n",
              "177     0     1\n",
              "154     1     1\n",
              "90      1     1\n",
              "146     1     0\n",
              "204     0     1\n",
              "51      0     0\n",
              "229     0     1\n",
              "157     0     1\n",
              "105     0     1\n",
              "181     1     0\n",
              "185     0     1\n",
              "123     0     1\n",
              "258     0     1\n",
              "290     1     1\n",
              "289     0     1\n",
              "232     1     1\n",
              "180     0     1\n",
              "279     1     1\n",
              "274     1     1\n",
              "218     1     1\n",
              "202     1     1\n",
              "208     0     0\n",
              "120     0     1\n",
              "89      1     1\n",
              "280     1     0\n",
              "238     0     1\n",
              "99      0     1\n",
              "214     0     1\n",
              "224     0     1\n",
              "39      1     1\n",
              "58      1     1\n",
              "179     0     1\n",
              "201     0     1\n",
              "117     0     1\n",
              "4       0     1\n",
              "17      1     1"
            ]
          },
          "execution_count": 16,
          "metadata": {},
          "output_type": "execute_result"
        }
      ],
      "source": [
        "pd.DataFrame({'true':y_test, 'pred':y_pred })"
      ]
    },
    {
      "cell_type": "markdown",
      "metadata": {
        "id": "sl-NWowR2C7M"
      },
      "source": [
        "Let's evaluate the goodness of our classifier"
      ]
    },
    {
      "cell_type": "code",
      "execution_count": null,
      "metadata": {
        "colab": {
          "base_uri": "https://localhost:8080/",
          "height": 34
        },
        "id": "bGVgf1YC2C7N",
        "outputId": "baad42b0-77c4-4050-d7bb-24708698a2ed"
      },
      "outputs": [
        {
          "data": {
            "text/plain": [
              "0.4406779661016949"
            ]
          },
          "execution_count": 16,
          "metadata": {
            "tags": []
          },
          "output_type": "execute_result"
        }
      ],
      "source": [
        "accuracy_score(y_test, y_pred)"
      ]
    },
    {
      "cell_type": "markdown",
      "metadata": {
        "id": "gMgyGpJLpWOf"
      },
      "source": [
        "### Normalization"
      ]
    },
    {
      "cell_type": "markdown",
      "metadata": {
        "id": "K5_V8n4S2C7T"
      },
      "source": [
        "Very bad. Our classifier is just a random guess!\n",
        "\n",
        "Let' first normalize. Normalization is important every time you use a sigmoid (as in Logistic Regression)."
      ]
    },
    {
      "cell_type": "code",
      "execution_count": 17,
      "metadata": {
        "id": "5OmlabtC2C7V",
        "scrolled": true
      },
      "outputs": [],
      "source": [
        "scaler = StandardScaler()\n",
        "scaler.fit(X_train)\n",
        "X_train_scaled = scaler.transform(X_train)"
      ]
    },
    {
      "cell_type": "code",
      "execution_count": 18,
      "metadata": {
        "id": "DeZ69DAm2C7Z"
      },
      "outputs": [],
      "source": [
        "model = LogisticRegression(C=1)\n",
        "model.fit(X_train_scaled, y_train)\n",
        "X_test_scaled = scaler.transform(X_test)\n",
        "y_pred = model.predict(X_test_scaled)"
      ]
    },
    {
      "cell_type": "code",
      "execution_count": 19,
      "metadata": {
        "colab": {
          "base_uri": "https://localhost:8080/",
          "height": 34
        },
        "id": "HltmJCVd2C7e",
        "outputId": "9d80131d-85c9-4f9d-8e49-c7f5f92f737a",
        "scrolled": true
      },
      "outputs": [
        {
          "data": {
            "text/plain": [
              "0.7627118644067796"
            ]
          },
          "execution_count": 19,
          "metadata": {},
          "output_type": "execute_result"
        }
      ],
      "source": [
        "accuracy_score(y_pred, y_test)"
      ]
    },
    {
      "cell_type": "markdown",
      "metadata": {
        "id": "7u0n5kBc2C7j"
      },
      "source": [
        "Better."
      ]
    },
    {
      "cell_type": "markdown",
      "metadata": {
        "id": "jAqat1Av2C7k"
      },
      "source": [
        "## Decision boundary"
      ]
    },
    {
      "cell_type": "markdown",
      "metadata": {
        "id": "H_P9qOsT2C7l"
      },
      "source": [
        "Let's plot our dataset"
      ]
    },
    {
      "cell_type": "code",
      "execution_count": 20,
      "metadata": {
        "colab": {
          "base_uri": "https://localhost:8080/",
          "height": 606
        },
        "id": "8qcVuP9K2C7n",
        "outputId": "d1ae3d00-2170-41ea-b69d-b3dbd24e0aa2"
      },
      "outputs": [
        {
          "data": {
            "image/png": "[encoded data removed]",
            "text/plain": [
              "<Figure size 1000x1000 with 1 Axes>"
            ]
          },
          "metadata": {},
          "output_type": "display_data"
        }
      ],
      "source": [
        "fig, ax = plt.subplots(figsize=(10,10) )\n",
        "\n",
        "X = df[columns]\n",
        "\n",
        "X_scaled = scaler.transform(X)\n",
        "\n",
        "BytesReceived0_scaled = X_scaled[:,0]\n",
        "PacketsSent0_scaled = X_scaled[:,1]\n",
        "\n",
        "scatter = ax.scatter(BytesReceived0_scaled, PacketsSent0_scaled,\n",
        "          c=df['high_res'], cmap='bwr', s=14)\n",
        "\n",
        "\n",
        "ax.set(xlabel=\"BytesReceived0_scaled\", ylabel=\"PacketsSent0_scaled\" )\n",
        "\n",
        "# Add the legend associated to the different colors\n",
        "legend = ax.legend(*scatter.legend_elements() )"
      ]
    },
    {
      "cell_type": "markdown",
      "metadata": {
        "id": "m0Uox9uh2C78"
      },
      "source": [
        "Let's plot the decision boundary, i.e. the surface that separates the regions of the space in which prediction is `1` from the ones in which preciction is `0`."
      ]
    },
    {
      "cell_type": "code",
      "execution_count": 21,
      "metadata": {
        "colab": {
          "base_uri": "https://localhost:8080/",
          "height": 382
        },
        "id": "xWm4lF5i2C7-",
        "outputId": "0e35539f-6779-4c96-c24b-af762524bce7"
      },
      "outputs": [
        {
          "name": "stdout",
          "output_type": "stream",
          "text": [
            "The grid is  [[-1.07158236 -0.89800608]\n",
            " [-1.07158236 -0.79800608]\n",
            " [-1.07158236 -0.69800608]\n",
            " ...\n",
            " [ 6.92841764  7.00199392]\n",
            " [ 6.92841764  7.10199392]\n",
            " [ 6.92841764  7.20199392]]\n",
            "The probability associated to each point is [0.4088402  0.45242172 0.49674521 ... 0.99567488 0.9963771  0.99696566]\n",
            "After reshaping [[4.08840204e-01 4.52421722e-01 4.96745207e-01 ... 9.99998858e-01\n",
            "  9.99999044e-01 9.99999200e-01]\n",
            " [3.84187193e-01 4.27039124e-01 4.71014912e-01 ... 9.99998734e-01\n",
            "  9.99998941e-01 9.99999113e-01]\n",
            " [3.60115184e-01 4.02035033e-01 4.45437734e-01 ... 9.99998597e-01\n",
            "  9.99998826e-01 9.99999017e-01]\n",
            " ...\n",
            " [2.23304606e-04 2.66764068e-04 3.18678899e-04 ... 9.96477597e-01\n",
            "  9.97049879e-01 9.97529413e-01]\n",
            " [2.01443212e-04 2.40649042e-04 2.87483102e-04 ... 9.96096740e-01\n",
            "  9.96730696e-01 9.97261970e-01]\n",
            " [1.81721647e-04 2.17090007e-04 2.59340300e-04 ... 9.95674881e-01\n",
            "  9.96377105e-01 9.96965664e-01]]\n"
          ]
        }
      ],
      "source": [
        "# This code is not important to understand\n",
        "\n",
        "### First, create a grid of points\n",
        "horiz_min = min(BytesReceived0_scaled)\n",
        "vert_min = min(PacketsSent0_scaled)\n",
        "horiz_max = max(BytesReceived0_scaled)\n",
        "vert_max = max(PacketsSent0_scaled)\n",
        "\n",
        "grid_step=0.1\n",
        "\n",
        "horiz_part, vert_part = \\\n",
        "    np.mgrid[horiz_min:horiz_max:grid_step, \n",
        "             vert_min:vert_max:grid_step]\n",
        "grid = np.c_[horiz_part.ravel(), vert_part.ravel()]\n",
        "print (\"The grid is \", grid)\n",
        "grid_probability = model.predict_proba(grid)[:,1]\n",
        "print(\"The probability associated to each point is\", grid_probability)\n",
        "grid_probability = grid_probability.reshape(horiz_part.shape)\n",
        "print(\"After reshaping\", grid_probability)"
      ]
    },
    {
      "cell_type": "code",
      "execution_count": 29,
      "metadata": {
        "id": "oG-EfSDB2C8B"
      },
      "outputs": [],
      "source": [
        "### Now, add to the scatterplot the decision boundaruy\n",
        "\n",
        "ax.contour(horiz_part, vert_part, grid_probability, [0.5])\n",
        "fig.savefig(\"decision_boundary.png\")\n",
        "\n",
        "if savefigures:\n",
        "  from google.colab import drive\n",
        "  mount_point = '/content/gdrive'\n",
        "  drive.mount(mount_point, force_remount=True)\n",
        "  drive_path = mount_point+'/My Drive/'\n",
        "  my_path = drive_path + 'tsp/teaching/data-science-for-networks/img-from-code/03.classification/'\n",
        "\n",
        "  fig.savefig(my_path+'linear-class.pdf')\n"
      ]
    },
    {
      "cell_type": "markdown",
      "metadata": {
        "id": "PyPnq8NZ2C8H"
      },
      "source": [
        "# Multinomial Logistic Regression"
      ]
    },
    {
      "cell_type": "markdown",
      "metadata": {
        "id": "aE_gaqdK2C8J"
      },
      "source": [
        "Let' create three catagories: \n",
        "\n",
        "* 0: low resolution\n",
        "* 1: mid resolution\n",
        "* 2: high resolution"
      ]
    },
    {
      "cell_type": "code",
      "execution_count": 30,
      "metadata": {
        "id": "ZbONZ0U52C8K"
      },
      "outputs": [],
      "source": [
        "threshold1=240\n",
        "threshold2=480\n",
        "\n",
        "res = [0 if d < threshold1 \n",
        "       else 1 if threshold1 <= d < threshold2\n",
        "       else 2\n",
        "      for d in df['label_num'] \n",
        "      ]\n",
        "\n",
        "df['res'] = res\n"
      ]
    },
    {
      "cell_type": "markdown",
      "metadata": {
        "id": "hOk3oxQ22C8P"
      },
      "source": [
        "Let's create a pipeline to scale (important when we regularize) and then apply Multinomial Regression"
      ]
    },
    {
      "cell_type": "code",
      "execution_count": 31,
      "metadata": {
        "id": "_SoPMXCU2C8R"
      },
      "outputs": [],
      "source": [
        "def MyMultinomialRegression(C=1e-9):\n",
        "    return make_pipeline(\n",
        "        StandardScaler(),\n",
        "        LogisticRegression(multi_class=\"multinomial\", solver=\"lbfgs\", C=C)\n",
        "    )\n",
        "\n",
        "# lbfgs is an improved version of gradient descent:\n",
        "# https://en.wikipedia.org/wiki/Limited-memory_BFGS"
      ]
    },
    {
      "cell_type": "markdown",
      "metadata": {
        "id": "aQPwGu-F2C8U"
      },
      "source": [
        "Now that we added another column to `df`, we need to divide the new `df` into train and test set again.\n",
        "\n",
        "Note: if we use the same seed (`random_state`) as before, the same samples as before will fall in the train and test set."
      ]
    },
    {
      "cell_type": "code",
      "execution_count": 32,
      "metadata": {
        "colab": {
          "base_uri": "https://localhost:8080/",
          "height": 225
        },
        "id": "PdQY8W_32C8W",
        "outputId": "8c2ff658-52d2-4b07-af8a-512cf44af724"
      },
      "outputs": [
        {
          "data": {
            "text/html": [
              "<style>#sk-container-id-2 {color: black;background-color: white;}#sk-container-id-2 pre{padding: 0;}#sk-container-id-2 div.sk-toggleable {background-color: white;}#sk-container-id-2 label.sk-toggleable__label {cursor: pointer;display: block;width: 100%;margin-bottom: 0;padding: 0.3em;box-sizing: border-box;text-align: center;}#sk-container-id-2 label.sk-toggleable__label-arrow:before {content: \"▸\";float: left;margin-right: 0.25em;color: #696969;}#sk-container-id-2 label.sk-toggleable__label-arrow:hover:before {color: black;}#sk-container-id-2 div.sk-estimator:hover label.sk-toggleable__label-arrow:before {color: black;}#sk-container-id-2 div.sk-toggleable__content {max-height: 0;max-width: 0;overflow: hidden;text-align: left;background-color: #f0f8ff;}#sk-container-id-2 div.sk-toggleable__content pre {margin: 0.2em;color: black;border-radius: 0.25em;background-color: #f0f8ff;}#sk-container-id-2 input.sk-toggleable__control:checked~div.sk-toggleable__content {max-height: 200px;max-width: 100%;overflow: auto;}#sk-container-id-2 input.sk-toggleable__control:checked~label.sk-toggleable__label-arrow:before {content: \"▾\";}#sk-container-id-2 div.sk-estimator input.sk-toggleable__control:checked~label.sk-toggleable__label {background-color: #d4ebff;}#sk-container-id-2 div.sk-label input.sk-toggleable__control:checked~label.sk-toggleable__label {background-color: #d4ebff;}#sk-container-id-2 input.sk-hidden--visually {border: 0;clip: rect(1px 1px 1px 1px);clip: rect(1px, 1px, 1px, 1px);height: 1px;margin: -1px;overflow: hidden;padding: 0;position: absolute;width: 1px;}#sk-container-id-2 div.sk-estimator {font-family: monospace;background-color: #f0f8ff;border: 1px dotted black;border-radius: 0.25em;box-sizing: border-box;margin-bottom: 0.5em;}#sk-container-id-2 div.sk-estimator:hover {background-color: #d4ebff;}#sk-container-id-2 div.sk-parallel-item::after {content: \"\";width: 100%;border-bottom: 1px solid gray;flex-grow: 1;}#sk-container-id-2 div.sk-label:hover label.sk-toggleable__label {background-color: #d4ebff;}#sk-container-id-2 div.sk-serial::before {content: \"\";position: absolute;border-left: 1px solid gray;box-sizing: border-box;top: 0;bottom: 0;left: 50%;z-index: 0;}#sk-container-id-2 div.sk-serial {display: flex;flex-direction: column;align-items: center;background-color: white;padding-right: 0.2em;padding-left: 0.2em;position: relative;}#sk-container-id-2 div.sk-item {position: relative;z-index: 1;}#sk-container-id-2 div.sk-parallel {display: flex;align-items: stretch;justify-content: center;background-color: white;position: relative;}#sk-container-id-2 div.sk-item::before, #sk-container-id-2 div.sk-parallel-item::before {content: \"\";position: absolute;border-left: 1px solid gray;box-sizing: border-box;top: 0;bottom: 0;left: 50%;z-index: -1;}#sk-container-id-2 div.sk-parallel-item {display: flex;flex-direction: column;z-index: 1;position: relative;background-color: white;}#sk-container-id-2 div.sk-parallel-item:first-child::after {align-self: flex-end;width: 50%;}#sk-container-id-2 div.sk-parallel-item:last-child::after {align-self: flex-start;width: 50%;}#sk-container-id-2 div.sk-parallel-item:only-child::after {width: 0;}#sk-container-id-2 div.sk-dashed-wrapped {border: 1px dashed gray;margin: 0 0.4em 0.5em 0.4em;box-sizing: border-box;padding-bottom: 0.4em;background-color: white;}#sk-container-id-2 div.sk-label label {font-family: monospace;font-weight: bold;display: inline-block;line-height: 1.2em;}#sk-container-id-2 div.sk-label-container {text-align: center;}#sk-container-id-2 div.sk-container {/* jupyter's `normalize.less` sets `[hidden] { display: none; }` but bootstrap.min.css set `[hidden] { display: none !important; }` so we also need the `!important` here to be able to override the default hidden behavior on the sphinx rendered scikit-learn.org. See: https://github.com/scikit-learn/scikit-learn/issues/21755 */display: inline-block !important;position: relative;}#sk-container-id-2 div.sk-text-repr-fallback {display: none;}</style><div id=\"sk-container-id-2\" class=\"sk-top-container\"><div class=\"sk-text-repr-fallback\"><pre>Pipeline(steps=[(&#x27;standardscaler&#x27;, StandardScaler()),\n",
              "                (&#x27;logisticregression&#x27;,\n",
              "                 LogisticRegression(C=1, multi_class=&#x27;multinomial&#x27;))])</pre><b>In a Jupyter environment, please rerun this cell to show the HTML representation or trust the notebook. <br />On GitHub, the HTML representation is unable to render, please try loading this page with nbviewer.org.</b></div><div class=\"sk-container\" hidden><div class=\"sk-item sk-dashed-wrapped\"><div class=\"sk-label-container\"><div class=\"sk-label sk-toggleable\"><input class=\"sk-toggleable__control sk-hidden--visually\" id=\"sk-estimator-id-2\" type=\"checkbox\" ><label for=\"sk-estimator-id-2\" class=\"sk-toggleable__label sk-toggleable__label-arrow\">Pipeline</label><div class=\"sk-toggleable__content\"><pre>Pipeline(steps=[(&#x27;standardscaler&#x27;, StandardScaler()),\n",
              "                (&#x27;logisticregression&#x27;,\n",
              "                 LogisticRegression(C=1, multi_class=&#x27;multinomial&#x27;))])</pre></div></div></div><div class=\"sk-serial\"><div class=\"sk-item\"><div class=\"sk-estimator sk-toggleable\"><input class=\"sk-toggleable__control sk-hidden--visually\" id=\"sk-estimator-id-3\" type=\"checkbox\" ><label for=\"sk-estimator-id-3\" class=\"sk-toggleable__label sk-toggleable__label-arrow\">StandardScaler</label><div class=\"sk-toggleable__content\"><pre>StandardScaler()</pre></div></div></div><div class=\"sk-item\"><div class=\"sk-estimator sk-toggleable\"><input class=\"sk-toggleable__control sk-hidden--visually\" id=\"sk-estimator-id-4\" type=\"checkbox\" ><label for=\"sk-estimator-id-4\" class=\"sk-toggleable__label sk-toggleable__label-arrow\">LogisticRegression</label><div class=\"sk-toggleable__content\"><pre>LogisticRegression(C=1, multi_class=&#x27;multinomial&#x27;)</pre></div></div></div></div></div></div></div>"
            ],
            "text/plain": [
              "Pipeline(steps=[('standardscaler', StandardScaler()),\n",
              "                ('logisticregression',\n",
              "                 LogisticRegression(C=1, multi_class='multinomial'))])"
            ]
          },
          "execution_count": 32,
          "metadata": {},
          "output_type": "execute_result"
        }
      ],
      "source": [
        "df_train, df_test = train_test_split(df,test_size=0.2, random_state=1)\n",
        "\n",
        "y_train = df_train['res']\n",
        "y_test = df_test['res']\n",
        "\n",
        "model = MyMultinomialRegression(C=1)\n",
        "model.fit(X_train, y_train)"
      ]
    },
    {
      "cell_type": "code",
      "execution_count": 33,
      "metadata": {
        "colab": {
          "base_uri": "https://localhost:8080/",
          "height": 69
        },
        "id": "PCSrfwdv2C8b",
        "outputId": "5a5ef2ad-95c3-4206-9db4-034552e66983"
      },
      "outputs": [
        {
          "data": {
            "text/plain": [
              "array([1, 2, 2, 2, 2, 2, 2, 2, 2, 2, 2, 2, 2, 2, 2, 2, 2, 2, 2, 2, 2, 2,\n",
              "       2, 2, 2, 2, 2, 2, 2, 2, 2, 2, 2, 2, 2, 2, 2, 2, 2, 2, 2, 2, 2, 2,\n",
              "       2, 2, 2, 2, 2, 2, 2, 2, 2, 2, 2, 2, 2, 1, 2])"
            ]
          },
          "execution_count": 33,
          "metadata": {},
          "output_type": "execute_result"
        }
      ],
      "source": [
        "y_pred = model.predict(X_test)\n",
        "y_pred"
      ]
    },
    {
      "cell_type": "code",
      "execution_count": 34,
      "metadata": {
        "colab": {
          "base_uri": "https://localhost:8080/",
          "height": 34
        },
        "id": "m8nWw-Wf2C8e",
        "outputId": "8488a37b-c7bb-483d-db0f-2a20bbdd4b23"
      },
      "outputs": [
        {
          "data": {
            "text/plain": [
              "0.7288135593220338"
            ]
          },
          "execution_count": 34,
          "metadata": {},
          "output_type": "execute_result"
        }
      ],
      "source": [
        "accuracy_score(y_pred, y_test)"
      ]
    },
    {
      "cell_type": "markdown",
      "metadata": {
        "id": "PLe7p2wo2C8i"
      },
      "source": [
        "Accuracy may be a misleading. To really understand the performance of the classifier, we need to plot a confusion matrix. We will use a function I created for you. Let's check its documentation."
      ]
    },
    {
      "cell_type": "code",
      "execution_count": 35,
      "metadata": {
        "colab": {
          "base_uri": "https://localhost:8080/",
          "height": 642
        },
        "id": "j5xR3JYkJXq0",
        "outputId": "54fc2e4e-aa83-4df3-99ac-a5b2974c0bd5"
      },
      "outputs": [
        {
          "name": "stdout",
          "output_type": "stream",
          "text": [
            "\n",
            " \t\tThis function prints and plots the confusion matrix.\n",
            " \t\tIn case of errors, you may need to do \n",
            " \t\t\t\tclass_names = np.array(class_names)\n",
            " \t\tbefore calling this function.\n",
            "\n",
            "\n",
            " \t\tParameters:\n",
            " \t\t--------------------------\n",
            "\t\ttarget: The array of the true categories. It contains as many values \n",
            "\t\t\t\tas the number of samples. Each value is an integer number \n",
            "\t\t\t\tcorresponding to a certain category. This array represents \n",
            "\t\t\t\tthe true category of each sample.\n",
            "\t\t\n",
            "\t\tpredicted:\tIt has the same format, but it does not represent the true \n",
            "\t\t\t\t\tcategory, rather it represents the result of a model.\n",
            "\n",
            "\t\tclass_names:\tArray of strings, where the first. The k-th element\n",
            "\t\t\t\t\t\tis the name of the k-th class\n",
            "\n",
            "\t\tnormalize: \t(default=True) If False, it just prints the number of values in \n",
            "\t\t\t\t\t\teach cell. Otherwise it prints the frequencies, i.e.\n",
            "\t\t\t\t\t\tthe sum over each row is 1\n",
            "\n",
            "\t\ttitle: \t(default=None) Title of the figure\n",
            "\n",
            "\t\tcmap: \t(default=plt.cm.viridis) Color map\n",
            "\n",
            "\t\ttext:\t(default=True) If True it prints numerical values on each cell. Otherwise\n",
            "\t\t\t\tit just shows the colors\n",
            "\n",
            "\n",
            "\t\twidth: \t(default=8) Of the figure\n",
            "\n",
            "\t\theight:\t(default=8) Of the figure\n",
            " \t\t\n"
          ]
        }
      ],
      "source": [
        "print(plot_conf_mat.__doc__)"
      ]
    },
    {
      "cell_type": "code",
      "execution_count": 36,
      "metadata": {
        "colab": {
          "base_uri": "https://localhost:8080/",
          "height": 672
        },
        "id": "nOdXm8Q-2C8j",
        "outputId": "65c994d0-f448-4f7e-f72c-bab47dedf744"
      },
      "outputs": [
        {
          "name": "stdout",
          "output_type": "stream",
          "text": [
            "Normalized confusion matrix\n",
            "[[0.  0.  1. ]\n",
            " [0.  0.2 0.8]\n",
            " [0.  0.  1. ]]\n"
          ]
        },
        {
          "data": {
            "text/plain": [
              "<matplotlib.axes._subplots.AxesSubplot at 0x7f28381b23a0>"
            ]
          },
          "execution_count": 36,
          "metadata": {},
          "output_type": "execute_result"
        },
        {
          "data": {
            "image/png": "[encoded data removed]",
            "text/plain": [
              "<Figure size 800x800 with 2 Axes>"
            ]
          },
          "metadata": {},
          "output_type": "display_data"
        }
      ],
      "source": [
        "class_names=np.array([\"low\", \"mid\", \"high\"] )\n",
        "\n",
        "plot_conf_mat(y_test, y_pred, class_names)"
      ]
    },
    {
      "cell_type": "markdown",
      "metadata": {
        "id": "t-SU4V24Nv5Q"
      },
      "source": [
        "You can customize the confusion matrix more. For instance you may change the size. If you have many labels, you may need to remove numbers printed."
      ]
    },
    {
      "cell_type": "code",
      "execution_count": 37,
      "metadata": {
        "colab": {
          "base_uri": "https://localhost:8080/",
          "height": 372
        },
        "id": "mvMnA5jbOSnU",
        "outputId": "8a6e8e27-0955-4547-f17a-21c0d21597a7"
      },
      "outputs": [
        {
          "name": "stdout",
          "output_type": "stream",
          "text": [
            "Confusion matrix, without normalization\n",
            "[[ 0  0  8]\n",
            " [ 0  2  8]\n",
            " [ 0  0 41]]\n"
          ]
        },
        {
          "data": {
            "text/plain": [
              "<matplotlib.axes._subplots.AxesSubplot at 0x7f2838680e80>"
            ]
          },
          "execution_count": 37,
          "metadata": {},
          "output_type": "execute_result"
        },
        {
          "data": {
            "image/png": "[encoded data removed]",
            "text/plain": [
              "<Figure size 400x400 with 2 Axes>"
            ]
          },
          "metadata": {},
          "output_type": "display_data"
        }
      ],
      "source": [
        "plot_conf_mat(y_test, y_pred, class_names, normalize=False, \n",
        "              title=\"My beautiful confusion matrix\", cmap=plt.cm.viridis, \n",
        "              text=False, width=4, height=4)"
      ]
    },
    {
      "cell_type": "markdown",
      "metadata": {
        "id": "2lQOSqFV2C8n"
      },
      "source": [
        "# Class imbalance"
      ]
    },
    {
      "cell_type": "markdown",
      "metadata": {
        "id": "zyRffZ262C8s"
      },
      "source": [
        "Our dataset is quite umbalanced"
      ]
    },
    {
      "cell_type": "code",
      "execution_count": 38,
      "metadata": {
        "colab": {
          "base_uri": "https://localhost:8080/",
          "height": 86
        },
        "id": "C7mxprdx2C8t",
        "outputId": "be87809d-351a-4374-8856-110a05f821ae"
      },
      "outputs": [
        {
          "data": {
            "text/plain": [
              "2    210\n",
              "1     55\n",
              "0     27\n",
              "Name: res, dtype: int64"
            ]
          },
          "execution_count": 38,
          "metadata": {},
          "output_type": "execute_result"
        }
      ],
      "source": [
        "df['res'].value_counts()"
      ]
    },
    {
      "cell_type": "markdown",
      "metadata": {
        "id": "hXvsIvak2C8o"
      },
      "source": [
        "When a class is prevalent, the model adapts to that class: the result is a very bad classifier with a high accuracy. \n",
        "\n",
        "For instance, a silly classifier that always predicts the prevalent class would give good accuracy."
      ]
    },
    {
      "cell_type": "code",
      "execution_count": 39,
      "metadata": {
        "colab": {
          "base_uri": "https://localhost:8080/",
          "height": 34
        },
        "id": "zfNBlXis2C8o",
        "outputId": "0d804429-e2bb-4a43-92a0-52e80f87d492",
        "scrolled": true
      },
      "outputs": [
        {
          "data": {
            "text/plain": [
              "0.6949152542372882"
            ]
          },
          "execution_count": 39,
          "metadata": {},
          "output_type": "execute_result"
        }
      ],
      "source": [
        "y_pred = [2 for i in range(len(y_test))]\n",
        "accuracy_score(y_pred, y_test)"
      ]
    },
    {
      "cell_type": "markdown",
      "metadata": {
        "id": "bgSd23wF2C8w"
      },
      "source": [
        "Simple idea: In the training set, we can create synthetic samples  of the small classes, in order for all the classes to be of the same size. This is done by Synthetic Minority Over-sampling TEchnique (SMOTE):\n",
        "\n",
        "N. V. Chawla, K. W. Bowyer, L. O.Hall, W. P. Kegelmeyer, “SMOTE: synthetic minority over-sampling technique,” Journal of artificial intelligence research, 321-357, 2002.\n",
        "\n",
        "(**~10000 citations!**)\n",
        "\n",
        "Synthetic samples are generated via 5-Nearest Neighbors (we'll see it later)"
      ]
    },
    {
      "cell_type": "code",
      "execution_count": 41,
      "metadata": {
        "colab": {
          "base_uri": "https://localhost:8080/",
          "height": 176
        },
        "id": "MYm2x0n42C8x",
        "outputId": "b4622bcb-8a61-437f-e2da-d4984a9ff074",
        "scrolled": true
      },
      "outputs": [
        {
          "data": {
            "text/plain": [
              "0    169\n",
              "2    169\n",
              "1    169\n",
              "Name: res, dtype: int64"
            ]
          },
          "execution_count": 41,
          "metadata": {},
          "output_type": "execute_result"
        }
      ],
      "source": [
        "smote = SMOTE()\n",
        "\n",
        "X_train_balanced, y_train_balanced = smote.fit_resample(X_train, y_train)\n",
        "pd.value_counts(y_train_balanced)"
      ]
    },
    {
      "cell_type": "markdown",
      "metadata": {
        "id": "e_OqPaJX2C80"
      },
      "source": [
        "We train on the oversampled traing dataset and we test on the original test set."
      ]
    },
    {
      "cell_type": "code",
      "execution_count": 42,
      "metadata": {
        "colab": {
          "base_uri": "https://localhost:8080/",
          "height": 672
        },
        "id": "PlIT7QyK2C81",
        "outputId": "a6fbebbd-431d-49de-f540-f92e31db4b1f"
      },
      "outputs": [
        {
          "name": "stdout",
          "output_type": "stream",
          "text": [
            "Normalized confusion matrix\n",
            "[[0.75       0.125      0.125     ]\n",
            " [0.2        0.6        0.2       ]\n",
            " [0.34146341 0.09756098 0.56097561]]\n"
          ]
        },
        {
          "data": {
            "text/plain": [
              "<matplotlib.axes._subplots.AxesSubplot at 0x7f282f6e2280>"
            ]
          },
          "execution_count": 42,
          "metadata": {},
          "output_type": "execute_result"
        },
        {
          "data": {
            "image/png": "[encoded data removed]",
            "text/plain": [
              "<Figure size 800x800 with 2 Axes>"
            ]
          },
          "metadata": {},
          "output_type": "display_data"
        }
      ],
      "source": [
        "model.fit(X_train_balanced, y_train_balanced)\n",
        "y_pred = model.predict(X_test)\n",
        "plot_conf_mat(y_test, y_pred,class_names)\n"
      ]
    },
    {
      "cell_type": "code",
      "execution_count": 43,
      "metadata": {
        "colab": {
          "base_uri": "https://localhost:8080/",
          "height": 34
        },
        "id": "1OLBtKyT2C85",
        "outputId": "37b6edfc-46ad-44af-993c-30cd7c657036"
      },
      "outputs": [
        {
          "data": {
            "text/plain": [
              "0.5932203389830508"
            ]
          },
          "execution_count": 43,
          "metadata": {},
          "output_type": "execute_result"
        }
      ],
      "source": [
        "accuracy_score(y_pred, y_test)"
      ]
    },
    {
      "cell_type": "markdown",
      "metadata": {
        "id": "FzBccak-2C89"
      },
      "source": [
        "We improved a bit, still the model is not excellent"
      ]
    },
    {
      "cell_type": "markdown",
      "metadata": {
        "id": "gGYic4ID2C8-"
      },
      "source": [
        "Some ideas to improve it further?\n",
        "<details>\n",
        "<summary>\n",
        "CLICK\n",
        "</summary>\n",
        "    \n",
        "* Find the regularization weight via grid search\n",
        "* Try to transform the input\n",
        "* Find the best combination of features manually or via Recursive Feature Elimination\n",
        "    \n",
        "    \n",
        "</details>"
      ]
    },
    {
      "cell_type": "markdown",
      "metadata": {
        "id": "cI8uynV22C9A"
      },
      "source": [
        "A classification report summarizes for us all the important features"
      ]
    },
    {
      "cell_type": "code",
      "execution_count": 44,
      "metadata": {
        "colab": {
          "base_uri": "https://localhost:8080/",
          "height": 191
        },
        "id": "8tbIfLnM2C9B",
        "outputId": "6a6dd5b9-78e6-4183-ebb0-398bf751fa1e"
      },
      "outputs": [
        {
          "name": "stdout",
          "output_type": "stream",
          "text": [
            "              precision    recall  f1-score   support\n",
            "\n",
            "           0       0.27      0.75      0.40         8\n",
            "           1       0.55      0.60      0.57        10\n",
            "           2       0.88      0.56      0.69        41\n",
            "\n",
            "    accuracy                           0.59        59\n",
            "   macro avg       0.57      0.64      0.55        59\n",
            "weighted avg       0.74      0.59      0.63        59\n",
            "\n"
          ]
        }
      ],
      "source": [
        "print( classification_report(y_test, y_pred) )"
      ]
    },
    {
      "cell_type": "markdown",
      "metadata": {
        "id": "BtXzs6fI2C9E"
      },
      "source": [
        "# Grid search\n",
        "\n",
        "Let's find the best regularization weight `C` via grid search. Let's first check what is the correct name of the parameter `C` to which we need to refer."
      ]
    },
    {
      "cell_type": "code",
      "execution_count": 45,
      "metadata": {
        "colab": {
          "base_uri": "https://localhost:8080/",
          "height": 54
        },
        "id": "pl-V_x1n2C9E",
        "outputId": "4dd59211-3112-498a-b5b3-8798e2b7df49"
      },
      "outputs": [
        {
          "data": {
            "text/plain": [
              "dict_keys(['cv', 'error_score', 'estimator__memory', 'estimator__steps', 'estimator__verbose', 'estimator__standardscaler', 'estimator__logisticregression', 'estimator__standardscaler__copy', 'estimator__standardscaler__with_mean', 'estimator__standardscaler__with_std', 'estimator__logisticregression__C', 'estimator__logisticregression__class_weight', 'estimator__logisticregression__dual', 'estimator__logisticregression__fit_intercept', 'estimator__logisticregression__intercept_scaling', 'estimator__logisticregression__l1_ratio', 'estimator__logisticregression__max_iter', 'estimator__logisticregression__multi_class', 'estimator__logisticregression__n_jobs', 'estimator__logisticregression__penalty', 'estimator__logisticregression__random_state', 'estimator__logisticregression__solver', 'estimator__logisticregression__tol', 'estimator__logisticregression__verbose', 'estimator__logisticregression__warm_start', 'estimator', 'n_jobs', 'param_grid', 'pre_dispatch', 'refit', 'return_train_score', 'scoring', 'verbose'])"
            ]
          },
          "execution_count": 45,
          "metadata": {},
          "output_type": "execute_result"
        }
      ],
      "source": [
        "GridSearchCV(MyMultinomialRegression(), [] ).get_params().keys()"
      ]
    },
    {
      "cell_type": "code",
      "execution_count": 46,
      "metadata": {
        "id": "QlWKJmnM2C9K"
      },
      "outputs": [],
      "source": [
        "k_fold = KFold(n_splits=5, shuffle=True, random_state=5)\n",
        "\n",
        "parameters_to_test = [{ 'logisticregression__C': [1e-9, 1e-3, 0.01, 0.1, 1, 10, 100, 1000, 10000] }]\n",
        "\n",
        "# The different scoring metrics available are in:\n",
        "#     https://scikit-learn.org/stable/modules/model_evaluation.html#scoring-parameter\n",
        "grid = GridSearchCV(MyMultinomialRegression(), parameters_to_test, cv=k_fold, \n",
        "                    scoring='f1_macro')"
      ]
    },
    {
      "cell_type": "code",
      "execution_count": 47,
      "metadata": {
        "colab": {
          "base_uri": "https://localhost:8080/",
          "height": 34
        },
        "id": "IuTBAZHl2C9P",
        "outputId": "d41a7b24-de7b-4082-b7e1-cf5ec8fddd52"
      },
      "outputs": [
        {
          "name": "stdout",
          "output_type": "stream",
          "text": [
            "The best regularization weigth is  {'logisticregression__C': 0.1}\n"
          ]
        }
      ],
      "source": [
        "grid.fit(X_train_balanced, y_train_balanced)\n",
        "print(\"The best regularization weigth is \", grid.best_params_)"
      ]
    },
    {
      "cell_type": "code",
      "execution_count": 48,
      "metadata": {
        "colab": {
          "base_uri": "https://localhost:8080/",
          "height": 846
        },
        "id": "Jzi56tvQ2C9S",
        "outputId": "c3c63f85-b9c4-4f8d-cdfd-f63eb6bcf4a2"
      },
      "outputs": [
        {
          "name": "stdout",
          "output_type": "stream",
          "text": [
            "              precision    recall  f1-score   support\n",
            "\n",
            "           0       0.28      0.88      0.42         8\n",
            "           1       0.60      0.60      0.60        10\n",
            "           2       0.88      0.51      0.65        41\n",
            "\n",
            "    accuracy                           0.58        59\n",
            "   macro avg       0.58      0.66      0.56        59\n",
            "weighted avg       0.75      0.58      0.61        59\n",
            "\n",
            "Normalized confusion matrix\n",
            "[[0.875      0.         0.125     ]\n",
            " [0.2        0.6        0.2       ]\n",
            " [0.3902439  0.09756098 0.51219512]]\n"
          ]
        },
        {
          "data": {
            "text/plain": [
              "<matplotlib.axes._subplots.AxesSubplot at 0x7f282f730ac0>"
            ]
          },
          "execution_count": 48,
          "metadata": {},
          "output_type": "execute_result"
        },
        {
          "data": {
            "image/png": "[encoded data removed]",
            "text/plain": [
              "<Figure size 800x800 with 2 Axes>"
            ]
          },
          "metadata": {},
          "output_type": "display_data"
        }
      ],
      "source": [
        "model = grid.best_estimator_\n",
        "model.fit(X_train_balanced, y_train_balanced)\n",
        "y_pred = model.predict(X_test)\n",
        "print(classification_report(y_test, y_pred))\n",
        "plot_conf_mat(y_test, y_pred, class_names)"
      ]
    },
    {
      "cell_type": "code",
      "execution_count": null,
      "metadata": {
        "id": "vVcurkvg2C9V"
      },
      "outputs": [],
      "source": []
    },
    {
      "cell_type": "markdown",
      "metadata": {
        "id": "9MlPJZrX2C8G"
      },
      "source": [
        "Some ideas to improve this model?\n",
        "<details>\n",
        "<summary>\n",
        "CLICK\n",
        "</summary>\n",
        "    \n",
        "* Since data are \"squashed\" towards low value => log-transformation\n",
        "* Find the best combination of features manually or via Recursive Feature Elimination\n",
        "    \n",
        "    \n",
        "</details>"
      ]
    },
    {
      "cell_type": "code",
      "execution_count": null,
      "metadata": {
        "id": "YbfaMzHSNd-y"
      },
      "outputs": [],
      "source": []
    }
  ],
  "metadata": {
    "colab": {
      "name": "c.classification.ipynb",
      "provenance": []
    },
    "kernelspec": {
      "display_name": "Python 3.8.13 ('Tensorflow')",
      "language": "python",
      "name": "python3"
    },
    "language_info": {
      "codemirror_mode": {
        "name": "ipython",
        "version": 3
      },
      "file_extension": ".py",
      "mimetype": "text/x-python",
      "name": "python",
      "nbconvert_exporter": "python",
      "pygments_lexer": "ipython3",
      "version": "3.8.13"
    },
    "vscode": {
      "interpreter": {
        "hash": "832757d2f30ebe0b6d76928c0ee4d6b04acdabf7247de32d62c99207dac792ce"
      }
    }
  },
  "nbformat": 4,
  "nbformat_minor": 0
}
